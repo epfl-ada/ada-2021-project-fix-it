{
 "cells": [
  {
   "cell_type": "code",
   "execution_count": 2,
   "id": "c28df839-dc41-4dd1-ae25-05c97959cb80",
   "metadata": {},
   "outputs": [],
   "source": [
    "import pandas as pd\n",
    "import numpy as np\n",
    "import seaborn as sns\n",
    "from matplotlib import pyplot as plt"
   ]
  },
  {
   "cell_type": "markdown",
   "id": "6efbe554-2dac-4338-bf2d-c2b4b58f1bd3",
   "metadata": {},
   "source": [
    "### The goal of this file will be to make an exploratory analysis of the speaker attributes parquet file (already treated)"
   ]
  },
  {
   "cell_type": "markdown",
   "id": "ac28a2e8-8109-45d5-96fa-83fdd2ecc82c",
   "metadata": {},
   "source": [
    "We are interested in understanding the dataset, finding missing values and plotting the distribution for some of the features"
   ]
  },
  {
   "cell_type": "code",
   "execution_count": 3,
   "id": "e771d819-921d-453c-9e4b-5a1e90350f53",
   "metadata": {},
   "outputs": [
    {
     "data": {
      "text/html": [
       "<div>\n",
       "<style scoped>\n",
       "    .dataframe tbody tr th:only-of-type {\n",
       "        vertical-align: middle;\n",
       "    }\n",
       "\n",
       "    .dataframe tbody tr th {\n",
       "        vertical-align: top;\n",
       "    }\n",
       "\n",
       "    .dataframe thead th {\n",
       "        text-align: right;\n",
       "    }\n",
       "</style>\n",
       "<table border=\"1\" class=\"dataframe\">\n",
       "  <thead>\n",
       "    <tr style=\"text-align: right;\">\n",
       "      <th></th>\n",
       "      <th>aliases</th>\n",
       "      <th>date_of_birth</th>\n",
       "      <th>nationality</th>\n",
       "      <th>gender</th>\n",
       "      <th>lastrevid</th>\n",
       "      <th>ethnic_group</th>\n",
       "      <th>US_congress_bio_ID</th>\n",
       "      <th>occupation</th>\n",
       "      <th>party</th>\n",
       "      <th>academic_degree</th>\n",
       "      <th>id</th>\n",
       "      <th>label</th>\n",
       "      <th>candidacy</th>\n",
       "      <th>type</th>\n",
       "      <th>religion</th>\n",
       "    </tr>\n",
       "  </thead>\n",
       "  <tbody>\n",
       "    <tr>\n",
       "      <th>0</th>\n",
       "      <td>[Washington, President Washington, G. Washingt...</td>\n",
       "      <td>[+1732-02-22T00:00:00Z]</td>\n",
       "      <td>[Great Britain, United States of America]</td>\n",
       "      <td>[male]</td>\n",
       "      <td>1395141751</td>\n",
       "      <td>None</td>\n",
       "      <td>W000178</td>\n",
       "      <td>[politician, military officer, farmer, cartogr...</td>\n",
       "      <td>[independent politician]</td>\n",
       "      <td>None</td>\n",
       "      <td>Q23</td>\n",
       "      <td>George Washington</td>\n",
       "      <td>[1792 United States presidential election, 178...</td>\n",
       "      <td>item</td>\n",
       "      <td>[Episcopal Church]</td>\n",
       "    </tr>\n",
       "    <tr>\n",
       "      <th>1</th>\n",
       "      <td>[Douglas Noel Adams, Douglas Noël Adams, Dougl...</td>\n",
       "      <td>[+1952-03-11T00:00:00Z]</td>\n",
       "      <td>[United Kingdom]</td>\n",
       "      <td>[male]</td>\n",
       "      <td>1395737157</td>\n",
       "      <td>[White British]</td>\n",
       "      <td>None</td>\n",
       "      <td>[playwright, screenwriter, novelist, children'...</td>\n",
       "      <td>None</td>\n",
       "      <td>None</td>\n",
       "      <td>Q42</td>\n",
       "      <td>Douglas Adams</td>\n",
       "      <td>None</td>\n",
       "      <td>item</td>\n",
       "      <td>None</td>\n",
       "    </tr>\n",
       "    <tr>\n",
       "      <th>2</th>\n",
       "      <td>[Paul Marie Ghislain Otlet, Paul Marie Otlet]</td>\n",
       "      <td>[+1868-08-23T00:00:00Z]</td>\n",
       "      <td>[Belgium]</td>\n",
       "      <td>[male]</td>\n",
       "      <td>1380367296</td>\n",
       "      <td>None</td>\n",
       "      <td>None</td>\n",
       "      <td>[writer, lawyer, librarian, information scient...</td>\n",
       "      <td>None</td>\n",
       "      <td>None</td>\n",
       "      <td>Q1868</td>\n",
       "      <td>Paul Otlet</td>\n",
       "      <td>None</td>\n",
       "      <td>item</td>\n",
       "      <td>None</td>\n",
       "    </tr>\n",
       "    <tr>\n",
       "      <th>3</th>\n",
       "      <td>[George Walker Bush, Bush Jr., Dubya, GWB, Bus...</td>\n",
       "      <td>[+1946-07-06T00:00:00Z]</td>\n",
       "      <td>[United States of America]</td>\n",
       "      <td>[male]</td>\n",
       "      <td>1395142029</td>\n",
       "      <td>None</td>\n",
       "      <td>None</td>\n",
       "      <td>[politician, motivational speaker, autobiograp...</td>\n",
       "      <td>[Republican Party]</td>\n",
       "      <td>None</td>\n",
       "      <td>Q207</td>\n",
       "      <td>George W. Bush</td>\n",
       "      <td>[2000 United States presidential election, 200...</td>\n",
       "      <td>item</td>\n",
       "      <td>[United Methodist Church, Episcopal Church, Me...</td>\n",
       "    </tr>\n",
       "    <tr>\n",
       "      <th>4</th>\n",
       "      <td>[Velázquez, Diego Rodríguez de Silva y Velázqu...</td>\n",
       "      <td>[+1599-06-06T00:00:00Z]</td>\n",
       "      <td>[Spain]</td>\n",
       "      <td>[male]</td>\n",
       "      <td>1391704596</td>\n",
       "      <td>None</td>\n",
       "      <td>None</td>\n",
       "      <td>[painter]</td>\n",
       "      <td>None</td>\n",
       "      <td>None</td>\n",
       "      <td>Q297</td>\n",
       "      <td>Diego Velázquez</td>\n",
       "      <td>None</td>\n",
       "      <td>item</td>\n",
       "      <td>None</td>\n",
       "    </tr>\n",
       "    <tr>\n",
       "      <th>5</th>\n",
       "      <td>[Augusto Pinochet Ugarte, Augusto José Ramón P...</td>\n",
       "      <td>[+1915-11-25T00:00:00Z]</td>\n",
       "      <td>[Chile]</td>\n",
       "      <td>[male]</td>\n",
       "      <td>1392242213</td>\n",
       "      <td>None</td>\n",
       "      <td>None</td>\n",
       "      <td>[military officer, politician]</td>\n",
       "      <td>[independent politician]</td>\n",
       "      <td>None</td>\n",
       "      <td>Q368</td>\n",
       "      <td>Augusto Pinochet</td>\n",
       "      <td>None</td>\n",
       "      <td>item</td>\n",
       "      <td>[Catholicism]</td>\n",
       "    </tr>\n",
       "    <tr>\n",
       "      <th>6</th>\n",
       "      <td>[Baudelaire, Charles Pierre Baudelaire-Dufaÿs,...</td>\n",
       "      <td>[+1821-04-09T00:00:00Z]</td>\n",
       "      <td>[France]</td>\n",
       "      <td>[male]</td>\n",
       "      <td>1386699038</td>\n",
       "      <td>[French]</td>\n",
       "      <td>None</td>\n",
       "      <td>[poet, art critic, essayist, translator, write...</td>\n",
       "      <td>None</td>\n",
       "      <td>None</td>\n",
       "      <td>Q501</td>\n",
       "      <td>Charles Baudelaire</td>\n",
       "      <td>None</td>\n",
       "      <td>item</td>\n",
       "      <td>[Catholicism]</td>\n",
       "    </tr>\n",
       "    <tr>\n",
       "      <th>7</th>\n",
       "      <td>[Mikołaj Kopernik, Nikolaus Kopernikus, Copern...</td>\n",
       "      <td>[+1473-02-19T00:00:00Z]</td>\n",
       "      <td>[Kingdom of Poland]</td>\n",
       "      <td>[male]</td>\n",
       "      <td>1394975677</td>\n",
       "      <td>[Poles]</td>\n",
       "      <td>None</td>\n",
       "      <td>[astronomer, jurist, economist, mathematician,...</td>\n",
       "      <td>None</td>\n",
       "      <td>None</td>\n",
       "      <td>Q619</td>\n",
       "      <td>Nicolaus Copernicus</td>\n",
       "      <td>None</td>\n",
       "      <td>item</td>\n",
       "      <td>[Catholicism]</td>\n",
       "    </tr>\n",
       "    <tr>\n",
       "      <th>8</th>\n",
       "      <td>[Neil Percival Young, Shakey, Godfather of Gru...</td>\n",
       "      <td>[+1945-11-12T00:00:00Z]</td>\n",
       "      <td>[Canada, United States of America]</td>\n",
       "      <td>[male]</td>\n",
       "      <td>1395459626</td>\n",
       "      <td>None</td>\n",
       "      <td>None</td>\n",
       "      <td>[singer, singer-songwriter, film director, mus...</td>\n",
       "      <td>None</td>\n",
       "      <td>None</td>\n",
       "      <td>Q633</td>\n",
       "      <td>Neil Young</td>\n",
       "      <td>None</td>\n",
       "      <td>item</td>\n",
       "      <td>None</td>\n",
       "    </tr>\n",
       "    <tr>\n",
       "      <th>9</th>\n",
       "      <td>None</td>\n",
       "      <td>[+1969-00-00T00:00:00Z]</td>\n",
       "      <td>[Germany]</td>\n",
       "      <td>[male]</td>\n",
       "      <td>1340253739</td>\n",
       "      <td>None</td>\n",
       "      <td>None</td>\n",
       "      <td>[photographer, Wikimedian]</td>\n",
       "      <td>None</td>\n",
       "      <td>None</td>\n",
       "      <td>Q640</td>\n",
       "      <td>Harald Krichel</td>\n",
       "      <td>None</td>\n",
       "      <td>item</td>\n",
       "      <td>None</td>\n",
       "    </tr>\n",
       "  </tbody>\n",
       "</table>\n",
       "</div>"
      ],
      "text/plain": [
       "                                             aliases            date_of_birth  \\\n",
       "0  [Washington, President Washington, G. Washingt...  [+1732-02-22T00:00:00Z]   \n",
       "1  [Douglas Noel Adams, Douglas Noël Adams, Dougl...  [+1952-03-11T00:00:00Z]   \n",
       "2      [Paul Marie Ghislain Otlet, Paul Marie Otlet]  [+1868-08-23T00:00:00Z]   \n",
       "3  [George Walker Bush, Bush Jr., Dubya, GWB, Bus...  [+1946-07-06T00:00:00Z]   \n",
       "4  [Velázquez, Diego Rodríguez de Silva y Velázqu...  [+1599-06-06T00:00:00Z]   \n",
       "5  [Augusto Pinochet Ugarte, Augusto José Ramón P...  [+1915-11-25T00:00:00Z]   \n",
       "6  [Baudelaire, Charles Pierre Baudelaire-Dufaÿs,...  [+1821-04-09T00:00:00Z]   \n",
       "7  [Mikołaj Kopernik, Nikolaus Kopernikus, Copern...  [+1473-02-19T00:00:00Z]   \n",
       "8  [Neil Percival Young, Shakey, Godfather of Gru...  [+1945-11-12T00:00:00Z]   \n",
       "9                                               None  [+1969-00-00T00:00:00Z]   \n",
       "\n",
       "                                 nationality  gender   lastrevid  \\\n",
       "0  [Great Britain, United States of America]  [male]  1395141751   \n",
       "1                           [United Kingdom]  [male]  1395737157   \n",
       "2                                  [Belgium]  [male]  1380367296   \n",
       "3                 [United States of America]  [male]  1395142029   \n",
       "4                                    [Spain]  [male]  1391704596   \n",
       "5                                    [Chile]  [male]  1392242213   \n",
       "6                                   [France]  [male]  1386699038   \n",
       "7                        [Kingdom of Poland]  [male]  1394975677   \n",
       "8         [Canada, United States of America]  [male]  1395459626   \n",
       "9                                  [Germany]  [male]  1340253739   \n",
       "\n",
       "      ethnic_group US_congress_bio_ID  \\\n",
       "0             None            W000178   \n",
       "1  [White British]               None   \n",
       "2             None               None   \n",
       "3             None               None   \n",
       "4             None               None   \n",
       "5             None               None   \n",
       "6         [French]               None   \n",
       "7          [Poles]               None   \n",
       "8             None               None   \n",
       "9             None               None   \n",
       "\n",
       "                                          occupation  \\\n",
       "0  [politician, military officer, farmer, cartogr...   \n",
       "1  [playwright, screenwriter, novelist, children'...   \n",
       "2  [writer, lawyer, librarian, information scient...   \n",
       "3  [politician, motivational speaker, autobiograp...   \n",
       "4                                          [painter]   \n",
       "5                     [military officer, politician]   \n",
       "6  [poet, art critic, essayist, translator, write...   \n",
       "7  [astronomer, jurist, economist, mathematician,...   \n",
       "8  [singer, singer-songwriter, film director, mus...   \n",
       "9                         [photographer, Wikimedian]   \n",
       "\n",
       "                      party academic_degree     id                label  \\\n",
       "0  [independent politician]            None    Q23    George Washington   \n",
       "1                      None            None    Q42        Douglas Adams   \n",
       "2                      None            None  Q1868           Paul Otlet   \n",
       "3        [Republican Party]            None   Q207       George W. Bush   \n",
       "4                      None            None   Q297      Diego Velázquez   \n",
       "5  [independent politician]            None   Q368     Augusto Pinochet   \n",
       "6                      None            None   Q501   Charles Baudelaire   \n",
       "7                      None            None   Q619  Nicolaus Copernicus   \n",
       "8                      None            None   Q633           Neil Young   \n",
       "9                      None            None   Q640       Harald Krichel   \n",
       "\n",
       "                                           candidacy  type  \\\n",
       "0  [1792 United States presidential election, 178...  item   \n",
       "1                                               None  item   \n",
       "2                                               None  item   \n",
       "3  [2000 United States presidential election, 200...  item   \n",
       "4                                               None  item   \n",
       "5                                               None  item   \n",
       "6                                               None  item   \n",
       "7                                               None  item   \n",
       "8                                               None  item   \n",
       "9                                               None  item   \n",
       "\n",
       "                                            religion  \n",
       "0                                 [Episcopal Church]  \n",
       "1                                               None  \n",
       "2                                               None  \n",
       "3  [United Methodist Church, Episcopal Church, Me...  \n",
       "4                                               None  \n",
       "5                                      [Catholicism]  \n",
       "6                                      [Catholicism]  \n",
       "7                                      [Catholicism]  \n",
       "8                                               None  \n",
       "9                                               None  "
      ]
     },
     "execution_count": 3,
     "metadata": {},
     "output_type": "execute_result"
    }
   ],
   "source": [
    "speaker_attributes = pd.read_parquet(\"data/speaker_attributes_updated.parquet\")\n",
    "\n",
    "speaker_attributes.head(10)"
   ]
  },
  {
   "cell_type": "code",
   "execution_count": 4,
   "id": "3fd27694-c8b1-4812-96f2-5e72ec0c410c",
   "metadata": {},
   "outputs": [
    {
     "name": "stdout",
     "output_type": "stream",
     "text": [
      "(9055981, 15)\n"
     ]
    }
   ],
   "source": [
    "## What is the size of the dataframe ?\n",
    "print(speaker_attributes.shape)"
   ]
  },
  {
   "cell_type": "markdown",
   "id": "8cff10e9-7648-420b-abb3-143e22141b24",
   "metadata": {},
   "source": [
    "Since the dataframe is very big (almost one million rows) we will analyse one sample of 10000 rows instead of the full dataframe to speed up operations."
   ]
  },
  {
   "cell_type": "code",
   "execution_count": 5,
   "id": "8e6baaa2-972a-49b7-ab74-aeeb7fde07b0",
   "metadata": {},
   "outputs": [],
   "source": [
    "df_sample = speaker_attributes.sample(10000)\n",
    "del(speaker_attributes) # we don't want to have it in memory"
   ]
  },
  {
   "cell_type": "code",
   "execution_count": 6,
   "id": "8127001c-44e1-47c8-b17f-e9d14b630eea",
   "metadata": {},
   "outputs": [
    {
     "data": {
      "text/html": [
       "<div>\n",
       "<style scoped>\n",
       "    .dataframe tbody tr th:only-of-type {\n",
       "        vertical-align: middle;\n",
       "    }\n",
       "\n",
       "    .dataframe tbody tr th {\n",
       "        vertical-align: top;\n",
       "    }\n",
       "\n",
       "    .dataframe thead th {\n",
       "        text-align: right;\n",
       "    }\n",
       "</style>\n",
       "<table border=\"1\" class=\"dataframe\">\n",
       "  <thead>\n",
       "    <tr style=\"text-align: right;\">\n",
       "      <th></th>\n",
       "      <th>aliases</th>\n",
       "      <th>date_of_birth</th>\n",
       "      <th>nationality</th>\n",
       "      <th>gender</th>\n",
       "      <th>lastrevid</th>\n",
       "      <th>ethnic_group</th>\n",
       "      <th>US_congress_bio_ID</th>\n",
       "      <th>occupation</th>\n",
       "      <th>party</th>\n",
       "      <th>academic_degree</th>\n",
       "      <th>id</th>\n",
       "      <th>label</th>\n",
       "      <th>candidacy</th>\n",
       "      <th>type</th>\n",
       "      <th>religion</th>\n",
       "    </tr>\n",
       "  </thead>\n",
       "  <tbody>\n",
       "    <tr>\n",
       "      <th>3068305</th>\n",
       "      <td>None</td>\n",
       "      <td>None</td>\n",
       "      <td>None</td>\n",
       "      <td>None</td>\n",
       "      <td>1354363184</td>\n",
       "      <td>None</td>\n",
       "      <td>None</td>\n",
       "      <td>[researcher]</td>\n",
       "      <td>None</td>\n",
       "      <td>None</td>\n",
       "      <td>Q86845431</td>\n",
       "      <td>Ruxandra Julia Vorovenci</td>\n",
       "      <td>None</td>\n",
       "      <td>item</td>\n",
       "      <td>None</td>\n",
       "    </tr>\n",
       "    <tr>\n",
       "      <th>6824341</th>\n",
       "      <td>[Jesus Sanchez, Jesús Paulino Sánchez]</td>\n",
       "      <td>[+1974-10-11T00:00:00Z]</td>\n",
       "      <td>[Dominican Republic]</td>\n",
       "      <td>[male]</td>\n",
       "      <td>1376120988</td>\n",
       "      <td>None</td>\n",
       "      <td>None</td>\n",
       "      <td>[baseball player]</td>\n",
       "      <td>None</td>\n",
       "      <td>None</td>\n",
       "      <td>Q931681</td>\n",
       "      <td>Jesús Sánchez</td>\n",
       "      <td>None</td>\n",
       "      <td>item</td>\n",
       "      <td>None</td>\n",
       "    </tr>\n",
       "    <tr>\n",
       "      <th>7792287</th>\n",
       "      <td>None</td>\n",
       "      <td>None</td>\n",
       "      <td>None</td>\n",
       "      <td>[male]</td>\n",
       "      <td>1336711849</td>\n",
       "      <td>None</td>\n",
       "      <td>None</td>\n",
       "      <td>None</td>\n",
       "      <td>None</td>\n",
       "      <td>None</td>\n",
       "      <td>Q97619785</td>\n",
       "      <td>None</td>\n",
       "      <td>None</td>\n",
       "      <td>item</td>\n",
       "      <td>None</td>\n",
       "    </tr>\n",
       "    <tr>\n",
       "      <th>3014877</th>\n",
       "      <td>None</td>\n",
       "      <td>None</td>\n",
       "      <td>None</td>\n",
       "      <td>[female]</td>\n",
       "      <td>1253957196</td>\n",
       "      <td>None</td>\n",
       "      <td>None</td>\n",
       "      <td>None</td>\n",
       "      <td>None</td>\n",
       "      <td>None</td>\n",
       "      <td>Q76116172</td>\n",
       "      <td>Mary Anne Spark</td>\n",
       "      <td>None</td>\n",
       "      <td>item</td>\n",
       "      <td>None</td>\n",
       "    </tr>\n",
       "    <tr>\n",
       "      <th>4062772</th>\n",
       "      <td>None</td>\n",
       "      <td>None</td>\n",
       "      <td>None</td>\n",
       "      <td>[male]</td>\n",
       "      <td>995057415</td>\n",
       "      <td>None</td>\n",
       "      <td>None</td>\n",
       "      <td>None</td>\n",
       "      <td>None</td>\n",
       "      <td>None</td>\n",
       "      <td>Q65892295</td>\n",
       "      <td>Yu Yongping</td>\n",
       "      <td>None</td>\n",
       "      <td>item</td>\n",
       "      <td>None</td>\n",
       "    </tr>\n",
       "    <tr>\n",
       "      <th>...</th>\n",
       "      <td>...</td>\n",
       "      <td>...</td>\n",
       "      <td>...</td>\n",
       "      <td>...</td>\n",
       "      <td>...</td>\n",
       "      <td>...</td>\n",
       "      <td>...</td>\n",
       "      <td>...</td>\n",
       "      <td>...</td>\n",
       "      <td>...</td>\n",
       "      <td>...</td>\n",
       "      <td>...</td>\n",
       "      <td>...</td>\n",
       "      <td>...</td>\n",
       "      <td>...</td>\n",
       "    </tr>\n",
       "    <tr>\n",
       "      <th>5736048</th>\n",
       "      <td>None</td>\n",
       "      <td>[+1959-10-04T00:00:00Z]</td>\n",
       "      <td>[Kingdom of the Netherlands]</td>\n",
       "      <td>[male]</td>\n",
       "      <td>1314079187</td>\n",
       "      <td>None</td>\n",
       "      <td>None</td>\n",
       "      <td>[field hockey player]</td>\n",
       "      <td>None</td>\n",
       "      <td>None</td>\n",
       "      <td>Q2578580</td>\n",
       "      <td>Maarten van Grimbergen</td>\n",
       "      <td>None</td>\n",
       "      <td>item</td>\n",
       "      <td>None</td>\n",
       "    </tr>\n",
       "    <tr>\n",
       "      <th>3317239</th>\n",
       "      <td>None</td>\n",
       "      <td>None</td>\n",
       "      <td>None</td>\n",
       "      <td>None</td>\n",
       "      <td>1360205921</td>\n",
       "      <td>None</td>\n",
       "      <td>None</td>\n",
       "      <td>None</td>\n",
       "      <td>None</td>\n",
       "      <td>None</td>\n",
       "      <td>Q101144555</td>\n",
       "      <td>Nelson K Horigoshi</td>\n",
       "      <td>None</td>\n",
       "      <td>item</td>\n",
       "      <td>None</td>\n",
       "    </tr>\n",
       "    <tr>\n",
       "      <th>6284149</th>\n",
       "      <td>None</td>\n",
       "      <td>None</td>\n",
       "      <td>None</td>\n",
       "      <td>None</td>\n",
       "      <td>954569186</td>\n",
       "      <td>None</td>\n",
       "      <td>None</td>\n",
       "      <td>None</td>\n",
       "      <td>None</td>\n",
       "      <td>None</td>\n",
       "      <td>Q62998427</td>\n",
       "      <td>J. D. Donachie</td>\n",
       "      <td>None</td>\n",
       "      <td>item</td>\n",
       "      <td>None</td>\n",
       "    </tr>\n",
       "    <tr>\n",
       "      <th>359066</th>\n",
       "      <td>None</td>\n",
       "      <td>None</td>\n",
       "      <td>None</td>\n",
       "      <td>[male]</td>\n",
       "      <td>1364511021</td>\n",
       "      <td>None</td>\n",
       "      <td>None</td>\n",
       "      <td>[musician]</td>\n",
       "      <td>None</td>\n",
       "      <td>None</td>\n",
       "      <td>Q20608672</td>\n",
       "      <td>Petur Mohr Reinert</td>\n",
       "      <td>None</td>\n",
       "      <td>item</td>\n",
       "      <td>None</td>\n",
       "    </tr>\n",
       "    <tr>\n",
       "      <th>4904560</th>\n",
       "      <td>None</td>\n",
       "      <td>[+1912-05-26T00:00:00Z]</td>\n",
       "      <td>[Japan]</td>\n",
       "      <td>[male]</td>\n",
       "      <td>1328994541</td>\n",
       "      <td>None</td>\n",
       "      <td>None</td>\n",
       "      <td>[economist]</td>\n",
       "      <td>None</td>\n",
       "      <td>None</td>\n",
       "      <td>Q21702050</td>\n",
       "      <td>Kiyoshi Matsui</td>\n",
       "      <td>None</td>\n",
       "      <td>item</td>\n",
       "      <td>None</td>\n",
       "    </tr>\n",
       "  </tbody>\n",
       "</table>\n",
       "<p>10000 rows × 15 columns</p>\n",
       "</div>"
      ],
      "text/plain": [
       "                                        aliases            date_of_birth  \\\n",
       "3068305                                    None                     None   \n",
       "6824341  [Jesus Sanchez, Jesús Paulino Sánchez]  [+1974-10-11T00:00:00Z]   \n",
       "7792287                                    None                     None   \n",
       "3014877                                    None                     None   \n",
       "4062772                                    None                     None   \n",
       "...                                         ...                      ...   \n",
       "5736048                                    None  [+1959-10-04T00:00:00Z]   \n",
       "3317239                                    None                     None   \n",
       "6284149                                    None                     None   \n",
       "359066                                     None                     None   \n",
       "4904560                                    None  [+1912-05-26T00:00:00Z]   \n",
       "\n",
       "                          nationality    gender   lastrevid ethnic_group  \\\n",
       "3068305                          None      None  1354363184         None   \n",
       "6824341          [Dominican Republic]    [male]  1376120988         None   \n",
       "7792287                          None    [male]  1336711849         None   \n",
       "3014877                          None  [female]  1253957196         None   \n",
       "4062772                          None    [male]   995057415         None   \n",
       "...                               ...       ...         ...          ...   \n",
       "5736048  [Kingdom of the Netherlands]    [male]  1314079187         None   \n",
       "3317239                          None      None  1360205921         None   \n",
       "6284149                          None      None   954569186         None   \n",
       "359066                           None    [male]  1364511021         None   \n",
       "4904560                       [Japan]    [male]  1328994541         None   \n",
       "\n",
       "        US_congress_bio_ID             occupation party academic_degree  \\\n",
       "3068305               None           [researcher]  None            None   \n",
       "6824341               None      [baseball player]  None            None   \n",
       "7792287               None                   None  None            None   \n",
       "3014877               None                   None  None            None   \n",
       "4062772               None                   None  None            None   \n",
       "...                    ...                    ...   ...             ...   \n",
       "5736048               None  [field hockey player]  None            None   \n",
       "3317239               None                   None  None            None   \n",
       "6284149               None                   None  None            None   \n",
       "359066                None             [musician]  None            None   \n",
       "4904560               None            [economist]  None            None   \n",
       "\n",
       "                 id                     label candidacy  type religion  \n",
       "3068305   Q86845431  Ruxandra Julia Vorovenci      None  item     None  \n",
       "6824341     Q931681             Jesús Sánchez      None  item     None  \n",
       "7792287   Q97619785                      None      None  item     None  \n",
       "3014877   Q76116172           Mary Anne Spark      None  item     None  \n",
       "4062772   Q65892295               Yu Yongping      None  item     None  \n",
       "...             ...                       ...       ...   ...      ...  \n",
       "5736048    Q2578580    Maarten van Grimbergen      None  item     None  \n",
       "3317239  Q101144555        Nelson K Horigoshi      None  item     None  \n",
       "6284149   Q62998427            J. D. Donachie      None  item     None  \n",
       "359066    Q20608672        Petur Mohr Reinert      None  item     None  \n",
       "4904560   Q21702050            Kiyoshi Matsui      None  item     None  \n",
       "\n",
       "[10000 rows x 15 columns]"
      ]
     },
     "execution_count": 6,
     "metadata": {},
     "output_type": "execute_result"
    }
   ],
   "source": [
    "df_sample"
   ]
  },
  {
   "cell_type": "markdown",
   "id": "ba959d63-cf4e-4b7b-98b3-2d183683a8d9",
   "metadata": {},
   "source": [
    "As we can see there are a lot of speakers without any alias, how many ?"
   ]
  },
  {
   "cell_type": "markdown",
   "id": "d92c3429-0b84-4f7a-9429-ebd0ab2877c1",
   "metadata": {},
   "source": [
    "### Aliases"
   ]
  },
  {
   "cell_type": "code",
   "execution_count": 83,
   "id": "eb513f9a-074f-4920-b4d7-daf239677b82",
   "metadata": {},
   "outputs": [],
   "source": [
    "def count_none_values(attribute_name):\n",
    "    df_sample_without_nan = df_sample.dropna(subset = [attribute_name])\n",
    "    print('the number of None values is', 10000 - len(df_sample_without_nan))"
   ]
  },
  {
   "cell_type": "code",
   "execution_count": 84,
   "id": "062f081c-5567-4437-8f31-7fd01e44dd16",
   "metadata": {},
   "outputs": [
    {
     "name": "stdout",
     "output_type": "stream",
     "text": [
      "the number of None values is 8617\n"
     ]
    }
   ],
   "source": [
    "count_none_values('aliases')"
   ]
  },
  {
   "cell_type": "markdown",
   "id": "61b58b67-0c48-49b5-8e07-8225020f28a6",
   "metadata": {},
   "source": [
    "We have a lot of missing values, we expect a great number of missing values in the whole speaker attributes file too, what about the nationality ?"
   ]
  },
  {
   "cell_type": "markdown",
   "id": "8c418546-77b7-4acc-9c7d-c8bae9e0361b",
   "metadata": {},
   "source": [
    "### Nationality"
   ]
  },
  {
   "cell_type": "code",
   "execution_count": 85,
   "id": "eeeecd2e-d6a2-4e1b-93a1-d980c0a39156",
   "metadata": {},
   "outputs": [
    {
     "name": "stdout",
     "output_type": "stream",
     "text": [
      "the number of None values is 5844\n"
     ]
    }
   ],
   "source": [
    "count_none_values('nationality')"
   ]
  },
  {
   "cell_type": "markdown",
   "id": "dcaedc77-1f79-4005-95aa-a80a068fda04",
   "metadata": {},
   "source": [
    "This is a huge number too. Which are the most frequents nationalies (removing the None values) ?"
   ]
  },
  {
   "cell_type": "code",
   "execution_count": 92,
   "id": "b74ac4ee-f06d-4f26-8b8b-c3c511090251",
   "metadata": {},
   "outputs": [],
   "source": [
    "def remove_none_values(attribute_name):\n",
    "    return df_sample.dropna(subset = [attribute_name])"
   ]
  },
  {
   "cell_type": "code",
   "execution_count": 140,
   "id": "336518d6-aa58-4f65-b911-3440fdaf3520",
   "metadata": {},
   "outputs": [],
   "source": [
    "## We remove the None values\n",
    "list_nat = remove_none_values('nationality').copy()\n",
    "list_nat[\"count\"] = list_nat[\"nationality\"].transform(lambda x: x[0])\n",
    "df_visual = list_nat[\"count\"].value_counts().to_frame()"
   ]
  },
  {
   "cell_type": "code",
   "execution_count": 142,
   "id": "24ba04c2-a0f0-4b57-9792-28ee7e7bca34",
   "metadata": {},
   "outputs": [
    {
     "data": {
      "text/html": [
       "<div>\n",
       "<style scoped>\n",
       "    .dataframe tbody tr th:only-of-type {\n",
       "        vertical-align: middle;\n",
       "    }\n",
       "\n",
       "    .dataframe tbody tr th {\n",
       "        vertical-align: top;\n",
       "    }\n",
       "\n",
       "    .dataframe thead th {\n",
       "        text-align: right;\n",
       "    }\n",
       "</style>\n",
       "<table border=\"1\" class=\"dataframe\">\n",
       "  <thead>\n",
       "    <tr style=\"text-align: right;\">\n",
       "      <th></th>\n",
       "      <th>count</th>\n",
       "    </tr>\n",
       "  </thead>\n",
       "  <tbody>\n",
       "    <tr>\n",
       "      <th>United States of America</th>\n",
       "      <td>470</td>\n",
       "    </tr>\n",
       "    <tr>\n",
       "      <th>Germany</th>\n",
       "      <td>304</td>\n",
       "    </tr>\n",
       "    <tr>\n",
       "      <th>France</th>\n",
       "      <td>284</td>\n",
       "    </tr>\n",
       "    <tr>\n",
       "      <th>Japan</th>\n",
       "      <td>203</td>\n",
       "    </tr>\n",
       "    <tr>\n",
       "      <th>United Kingdom</th>\n",
       "      <td>177</td>\n",
       "    </tr>\n",
       "    <tr>\n",
       "      <th>Spain</th>\n",
       "      <td>142</td>\n",
       "    </tr>\n",
       "    <tr>\n",
       "      <th>Ming dynasty</th>\n",
       "      <td>140</td>\n",
       "    </tr>\n",
       "    <tr>\n",
       "      <th>Italy</th>\n",
       "      <td>111</td>\n",
       "    </tr>\n",
       "    <tr>\n",
       "      <th>Poland</th>\n",
       "      <td>99</td>\n",
       "    </tr>\n",
       "    <tr>\n",
       "      <th>Soviet Union</th>\n",
       "      <td>90</td>\n",
       "    </tr>\n",
       "  </tbody>\n",
       "</table>\n",
       "</div>"
      ],
      "text/plain": [
       "                          count\n",
       "United States of America    470\n",
       "Germany                     304\n",
       "France                      284\n",
       "Japan                       203\n",
       "United Kingdom              177\n",
       "Spain                       142\n",
       "Ming dynasty                140\n",
       "Italy                       111\n",
       "Poland                       99\n",
       "Soviet Union                 90"
      ]
     },
     "execution_count": 142,
     "metadata": {},
     "output_type": "execute_result"
    }
   ],
   "source": [
    "# we create a dataframe for visualization:\n",
    "df_visual.sort_values('count', ascending=False)[0:10]"
   ]
  },
  {
   "cell_type": "markdown",
   "id": "c094bf85-a303-45c7-9589-bf11e93d142e",
   "metadata": {},
   "source": [
    "These are the most common nationalities"
   ]
  },
  {
   "cell_type": "code",
   "execution_count": 143,
   "id": "a077b1c7-9512-433a-bfd3-ccbbe1d76c8b",
   "metadata": {},
   "outputs": [
    {
     "data": {
      "image/png": "[encoded data removed]",
      "text/plain": [
       "<Figure size 432x288 with 1 Axes>"
      ]
     },
     "metadata": {
      "needs_background": "light"
     },
     "output_type": "display_data"
    }
   ],
   "source": [
    "data = df_visual.sort_values('count', ascending=False)[0:10].plot(kind = 'barh')\n",
    "plt.title('most common nationalities')\n",
    "plt.show()"
   ]
  },
  {
   "cell_type": "markdown",
   "id": "0babfc29-6aa8-453e-adb1-167501583d2d",
   "metadata": {},
   "source": [
    "Another attribute we are interested in (for our task is the gender), it could be interested to notice if there are more males speaking about politics than females (we will of course make this analysis in milestone 3), now let us focus on the distribution of the gender for the whole speaker attributes sample."
   ]
  },
  {
   "cell_type": "markdown",
   "id": "b89e58bc-50ce-4dea-b761-2086ea3043f1",
   "metadata": {},
   "source": [
    "### Gender"
   ]
  },
  {
   "cell_type": "markdown",
   "id": "5e28c156-ad8a-41e5-9455-56dd131bc380",
   "metadata": {},
   "source": [
    "How many missing values ?"
   ]
  },
  {
   "cell_type": "code",
   "execution_count": 144,
   "id": "9dd63d29-1850-4258-a125-f30c0c119be8",
   "metadata": {},
   "outputs": [
    {
     "name": "stdout",
     "output_type": "stream",
     "text": [
      "the number of None values is 2084\n"
     ]
    }
   ],
   "source": [
    "count_none_values('gender')"
   ]
  },
  {
   "cell_type": "markdown",
   "id": "f1971aaf-71a1-4890-a604-00cfbeb896f4",
   "metadata": {},
   "source": [
    "This time we have a bit less missing values, let us see how is the distribution of the gender."
   ]
  },
  {
   "cell_type": "code",
   "execution_count": 153,
   "id": "526ee4bc-f3b4-475d-a47c-7e9241e25387",
   "metadata": {},
   "outputs": [],
   "source": [
    "df_visual = remove_none_values('gender').copy()\n",
    "\n",
    "df_visual[\"gender\"] = df_visual[\"gender\"].transform(lambda x: x[0])"
   ]
  },
  {
   "cell_type": "code",
   "execution_count": 154,
   "id": "9284f0ed-1776-4491-b1fa-b0dc662e9d69",
   "metadata": {},
   "outputs": [
    {
     "data": {
      "image/png": "[encoded data removed]",
      "text/plain": [
       "<Figure size 432x288 with 1 Axes>"
      ]
     },
     "metadata": {
      "needs_background": "light"
     },
     "output_type": "display_data"
    }
   ],
   "source": [
    "# we create a dataframe for visualization:\n",
    "df_visual[\"gender\"].value_counts().to_frame().plot(kind = 'barh')\n",
    "plt.title('distribution of genders of the speakers')\n",
    "plt.show()"
   ]
  },
  {
   "cell_type": "markdown",
   "id": "83bed821-fa65-48c2-bc2a-5e3653b892fa",
   "metadata": {},
   "source": [
    "The majority of the speakers are males (the number of male speakers is 3 times the number of female ones)"
   ]
  },
  {
   "cell_type": "markdown",
   "id": "acec9413-559b-4280-b697-7990aa7683ea",
   "metadata": {},
   "source": [
    "Another question which might arise spontanously is the following. What are the most common occupations of the speakers ? Indeed, it could be interesting to understand if people doing a certain job are more inc"
   ]
  },
  {
   "cell_type": "markdown",
   "id": "b086c95f-8143-428b-8f78-fa42616dfad2",
   "metadata": {},
   "source": [
    "### Occupations"
   ]
  },
  {
   "cell_type": "code",
   "execution_count": 16,
   "id": "8b7f5d23-4645-443e-8e81-62ecf881dfa1",
   "metadata": {},
   "outputs": [
    {
     "name": "stdout",
     "output_type": "stream",
     "text": [
      "the number of None values is 2984\n"
     ]
    }
   ],
   "source": [
    "count_none_values('occupation')"
   ]
  },
  {
   "cell_type": "code",
   "execution_count": 160,
   "id": "7d5796a9-19eb-4708-8856-52abf9d38e1a",
   "metadata": {},
   "outputs": [],
   "source": [
    "df_visual = remove_none_values('occupation')\n",
    "list_occ = [item for sublist in df_visual[\"occupation\"].values for item in sublist]"
   ]
  },
  {
   "cell_type": "code",
   "execution_count": 161,
   "id": "1e270929-fc2a-4455-96eb-94b50bd1e168",
   "metadata": {},
   "outputs": [
    {
     "data": {
      "image/png": "[encoded data removed]",
      "text/plain": [
       "<Figure size 432x288 with 1 Axes>"
      ]
     },
     "metadata": {
      "needs_background": "light"
     },
     "output_type": "display_data"
    }
   ],
   "source": [
    "# we create a dataframe for visualization: \n",
    "df_visual = pd.DataFrame({'occ': list_occ, 'count':np.ones(len(list_occ))})\n",
    "df_visual.groupby(by = 'occ').count().sort_values('count', ascending=False)[0:10].plot(kind='barh' )\n",
    "plt.title('distribution of the most common occupations of the speakers')\n",
    "plt.show()"
   ]
  },
  {
   "cell_type": "markdown",
   "id": "132d1a7c-beae-49d5-ba77-0494a4b4a0ac",
   "metadata": {},
   "source": [
    "Reasearchers are the most frequent speaker in the parquet file."
   ]
  },
  {
   "cell_type": "markdown",
   "id": "71b8fd56-d015-4fef-b616-da187a16fe89",
   "metadata": {},
   "source": [
    "Finally, for our purpose, it could be interesting to understand how many missing value we have for the degree attribute and how is the distribution of this feature, indeed it could be interesting to see which people tend to speak more about a politician (people with/without degree). However, to do so, we have to consider before how many people in general have a degree in the attribute_speaker dataset. "
   ]
  },
  {
   "cell_type": "markdown",
   "id": "f0991186-55f6-4b73-b67c-e09cedfd8706",
   "metadata": {},
   "source": [
    "### Degree"
   ]
  },
  {
   "cell_type": "code",
   "execution_count": 163,
   "id": "2ff016b8-8723-4a7e-a9a9-1a3c286e219e",
   "metadata": {},
   "outputs": [
    {
     "name": "stdout",
     "output_type": "stream",
     "text": [
      "the number of None values is 9876\n"
     ]
    }
   ],
   "source": [
    "count_none_values('academic_degree')"
   ]
  },
  {
   "cell_type": "markdown",
   "id": "15f9c9ce-3947-4a42-be5d-10d2f1681652",
   "metadata": {},
   "source": [
    "We have too few non NaN values in this column for a meaningful analysis. However, let us try at least to understand how is the distribution for this feature."
   ]
  },
  {
   "cell_type": "code",
   "execution_count": 182,
   "id": "d2748365-c0fb-4ff5-ad28-63c35d04f7a2",
   "metadata": {},
   "outputs": [],
   "source": [
    "df_visual = remove_none_values('academic_degree').copy()\n",
    "\n",
    "df_visual[\"count\"] = df_visual[\"academic_degree\"].transform(lambda x: x[0])"
   ]
  },
  {
   "cell_type": "code",
   "execution_count": 183,
   "id": "fb9c8519-ce8c-4d46-8af2-68ede26c739a",
   "metadata": {},
   "outputs": [
    {
     "data": {
      "image/png": "[encoded data removed]",
      "text/plain": [
       "<Figure size 432x288 with 1 Axes>"
      ]
     },
     "metadata": {
      "needs_background": "light"
     },
     "output_type": "display_data"
    }
   ],
   "source": [
    "# we create a dataframe for visualization:\n",
    "df_visual = df_visual[\"count\"].value_counts().to_frame()\n",
    "\n",
    "df_visual.sort_values('count', ascending=False)[0:10].plot(kind='barh' )\n",
    "plt.title('distribution of the degree of the speakers')\n",
    "plt.show()"
   ]
  },
  {
   "cell_type": "markdown",
   "id": "03c389d3-87d7-4a40-ba9c-09a30ad6b065",
   "metadata": {},
   "source": [
    "The majority of them has a doctorate (this relates to the fact that the majority of them were researchers)."
   ]
  },
  {
   "cell_type": "markdown",
   "id": "b8ad92b1-ab6d-4297-9e9d-ca59cde02656",
   "metadata": {},
   "source": [
    "### Conclusions"
   ]
  },
  {
   "cell_type": "markdown",
   "id": "d3ab7403-953f-4d69-84ee-a6e4ea313960",
   "metadata": {},
   "source": [
    "In this notebook we made some exploratory data analysis on the speaker attributes dataframe. These analysis can be meaningful because we plan to compare them with similar analysis but for a subset of the speaker attributes data: we would like to repeat similar analysis for speakers whose quotes are referring to Trump/Clinton in order to see if there are noticeable differences."
   ]
  },
  {
   "cell_type": "code",
   "execution_count": null,
   "id": "aa2a2429-94d7-4a8a-8fa7-8f9bde30c906",
   "metadata": {},
   "outputs": [],
   "source": []
  }
 ],
 "metadata": {
  "kernelspec": {
   "display_name": "Python 3 (ipykernel)",
   "language": "python",
   "name": "python3"
  },
  "language_info": {
   "codemirror_mode": {
    "name": "ipython",
    "version": 3
   },
   "file_extension": ".py",
   "mimetype": "text/x-python",
   "name": "python",
   "nbconvert_exporter": "python",
   "pygments_lexer": "ipython3",
   "version": "3.8.11"
  }
 },
 "nbformat": 4,
 "nbformat_minor": 5
}
