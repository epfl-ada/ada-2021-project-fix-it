{
 "cells": [
  {
   "cell_type": "markdown",
   "id": "ae543c08",
   "metadata": {},
   "source": [
    "# An analysis of the american political scene from a mediatic point of view"
   ]
  },
  {
   "cell_type": "markdown",
   "id": "e0ef38aa",
   "metadata": {},
   "source": [
    "## Context\n",
    "\n",
    "In the 21st century media coverage is a crucial factor for political figures. By studying the number of times a certain politician is quoted in media outlets (in our case New York Times), we can have a rough measure of how much interest does the media address to this politician. In our analysis we will study the evolution of the number of citations of some of the most important american politicians over the last few years and we will compare their evolution to the most important events in their carreer in order to see if there is any causation or correlation. We will then add some more analysis distinguishing the speakers (who quoted a certain politician) by religion, nationality and political party in order to have a better and fragmented view of the causal effects. In the end we will compare our work with Google Trends data in order to see if the conventional media outlets caption the online interest well.\n"
   ]
  },
  {
   "cell_type": "markdown",
   "id": "53a9d10c",
   "metadata": {},
   "source": [
    "## The data\n",
    "\n",
    "We are provided with a compressed `.bz2` json file containing one row per quote. \n",
    "The `.json` has the following fields:\n",
    "\n",
    " - `quoteID`: Primary key of the quotation (format: \"YYYY-MM-DD-{increasing int:06d}\")\n",
    " - `quotation`: Text of the longest encountered original form of the quotation\n",
    " - `date`: Earliest occurrence date of any version of the quotation\n",
    " - `phase`: Corresponding phase of the data in which the quotation first occurred (A-E)\n",
    " - `probas`: Array representing the probabilities of each speaker having uttered the quotation.\n",
    "      The probabilities across different occurrences of the same quotation are summed for\n",
    "      each distinct candidate speaker and then normalized\n",
    "      - `proba`: Probability for a given speaker\n",
    "      - `speaker`: Most frequent surface form for a given speaker in the articles where the quotation occurred\n",
    " - `speaker`: Selected most likely speaker. This matches the the first speaker entry in `probas`\n",
    " - `qids`: Wikidata IDs of all aliases that match the selected speaker\n",
    " - `numOccurrences`: Number of time this quotation occurs in the articles\n",
    " - `urls`: List of links to the original articles containing the quotation "
   ]
  },
  {
   "cell_type": "code",
   "execution_count": 1,
   "id": "0311dcfe",
   "metadata": {},
   "outputs": [],
   "source": [
    "# Imports we may need\n",
    "import seaborn as sns\n",
    "from IPython.display import display, HTML\n",
    "import matplotlib.pyplot as plt\n",
    "import matplotlib.image as mpimg\n",
    "import seaborn as sns\n",
    "import scipy.stats as stats\n",
    "import pandas as pd\n",
    "import numpy as np\n",
    "import ujson as json\n",
    "import bz2"
   ]
  },
  {
   "cell_type": "markdown",
   "id": "b899b389",
   "metadata": {},
   "source": [
    "### Load Quotes and Speaker Attributes"
   ]
  },
  {
   "cell_type": "markdown",
   "id": "a6ac202d",
   "metadata": {},
   "source": [
    "Load quotes related to Donald Trump."
   ]
  },
  {
   "cell_type": "code",
   "execution_count": 9,
   "id": "9e0ad683",
   "metadata": {},
   "outputs": [
    {
     "data": {
      "text/html": [
       "<div>\n",
       "<style scoped>\n",
       "    .dataframe tbody tr th:only-of-type {\n",
       "        vertical-align: middle;\n",
       "    }\n",
       "\n",
       "    .dataframe tbody tr th {\n",
       "        vertical-align: top;\n",
       "    }\n",
       "\n",
       "    .dataframe thead th {\n",
       "        text-align: right;\n",
       "    }\n",
       "</style>\n",
       "<table border=\"1\" class=\"dataframe\">\n",
       "  <thead>\n",
       "    <tr style=\"text-align: right;\">\n",
       "      <th></th>\n",
       "      <th>quoteID</th>\n",
       "      <th>quotation</th>\n",
       "      <th>speaker</th>\n",
       "      <th>qids</th>\n",
       "      <th>date</th>\n",
       "      <th>numOccurrences</th>\n",
       "      <th>probas</th>\n",
       "      <th>urls</th>\n",
       "      <th>phase</th>\n",
       "    </tr>\n",
       "  </thead>\n",
       "  <tbody>\n",
       "    <tr>\n",
       "      <th>12</th>\n",
       "      <td>2018-07-16-000103</td>\n",
       "      <td>[ Ensuring ] the orchestrating and timing of M...</td>\n",
       "      <td>Corey Lewandowski</td>\n",
       "      <td>[Q20740735]</td>\n",
       "      <td>2018-07-16 14:05:34</td>\n",
       "      <td>2</td>\n",
       "      <td>[[Corey Lewandowski, 0.7179], [None, 0.2754], ...</td>\n",
       "      <td>[http://www.theweek.co.uk/95082/donald-trump-s...</td>\n",
       "      <td>E</td>\n",
       "    </tr>\n",
       "    <tr>\n",
       "      <th>66</th>\n",
       "      <td>2018-05-09-001003</td>\n",
       "      <td>300-plus years of them cold shoulders... Obama...</td>\n",
       "      <td>Charlamagne Tha God</td>\n",
       "      <td>[Q16203002]</td>\n",
       "      <td>2018-05-09 11:00:00</td>\n",
       "      <td>1</td>\n",
       "      <td>[[Charlamagne Tha God, 0.4806], [None, 0.2924]...</td>\n",
       "      <td>[https://www.portlandmercury.com/music/2018/05...</td>\n",
       "      <td>E</td>\n",
       "    </tr>\n",
       "    <tr>\n",
       "      <th>212</th>\n",
       "      <td>2018-08-02-002115</td>\n",
       "      <td>A politically connected contractor made a $500...</td>\n",
       "      <td>None</td>\n",
       "      <td>[]</td>\n",
       "      <td>2018-08-02 06:24:59</td>\n",
       "      <td>1</td>\n",
       "      <td>[[None, 0.7942], [President Trump, 0.1406], [K...</td>\n",
       "      <td>[https://sunlightfoundation.com/2018/08/02/tod...</td>\n",
       "      <td>E</td>\n",
       "    </tr>\n",
       "    <tr>\n",
       "      <th>264</th>\n",
       "      <td>2018-08-19-001084</td>\n",
       "      <td>A Wider Danger: Trump's Troubling Attacks on J...</td>\n",
       "      <td>None</td>\n",
       "      <td>[]</td>\n",
       "      <td>2018-08-19 02:05:39</td>\n",
       "      <td>3</td>\n",
       "      <td>[[None, 0.9052], [Queen Elizabeth II, 0.0948]]</td>\n",
       "      <td>[http://www.vnews.com/Forum-Aug-19-19549635, h...</td>\n",
       "      <td>E</td>\n",
       "    </tr>\n",
       "    <tr>\n",
       "      <th>333</th>\n",
       "      <td>2018-09-26-004202</td>\n",
       "      <td>After the commercial, she says, `They told me ...</td>\n",
       "      <td>None</td>\n",
       "      <td>[]</td>\n",
       "      <td>2018-09-26 00:00:00</td>\n",
       "      <td>2</td>\n",
       "      <td>[[None, 0.4595], [Tom Arnold, 0.3248], [Julie ...</td>\n",
       "      <td>[http://feeds.foxnews.com/~r/foxnews/entertain...</td>\n",
       "      <td>E</td>\n",
       "    </tr>\n",
       "    <tr>\n",
       "      <th>...</th>\n",
       "      <td>...</td>\n",
       "      <td>...</td>\n",
       "      <td>...</td>\n",
       "      <td>...</td>\n",
       "      <td>...</td>\n",
       "      <td>...</td>\n",
       "      <td>...</td>\n",
       "      <td>...</td>\n",
       "      <td>...</td>\n",
       "    </tr>\n",
       "    <tr>\n",
       "      <th>5243994</th>\n",
       "      <td>2020-02-05-103219</td>\n",
       "      <td>Trump offends and disrespects the Venezuelan p...</td>\n",
       "      <td>Jorge Arreaza</td>\n",
       "      <td>[Q6623799]</td>\n",
       "      <td>2020-02-05 00:00:00</td>\n",
       "      <td>11</td>\n",
       "      <td>[[Jorge Arreaza, 0.9164], [None, 0.0726], [Pre...</td>\n",
       "      <td>[https://www.rawstory.com/2020/02/imwithfred-t...</td>\n",
       "      <td>E</td>\n",
       "    </tr>\n",
       "    <tr>\n",
       "      <th>5243995</th>\n",
       "      <td>2020-02-05-103235</td>\n",
       "      <td>Trump survived, but he is the most unpopular p...</td>\n",
       "      <td>None</td>\n",
       "      <td>[]</td>\n",
       "      <td>2020-02-05 23:11:42</td>\n",
       "      <td>3</td>\n",
       "      <td>[[None, 0.8786], [Donald Trump, 0.1214]]</td>\n",
       "      <td>[https://www.wellsvilledaily.com/zz/news/20200...</td>\n",
       "      <td>E</td>\n",
       "    </tr>\n",
       "    <tr>\n",
       "      <th>5243996</th>\n",
       "      <td>2020-03-13-071475</td>\n",
       "      <td>Trump tried to mitigate the issue, saying it i...</td>\n",
       "      <td>Hassan Nasrallah</td>\n",
       "      <td>[Q181182]</td>\n",
       "      <td>2020-03-13 22:15:06</td>\n",
       "      <td>1</td>\n",
       "      <td>[[Hassan Nasrallah, 0.922], [None, 0.0741], [P...</td>\n",
       "      <td>[http://israelnationalnews.com/News/News.aspx/...</td>\n",
       "      <td>E</td>\n",
       "    </tr>\n",
       "    <tr>\n",
       "      <th>5243997</th>\n",
       "      <td>2020-03-15-037086</td>\n",
       "      <td>Trump's do-over approach -- he unlocked $50 bi...</td>\n",
       "      <td>Newt Gingrich</td>\n",
       "      <td>[Q182788]</td>\n",
       "      <td>2020-03-15 00:00:00</td>\n",
       "      <td>40</td>\n",
       "      <td>[[Newt Gingrich, 0.5146], [None, 0.3958], [Don...</td>\n",
       "      <td>[http://uspolitics.einnews.com/article/5120893...</td>\n",
       "      <td>E</td>\n",
       "    </tr>\n",
       "    <tr>\n",
       "      <th>5244422</th>\n",
       "      <td>2020-02-20-097170</td>\n",
       "      <td>You have to accept some responsibility and ask...</td>\n",
       "      <td>Pete Buttigieg</td>\n",
       "      <td>[Q7173106]</td>\n",
       "      <td>2020-02-20 03:50:07</td>\n",
       "      <td>2</td>\n",
       "      <td>[[Pete Buttigieg, 0.3517], [Bernie Sanders, 0....</td>\n",
       "      <td>[https://www.breitbart.com/2020-election/2020/...</td>\n",
       "      <td>E</td>\n",
       "    </tr>\n",
       "  </tbody>\n",
       "</table>\n",
       "<p>470480 rows × 9 columns</p>\n",
       "</div>"
      ],
      "text/plain": [
       "                   quoteID                                          quotation  \\\n",
       "12       2018-07-16-000103  [ Ensuring ] the orchestrating and timing of M...   \n",
       "66       2018-05-09-001003  300-plus years of them cold shoulders... Obama...   \n",
       "212      2018-08-02-002115  A politically connected contractor made a $500...   \n",
       "264      2018-08-19-001084  A Wider Danger: Trump's Troubling Attacks on J...   \n",
       "333      2018-09-26-004202  After the commercial, she says, `They told me ...   \n",
       "...                    ...                                                ...   \n",
       "5243994  2020-02-05-103219  Trump offends and disrespects the Venezuelan p...   \n",
       "5243995  2020-02-05-103235  Trump survived, but he is the most unpopular p...   \n",
       "5243996  2020-03-13-071475  Trump tried to mitigate the issue, saying it i...   \n",
       "5243997  2020-03-15-037086  Trump's do-over approach -- he unlocked $50 bi...   \n",
       "5244422  2020-02-20-097170  You have to accept some responsibility and ask...   \n",
       "\n",
       "                     speaker         qids                date  numOccurrences  \\\n",
       "12         Corey Lewandowski  [Q20740735] 2018-07-16 14:05:34               2   \n",
       "66       Charlamagne Tha God  [Q16203002] 2018-05-09 11:00:00               1   \n",
       "212                     None           [] 2018-08-02 06:24:59               1   \n",
       "264                     None           [] 2018-08-19 02:05:39               3   \n",
       "333                     None           [] 2018-09-26 00:00:00               2   \n",
       "...                      ...          ...                 ...             ...   \n",
       "5243994        Jorge Arreaza   [Q6623799] 2020-02-05 00:00:00              11   \n",
       "5243995                 None           [] 2020-02-05 23:11:42               3   \n",
       "5243996     Hassan Nasrallah    [Q181182] 2020-03-13 22:15:06               1   \n",
       "5243997        Newt Gingrich    [Q182788] 2020-03-15 00:00:00              40   \n",
       "5244422       Pete Buttigieg   [Q7173106] 2020-02-20 03:50:07               2   \n",
       "\n",
       "                                                    probas  \\\n",
       "12       [[Corey Lewandowski, 0.7179], [None, 0.2754], ...   \n",
       "66       [[Charlamagne Tha God, 0.4806], [None, 0.2924]...   \n",
       "212      [[None, 0.7942], [President Trump, 0.1406], [K...   \n",
       "264         [[None, 0.9052], [Queen Elizabeth II, 0.0948]]   \n",
       "333      [[None, 0.4595], [Tom Arnold, 0.3248], [Julie ...   \n",
       "...                                                    ...   \n",
       "5243994  [[Jorge Arreaza, 0.9164], [None, 0.0726], [Pre...   \n",
       "5243995           [[None, 0.8786], [Donald Trump, 0.1214]]   \n",
       "5243996  [[Hassan Nasrallah, 0.922], [None, 0.0741], [P...   \n",
       "5243997  [[Newt Gingrich, 0.5146], [None, 0.3958], [Don...   \n",
       "5244422  [[Pete Buttigieg, 0.3517], [Bernie Sanders, 0....   \n",
       "\n",
       "                                                      urls phase  \n",
       "12       [http://www.theweek.co.uk/95082/donald-trump-s...     E  \n",
       "66       [https://www.portlandmercury.com/music/2018/05...     E  \n",
       "212      [https://sunlightfoundation.com/2018/08/02/tod...     E  \n",
       "264      [http://www.vnews.com/Forum-Aug-19-19549635, h...     E  \n",
       "333      [http://feeds.foxnews.com/~r/foxnews/entertain...     E  \n",
       "...                                                    ...   ...  \n",
       "5243994  [https://www.rawstory.com/2020/02/imwithfred-t...     E  \n",
       "5243995  [https://www.wellsvilledaily.com/zz/news/20200...     E  \n",
       "5243996  [http://israelnationalnews.com/News/News.aspx/...     E  \n",
       "5243997  [http://uspolitics.einnews.com/article/5120893...     E  \n",
       "5244422  [https://www.breitbart.com/2020-election/2020/...     E  \n",
       "\n",
       "[470480 rows x 9 columns]"
      ]
     },
     "execution_count": 9,
     "metadata": {},
     "output_type": "execute_result"
    }
   ],
   "source": [
    "df_Trump = pd.read_pickle(\"data/df_Trump_cleaned.pkl\")\n",
    "\n",
    "df_Trump"
   ]
  },
  {
   "cell_type": "markdown",
   "id": "57a1d5ba",
   "metadata": {},
   "source": [
    "Load the parquet dataframe with attributes of each author"
   ]
  },
  {
   "cell_type": "code",
   "execution_count": 2,
   "id": "b83e7efa",
   "metadata": {},
   "outputs": [],
   "source": [
    "speaker_attributes_updated = pd.read_parquet(\"data/speaker_attributes_updated.parquet\")\n"
   ]
  },
  {
   "cell_type": "code",
   "execution_count": 3,
   "id": "2e5558a7",
   "metadata": {},
   "outputs": [
    {
     "data": {
      "text/html": [
       "<div>\n",
       "<style scoped>\n",
       "    .dataframe tbody tr th:only-of-type {\n",
       "        vertical-align: middle;\n",
       "    }\n",
       "\n",
       "    .dataframe tbody tr th {\n",
       "        vertical-align: top;\n",
       "    }\n",
       "\n",
       "    .dataframe thead th {\n",
       "        text-align: right;\n",
       "    }\n",
       "</style>\n",
       "<table border=\"1\" class=\"dataframe\">\n",
       "  <thead>\n",
       "    <tr style=\"text-align: right;\">\n",
       "      <th></th>\n",
       "      <th>aliases</th>\n",
       "      <th>date_of_birth</th>\n",
       "      <th>nationality</th>\n",
       "      <th>gender</th>\n",
       "      <th>lastrevid</th>\n",
       "      <th>ethnic_group</th>\n",
       "      <th>US_congress_bio_ID</th>\n",
       "      <th>occupation</th>\n",
       "      <th>party</th>\n",
       "      <th>academic_degree</th>\n",
       "      <th>id</th>\n",
       "      <th>label</th>\n",
       "      <th>candidacy</th>\n",
       "      <th>type</th>\n",
       "      <th>religion</th>\n",
       "    </tr>\n",
       "  </thead>\n",
       "  <tbody>\n",
       "    <tr>\n",
       "      <th>0</th>\n",
       "      <td>[Washington, President Washington, G. Washingt...</td>\n",
       "      <td>[+1732-02-22T00:00:00Z]</td>\n",
       "      <td>[Great Britain, United States of America]</td>\n",
       "      <td>[male]</td>\n",
       "      <td>1395141751</td>\n",
       "      <td>None</td>\n",
       "      <td>W000178</td>\n",
       "      <td>[politician, military officer, farmer, cartogr...</td>\n",
       "      <td>[independent politician]</td>\n",
       "      <td>None</td>\n",
       "      <td>Q23</td>\n",
       "      <td>George Washington</td>\n",
       "      <td>[1792 United States presidential election, 178...</td>\n",
       "      <td>item</td>\n",
       "      <td>[Episcopal Church]</td>\n",
       "    </tr>\n",
       "    <tr>\n",
       "      <th>1</th>\n",
       "      <td>[Douglas Noel Adams, Douglas Noël Adams, Dougl...</td>\n",
       "      <td>[+1952-03-11T00:00:00Z]</td>\n",
       "      <td>[United Kingdom]</td>\n",
       "      <td>[male]</td>\n",
       "      <td>1395737157</td>\n",
       "      <td>[White British]</td>\n",
       "      <td>None</td>\n",
       "      <td>[playwright, screenwriter, novelist, children'...</td>\n",
       "      <td>None</td>\n",
       "      <td>None</td>\n",
       "      <td>Q42</td>\n",
       "      <td>Douglas Adams</td>\n",
       "      <td>None</td>\n",
       "      <td>item</td>\n",
       "      <td>None</td>\n",
       "    </tr>\n",
       "    <tr>\n",
       "      <th>2</th>\n",
       "      <td>[Paul Marie Ghislain Otlet, Paul Marie Otlet]</td>\n",
       "      <td>[+1868-08-23T00:00:00Z]</td>\n",
       "      <td>[Belgium]</td>\n",
       "      <td>[male]</td>\n",
       "      <td>1380367296</td>\n",
       "      <td>None</td>\n",
       "      <td>None</td>\n",
       "      <td>[writer, lawyer, librarian, information scient...</td>\n",
       "      <td>None</td>\n",
       "      <td>None</td>\n",
       "      <td>Q1868</td>\n",
       "      <td>Paul Otlet</td>\n",
       "      <td>None</td>\n",
       "      <td>item</td>\n",
       "      <td>None</td>\n",
       "    </tr>\n",
       "    <tr>\n",
       "      <th>3</th>\n",
       "      <td>[George Walker Bush, Bush Jr., Dubya, GWB, Bus...</td>\n",
       "      <td>[+1946-07-06T00:00:00Z]</td>\n",
       "      <td>[United States of America]</td>\n",
       "      <td>[male]</td>\n",
       "      <td>1395142029</td>\n",
       "      <td>None</td>\n",
       "      <td>None</td>\n",
       "      <td>[politician, motivational speaker, autobiograp...</td>\n",
       "      <td>[Republican Party]</td>\n",
       "      <td>None</td>\n",
       "      <td>Q207</td>\n",
       "      <td>George W. Bush</td>\n",
       "      <td>[2000 United States presidential election, 200...</td>\n",
       "      <td>item</td>\n",
       "      <td>[United Methodist Church, Episcopal Church, Me...</td>\n",
       "    </tr>\n",
       "    <tr>\n",
       "      <th>4</th>\n",
       "      <td>[Velázquez, Diego Rodríguez de Silva y Velázqu...</td>\n",
       "      <td>[+1599-06-06T00:00:00Z]</td>\n",
       "      <td>[Spain]</td>\n",
       "      <td>[male]</td>\n",
       "      <td>1391704596</td>\n",
       "      <td>None</td>\n",
       "      <td>None</td>\n",
       "      <td>[painter]</td>\n",
       "      <td>None</td>\n",
       "      <td>None</td>\n",
       "      <td>Q297</td>\n",
       "      <td>Diego Velázquez</td>\n",
       "      <td>None</td>\n",
       "      <td>item</td>\n",
       "      <td>None</td>\n",
       "    </tr>\n",
       "    <tr>\n",
       "      <th>...</th>\n",
       "      <td>...</td>\n",
       "      <td>...</td>\n",
       "      <td>...</td>\n",
       "      <td>...</td>\n",
       "      <td>...</td>\n",
       "      <td>...</td>\n",
       "      <td>...</td>\n",
       "      <td>...</td>\n",
       "      <td>...</td>\n",
       "      <td>...</td>\n",
       "      <td>...</td>\n",
       "      <td>...</td>\n",
       "      <td>...</td>\n",
       "      <td>...</td>\n",
       "      <td>...</td>\n",
       "    </tr>\n",
       "    <tr>\n",
       "      <th>9055976</th>\n",
       "      <td>[Barker Howard]</td>\n",
       "      <td>None</td>\n",
       "      <td>[United States of America]</td>\n",
       "      <td>[male]</td>\n",
       "      <td>1397399351</td>\n",
       "      <td>None</td>\n",
       "      <td>None</td>\n",
       "      <td>[politician]</td>\n",
       "      <td>None</td>\n",
       "      <td>None</td>\n",
       "      <td>Q106406560</td>\n",
       "      <td>Barker B. Howard</td>\n",
       "      <td>None</td>\n",
       "      <td>item</td>\n",
       "      <td>None</td>\n",
       "    </tr>\n",
       "    <tr>\n",
       "      <th>9055977</th>\n",
       "      <td>[Charles Macomber]</td>\n",
       "      <td>None</td>\n",
       "      <td>[United States of America]</td>\n",
       "      <td>[male]</td>\n",
       "      <td>1397399471</td>\n",
       "      <td>None</td>\n",
       "      <td>None</td>\n",
       "      <td>[politician]</td>\n",
       "      <td>None</td>\n",
       "      <td>None</td>\n",
       "      <td>Q106406571</td>\n",
       "      <td>Charles H. Macomber</td>\n",
       "      <td>None</td>\n",
       "      <td>item</td>\n",
       "      <td>None</td>\n",
       "    </tr>\n",
       "    <tr>\n",
       "      <th>9055978</th>\n",
       "      <td>None</td>\n",
       "      <td>[+1848-04-01T00:00:00Z]</td>\n",
       "      <td>None</td>\n",
       "      <td>[female]</td>\n",
       "      <td>1397399751</td>\n",
       "      <td>None</td>\n",
       "      <td>None</td>\n",
       "      <td>None</td>\n",
       "      <td>None</td>\n",
       "      <td>None</td>\n",
       "      <td>Q106406588</td>\n",
       "      <td>Dina David</td>\n",
       "      <td>None</td>\n",
       "      <td>item</td>\n",
       "      <td>None</td>\n",
       "    </tr>\n",
       "    <tr>\n",
       "      <th>9055979</th>\n",
       "      <td>None</td>\n",
       "      <td>[+1899-03-18T00:00:00Z]</td>\n",
       "      <td>None</td>\n",
       "      <td>[female]</td>\n",
       "      <td>1397399799</td>\n",
       "      <td>None</td>\n",
       "      <td>None</td>\n",
       "      <td>None</td>\n",
       "      <td>None</td>\n",
       "      <td>None</td>\n",
       "      <td>Q106406593</td>\n",
       "      <td>Irma Dexinger</td>\n",
       "      <td>None</td>\n",
       "      <td>item</td>\n",
       "      <td>None</td>\n",
       "    </tr>\n",
       "    <tr>\n",
       "      <th>9055980</th>\n",
       "      <td>[Fred Trull]</td>\n",
       "      <td>None</td>\n",
       "      <td>[United States of America]</td>\n",
       "      <td>[male]</td>\n",
       "      <td>1397400809</td>\n",
       "      <td>None</td>\n",
       "      <td>None</td>\n",
       "      <td>[politician]</td>\n",
       "      <td>None</td>\n",
       "      <td>None</td>\n",
       "      <td>Q106406643</td>\n",
       "      <td>Fred F. Trull</td>\n",
       "      <td>None</td>\n",
       "      <td>item</td>\n",
       "      <td>None</td>\n",
       "    </tr>\n",
       "  </tbody>\n",
       "</table>\n",
       "<p>9055981 rows × 15 columns</p>\n",
       "</div>"
      ],
      "text/plain": [
       "                                                   aliases  \\\n",
       "0        [Washington, President Washington, G. Washingt...   \n",
       "1        [Douglas Noel Adams, Douglas Noël Adams, Dougl...   \n",
       "2            [Paul Marie Ghislain Otlet, Paul Marie Otlet]   \n",
       "3        [George Walker Bush, Bush Jr., Dubya, GWB, Bus...   \n",
       "4        [Velázquez, Diego Rodríguez de Silva y Velázqu...   \n",
       "...                                                    ...   \n",
       "9055976                                    [Barker Howard]   \n",
       "9055977                                 [Charles Macomber]   \n",
       "9055978                                               None   \n",
       "9055979                                               None   \n",
       "9055980                                       [Fred Trull]   \n",
       "\n",
       "                   date_of_birth                                nationality  \\\n",
       "0        [+1732-02-22T00:00:00Z]  [Great Britain, United States of America]   \n",
       "1        [+1952-03-11T00:00:00Z]                           [United Kingdom]   \n",
       "2        [+1868-08-23T00:00:00Z]                                  [Belgium]   \n",
       "3        [+1946-07-06T00:00:00Z]                 [United States of America]   \n",
       "4        [+1599-06-06T00:00:00Z]                                    [Spain]   \n",
       "...                          ...                                        ...   \n",
       "9055976                     None                 [United States of America]   \n",
       "9055977                     None                 [United States of America]   \n",
       "9055978  [+1848-04-01T00:00:00Z]                                       None   \n",
       "9055979  [+1899-03-18T00:00:00Z]                                       None   \n",
       "9055980                     None                 [United States of America]   \n",
       "\n",
       "           gender   lastrevid     ethnic_group US_congress_bio_ID  \\\n",
       "0          [male]  1395141751             None            W000178   \n",
       "1          [male]  1395737157  [White British]               None   \n",
       "2          [male]  1380367296             None               None   \n",
       "3          [male]  1395142029             None               None   \n",
       "4          [male]  1391704596             None               None   \n",
       "...           ...         ...              ...                ...   \n",
       "9055976    [male]  1397399351             None               None   \n",
       "9055977    [male]  1397399471             None               None   \n",
       "9055978  [female]  1397399751             None               None   \n",
       "9055979  [female]  1397399799             None               None   \n",
       "9055980    [male]  1397400809             None               None   \n",
       "\n",
       "                                                occupation  \\\n",
       "0        [politician, military officer, farmer, cartogr...   \n",
       "1        [playwright, screenwriter, novelist, children'...   \n",
       "2        [writer, lawyer, librarian, information scient...   \n",
       "3        [politician, motivational speaker, autobiograp...   \n",
       "4                                                [painter]   \n",
       "...                                                    ...   \n",
       "9055976                                       [politician]   \n",
       "9055977                                       [politician]   \n",
       "9055978                                               None   \n",
       "9055979                                               None   \n",
       "9055980                                       [politician]   \n",
       "\n",
       "                            party academic_degree          id  \\\n",
       "0        [independent politician]            None         Q23   \n",
       "1                            None            None         Q42   \n",
       "2                            None            None       Q1868   \n",
       "3              [Republican Party]            None        Q207   \n",
       "4                            None            None        Q297   \n",
       "...                           ...             ...         ...   \n",
       "9055976                      None            None  Q106406560   \n",
       "9055977                      None            None  Q106406571   \n",
       "9055978                      None            None  Q106406588   \n",
       "9055979                      None            None  Q106406593   \n",
       "9055980                      None            None  Q106406643   \n",
       "\n",
       "                       label  \\\n",
       "0          George Washington   \n",
       "1              Douglas Adams   \n",
       "2                 Paul Otlet   \n",
       "3             George W. Bush   \n",
       "4            Diego Velázquez   \n",
       "...                      ...   \n",
       "9055976     Barker B. Howard   \n",
       "9055977  Charles H. Macomber   \n",
       "9055978           Dina David   \n",
       "9055979        Irma Dexinger   \n",
       "9055980        Fred F. Trull   \n",
       "\n",
       "                                                 candidacy  type  \\\n",
       "0        [1792 United States presidential election, 178...  item   \n",
       "1                                                     None  item   \n",
       "2                                                     None  item   \n",
       "3        [2000 United States presidential election, 200...  item   \n",
       "4                                                     None  item   \n",
       "...                                                    ...   ...   \n",
       "9055976                                               None  item   \n",
       "9055977                                               None  item   \n",
       "9055978                                               None  item   \n",
       "9055979                                               None  item   \n",
       "9055980                                               None  item   \n",
       "\n",
       "                                                  religion  \n",
       "0                                       [Episcopal Church]  \n",
       "1                                                     None  \n",
       "2                                                     None  \n",
       "3        [United Methodist Church, Episcopal Church, Me...  \n",
       "4                                                     None  \n",
       "...                                                    ...  \n",
       "9055976                                               None  \n",
       "9055977                                               None  \n",
       "9055978                                               None  \n",
       "9055979                                               None  \n",
       "9055980                                               None  \n",
       "\n",
       "[9055981 rows x 15 columns]"
      ]
     },
     "execution_count": 3,
     "metadata": {},
     "output_type": "execute_result"
    }
   ],
   "source": [
    "speaker_attributes_updated"
   ]
  },
  {
   "cell_type": "markdown",
   "id": "f43ffb31",
   "metadata": {},
   "source": [
    "### Merge Chunk with Speaker Attributtes"
   ]
  },
  {
   "cell_type": "markdown",
   "id": "37825297",
   "metadata": {},
   "source": [
    "For an arbitrary chunk add a column with the row corresponding to the speaker"
   ]
  },
  {
   "cell_type": "code",
   "execution_count": 17,
   "id": "d6d1f096",
   "metadata": {},
   "outputs": [
    {
     "data": {
      "text/html": [
       "<div>\n",
       "<style scoped>\n",
       "    .dataframe tbody tr th:only-of-type {\n",
       "        vertical-align: middle;\n",
       "    }\n",
       "\n",
       "    .dataframe tbody tr th {\n",
       "        vertical-align: top;\n",
       "    }\n",
       "\n",
       "    .dataframe thead th {\n",
       "        text-align: right;\n",
       "    }\n",
       "</style>\n",
       "<table border=\"1\" class=\"dataframe\">\n",
       "  <thead>\n",
       "    <tr style=\"text-align: right;\">\n",
       "      <th></th>\n",
       "      <th>quoteID</th>\n",
       "      <th>quotation</th>\n",
       "      <th>speaker</th>\n",
       "      <th>qids</th>\n",
       "      <th>date</th>\n",
       "      <th>numOccurrences</th>\n",
       "      <th>probas</th>\n",
       "      <th>urls</th>\n",
       "      <th>phase</th>\n",
       "    </tr>\n",
       "  </thead>\n",
       "  <tbody>\n",
       "    <tr>\n",
       "      <th>12</th>\n",
       "      <td>2018-07-16-000103</td>\n",
       "      <td>[ Ensuring ] the orchestrating and timing of M...</td>\n",
       "      <td>Corey Lewandowski</td>\n",
       "      <td>[Q20740735]</td>\n",
       "      <td>2018-07-16 14:05:34</td>\n",
       "      <td>2</td>\n",
       "      <td>[[Corey Lewandowski, 0.7179], [None, 0.2754], ...</td>\n",
       "      <td>[http://www.theweek.co.uk/95082/donald-trump-s...</td>\n",
       "      <td>E</td>\n",
       "    </tr>\n",
       "    <tr>\n",
       "      <th>66</th>\n",
       "      <td>2018-05-09-001003</td>\n",
       "      <td>300-plus years of them cold shoulders... Obama...</td>\n",
       "      <td>Charlamagne Tha God</td>\n",
       "      <td>[Q16203002]</td>\n",
       "      <td>2018-05-09 11:00:00</td>\n",
       "      <td>1</td>\n",
       "      <td>[[Charlamagne Tha God, 0.4806], [None, 0.2924]...</td>\n",
       "      <td>[https://www.portlandmercury.com/music/2018/05...</td>\n",
       "      <td>E</td>\n",
       "    </tr>\n",
       "    <tr>\n",
       "      <th>212</th>\n",
       "      <td>2018-08-02-002115</td>\n",
       "      <td>A politically connected contractor made a $500...</td>\n",
       "      <td>None</td>\n",
       "      <td>[]</td>\n",
       "      <td>2018-08-02 06:24:59</td>\n",
       "      <td>1</td>\n",
       "      <td>[[None, 0.7942], [President Trump, 0.1406], [K...</td>\n",
       "      <td>[https://sunlightfoundation.com/2018/08/02/tod...</td>\n",
       "      <td>E</td>\n",
       "    </tr>\n",
       "    <tr>\n",
       "      <th>264</th>\n",
       "      <td>2018-08-19-001084</td>\n",
       "      <td>A Wider Danger: Trump's Troubling Attacks on J...</td>\n",
       "      <td>None</td>\n",
       "      <td>[]</td>\n",
       "      <td>2018-08-19 02:05:39</td>\n",
       "      <td>3</td>\n",
       "      <td>[[None, 0.9052], [Queen Elizabeth II, 0.0948]]</td>\n",
       "      <td>[http://www.vnews.com/Forum-Aug-19-19549635, h...</td>\n",
       "      <td>E</td>\n",
       "    </tr>\n",
       "    <tr>\n",
       "      <th>333</th>\n",
       "      <td>2018-09-26-004202</td>\n",
       "      <td>After the commercial, she says, `They told me ...</td>\n",
       "      <td>None</td>\n",
       "      <td>[]</td>\n",
       "      <td>2018-09-26 00:00:00</td>\n",
       "      <td>2</td>\n",
       "      <td>[[None, 0.4595], [Tom Arnold, 0.3248], [Julie ...</td>\n",
       "      <td>[http://feeds.foxnews.com/~r/foxnews/entertain...</td>\n",
       "      <td>E</td>\n",
       "    </tr>\n",
       "    <tr>\n",
       "      <th>...</th>\n",
       "      <td>...</td>\n",
       "      <td>...</td>\n",
       "      <td>...</td>\n",
       "      <td>...</td>\n",
       "      <td>...</td>\n",
       "      <td>...</td>\n",
       "      <td>...</td>\n",
       "      <td>...</td>\n",
       "      <td>...</td>\n",
       "    </tr>\n",
       "    <tr>\n",
       "      <th>10021</th>\n",
       "      <td>2018-12-27-064793</td>\n",
       "      <td>These reporters can't even begin a news accoun...</td>\n",
       "      <td>None</td>\n",
       "      <td>[]</td>\n",
       "      <td>2018-12-27 17:47:14</td>\n",
       "      <td>37</td>\n",
       "      <td>[[None, 0.905], [Melania Trump, 0.0594], [Jame...</td>\n",
       "      <td>[https://www.newsbusters.org/blogs/nb/curtis-h...</td>\n",
       "      <td>E</td>\n",
       "    </tr>\n",
       "    <tr>\n",
       "      <th>10098</th>\n",
       "      <td>2018-05-02-131151</td>\n",
       "      <td>They elected Donald Trump, who really understa...</td>\n",
       "      <td>Rachel Campos-Duffy</td>\n",
       "      <td>[Q2267027]</td>\n",
       "      <td>2018-05-02 19:45:19</td>\n",
       "      <td>1</td>\n",
       "      <td>[[Rachel Campos-Duffy, 0.4752], [None, 0.3776]...</td>\n",
       "      <td>[http://insider.foxnews.com/2018/05/02/rachel-...</td>\n",
       "      <td>E</td>\n",
       "    </tr>\n",
       "    <tr>\n",
       "      <th>10331</th>\n",
       "      <td>2018-05-10-133645</td>\n",
       "      <td>This day is something that we didn't think we'...</td>\n",
       "      <td>Phil Murphy</td>\n",
       "      <td>[Q260042, Q3378818, Q7182210, Q7182211]</td>\n",
       "      <td>2018-05-10 01:19:21</td>\n",
       "      <td>7</td>\n",
       "      <td>[[Phil Murphy, 0.5115], [None, 0.4885]]</td>\n",
       "      <td>[https://www.tapinto.net/towns/newark/articles...</td>\n",
       "      <td>E</td>\n",
       "    </tr>\n",
       "    <tr>\n",
       "      <th>10377</th>\n",
       "      <td>2018-09-26-118017</td>\n",
       "      <td>This is a classic espionage `wilderness of mir...</td>\n",
       "      <td>Mark Steyn</td>\n",
       "      <td>[Q332357]</td>\n",
       "      <td>2018-09-26 10:02:49</td>\n",
       "      <td>2</td>\n",
       "      <td>[[Mark Steyn, 0.8879], [None, 0.0591], [Chris ...</td>\n",
       "      <td>[https://patriotpost.us/articles/58450-wednesd...</td>\n",
       "      <td>E</td>\n",
       "    </tr>\n",
       "    <tr>\n",
       "      <th>10680</th>\n",
       "      <td>2018-05-27-051225</td>\n",
       "      <td>Through gut (or gutter) instinct, Trump has ad...</td>\n",
       "      <td>None</td>\n",
       "      <td>[]</td>\n",
       "      <td>2018-05-27 20:10:14</td>\n",
       "      <td>1</td>\n",
       "      <td>[[None, 0.7667], [President Donald Trump, 0.18...</td>\n",
       "      <td>[https://www.rawstory.com/2018/05/trump-dehuma...</td>\n",
       "      <td>E</td>\n",
       "    </tr>\n",
       "  </tbody>\n",
       "</table>\n",
       "<p>100 rows × 9 columns</p>\n",
       "</div>"
      ],
      "text/plain": [
       "                 quoteID                                          quotation  \\\n",
       "12     2018-07-16-000103  [ Ensuring ] the orchestrating and timing of M...   \n",
       "66     2018-05-09-001003  300-plus years of them cold shoulders... Obama...   \n",
       "212    2018-08-02-002115  A politically connected contractor made a $500...   \n",
       "264    2018-08-19-001084  A Wider Danger: Trump's Troubling Attacks on J...   \n",
       "333    2018-09-26-004202  After the commercial, she says, `They told me ...   \n",
       "...                  ...                                                ...   \n",
       "10021  2018-12-27-064793  These reporters can't even begin a news accoun...   \n",
       "10098  2018-05-02-131151  They elected Donald Trump, who really understa...   \n",
       "10331  2018-05-10-133645  This day is something that we didn't think we'...   \n",
       "10377  2018-09-26-118017  This is a classic espionage `wilderness of mir...   \n",
       "10680  2018-05-27-051225  Through gut (or gutter) instinct, Trump has ad...   \n",
       "\n",
       "                   speaker                                     qids  \\\n",
       "12       Corey Lewandowski                              [Q20740735]   \n",
       "66     Charlamagne Tha God                              [Q16203002]   \n",
       "212                   None                                       []   \n",
       "264                   None                                       []   \n",
       "333                   None                                       []   \n",
       "...                    ...                                      ...   \n",
       "10021                 None                                       []   \n",
       "10098  Rachel Campos-Duffy                               [Q2267027]   \n",
       "10331          Phil Murphy  [Q260042, Q3378818, Q7182210, Q7182211]   \n",
       "10377           Mark Steyn                                [Q332357]   \n",
       "10680                 None                                       []   \n",
       "\n",
       "                     date  numOccurrences  \\\n",
       "12    2018-07-16 14:05:34               2   \n",
       "66    2018-05-09 11:00:00               1   \n",
       "212   2018-08-02 06:24:59               1   \n",
       "264   2018-08-19 02:05:39               3   \n",
       "333   2018-09-26 00:00:00               2   \n",
       "...                   ...             ...   \n",
       "10021 2018-12-27 17:47:14              37   \n",
       "10098 2018-05-02 19:45:19               1   \n",
       "10331 2018-05-10 01:19:21               7   \n",
       "10377 2018-09-26 10:02:49               2   \n",
       "10680 2018-05-27 20:10:14               1   \n",
       "\n",
       "                                                  probas  \\\n",
       "12     [[Corey Lewandowski, 0.7179], [None, 0.2754], ...   \n",
       "66     [[Charlamagne Tha God, 0.4806], [None, 0.2924]...   \n",
       "212    [[None, 0.7942], [President Trump, 0.1406], [K...   \n",
       "264       [[None, 0.9052], [Queen Elizabeth II, 0.0948]]   \n",
       "333    [[None, 0.4595], [Tom Arnold, 0.3248], [Julie ...   \n",
       "...                                                  ...   \n",
       "10021  [[None, 0.905], [Melania Trump, 0.0594], [Jame...   \n",
       "10098  [[Rachel Campos-Duffy, 0.4752], [None, 0.3776]...   \n",
       "10331            [[Phil Murphy, 0.5115], [None, 0.4885]]   \n",
       "10377  [[Mark Steyn, 0.8879], [None, 0.0591], [Chris ...   \n",
       "10680  [[None, 0.7667], [President Donald Trump, 0.18...   \n",
       "\n",
       "                                                    urls phase  \n",
       "12     [http://www.theweek.co.uk/95082/donald-trump-s...     E  \n",
       "66     [https://www.portlandmercury.com/music/2018/05...     E  \n",
       "212    [https://sunlightfoundation.com/2018/08/02/tod...     E  \n",
       "264    [http://www.vnews.com/Forum-Aug-19-19549635, h...     E  \n",
       "333    [http://feeds.foxnews.com/~r/foxnews/entertain...     E  \n",
       "...                                                  ...   ...  \n",
       "10021  [https://www.newsbusters.org/blogs/nb/curtis-h...     E  \n",
       "10098  [http://insider.foxnews.com/2018/05/02/rachel-...     E  \n",
       "10331  [https://www.tapinto.net/towns/newark/articles...     E  \n",
       "10377  [https://patriotpost.us/articles/58450-wednesd...     E  \n",
       "10680  [https://www.rawstory.com/2018/05/trump-dehuma...     E  \n",
       "\n",
       "[100 rows x 9 columns]"
      ]
     },
     "execution_count": 17,
     "metadata": {},
     "output_type": "execute_result"
    }
   ],
   "source": [
    "chunk = df_Trump[:100]\n",
    "\n",
    "chunk"
   ]
  },
  {
   "cell_type": "markdown",
   "id": "9462ebec",
   "metadata": {},
   "source": [
    "Add the id of the special_attribute row to each quote"
   ]
  },
  {
   "cell_type": "code",
   "execution_count": 11,
   "id": "6005a3e7",
   "metadata": {},
   "outputs": [],
   "source": [
    "def search_author_index(QID, authors):\n",
    "    res = authors[authors[\"id\"] == QID]\n",
    "    if res.empty:\n",
    "        return -1\n",
    "    return res.index[0]"
   ]
  },
  {
   "cell_type": "code",
   "execution_count": 12,
   "id": "116da089",
   "metadata": {},
   "outputs": [],
   "source": [
    "def assign_value(chunk, index, key, QID, authors):\n",
    "    chunk.at[index, key] = search_author_index(QID, authors)"
   ]
  },
  {
   "cell_type": "code",
   "execution_count": 31,
   "id": "621229f0",
   "metadata": {},
   "outputs": [],
   "source": [
    "def add_author_id(chunk, authors):\n",
    "    import concurrent.futures\n",
    "    executor = concurrent.futures.ThreadPoolExecutor(30)\n",
    "    if \"authorId\" not in chunk: \n",
    "        chunk.insert(chunk.shape[1], \"authorId\", -1)\n",
    "    for index, row in chunk.iterrows():\n",
    "        executor.submit(assign_value, chunk, index, \"authorId\", row.qids[0], authors)\n",
    "    executor.shutdown()\n",
    "    return chunk[chunk[\"authorId\"] != -1]"
   ]
  },
  {
   "cell_type": "code",
   "execution_count": 32,
   "id": "64414ee5",
   "metadata": {},
   "outputs": [
    {
     "name": "stdout",
     "output_type": "stream",
     "text": [
      "quoteID                                           2018-07-16-000103\n",
      "quotation         [ Ensuring ] the orchestrating and timing of M...\n",
      "speaker                                           Corey Lewandowski\n",
      "qids                                                    [Q20740735]\n",
      "date                                            2018-07-16 14:05:34\n",
      "numOccurrences                                                    2\n",
      "probas            [[Corey Lewandowski, 0.7179], [None, 0.2754], ...\n",
      "urls              [http://www.theweek.co.uk/95082/donald-trump-s...\n",
      "phase                                                             E\n",
      "authorId                                                    7154188\n",
      "Name: 12, dtype: object\n",
      "quoteID                                           2018-05-09-001003\n",
      "quotation         300-plus years of them cold shoulders... Obama...\n",
      "speaker                                         Charlamagne Tha God\n",
      "qids                                                    [Q16203002]\n",
      "date                                            2018-05-09 11:00:00\n",
      "numOccurrences                                                    1\n",
      "probas            [[Charlamagne Tha God, 0.4806], [None, 0.2924]...\n",
      "urls              [https://www.portlandmercury.com/music/2018/05...\n",
      "phase                                                             E\n",
      "authorId                                                    2564811\n",
      "Name: 66, dtype: object\n",
      "quoteID                                           2018-08-02-002115\n",
      "quotation         A politically connected contractor made a $500...\n",
      "speaker                                                        None\n",
      "qids                                                             []\n",
      "date                                            2018-08-02 06:24:59\n",
      "numOccurrences                                                    1\n",
      "probas            [[None, 0.7942], [President Trump, 0.1406], [K...\n",
      "urls              [https://sunlightfoundation.com/2018/08/02/tod...\n",
      "phase                                                             E\n",
      "authorId                                                         -1\n",
      "Name: 212, dtype: object\n"
     ]
    },
    {
     "ename": "IndexError",
     "evalue": "list index out of range",
     "output_type": "error",
     "traceback": [
      "\u001b[0;31m---------------------------------------------------------------------------\u001b[0m",
      "\u001b[0;31mIndexError\u001b[0m                                Traceback (most recent call last)",
      "\u001b[0;32m/tmp/ipykernel_119272/4246294128.py\u001b[0m in \u001b[0;36m<module>\u001b[0;34m\u001b[0m\n\u001b[1;32m      3\u001b[0m \u001b[0mstart\u001b[0m \u001b[0;34m=\u001b[0m \u001b[0mtime\u001b[0m\u001b[0;34m.\u001b[0m\u001b[0mtime\u001b[0m\u001b[0;34m(\u001b[0m\u001b[0;34m)\u001b[0m\u001b[0;34m\u001b[0m\u001b[0;34m\u001b[0m\u001b[0m\n\u001b[1;32m      4\u001b[0m \u001b[0;34m\u001b[0m\u001b[0m\n\u001b[0;32m----> 5\u001b[0;31m \u001b[0mprocessed_chunk\u001b[0m \u001b[0;34m=\u001b[0m \u001b[0madd_author_id\u001b[0m\u001b[0;34m(\u001b[0m\u001b[0mchunk\u001b[0m\u001b[0;34m,\u001b[0m \u001b[0mspeaker_attributes_updated\u001b[0m\u001b[0;34m)\u001b[0m\u001b[0;34m\u001b[0m\u001b[0;34m\u001b[0m\u001b[0m\n\u001b[0m\u001b[1;32m      6\u001b[0m \u001b[0;34m\u001b[0m\u001b[0m\n\u001b[1;32m      7\u001b[0m \u001b[0mend\u001b[0m \u001b[0;34m=\u001b[0m \u001b[0mtime\u001b[0m\u001b[0;34m.\u001b[0m\u001b[0mtime\u001b[0m\u001b[0;34m(\u001b[0m\u001b[0;34m)\u001b[0m\u001b[0;34m\u001b[0m\u001b[0;34m\u001b[0m\u001b[0m\n",
      "\u001b[0;32m/tmp/ipykernel_119272/3886498023.py\u001b[0m in \u001b[0;36madd_author_id\u001b[0;34m(chunk, authors)\u001b[0m\n\u001b[1;32m      6\u001b[0m     \u001b[0;32mfor\u001b[0m \u001b[0mindex\u001b[0m\u001b[0;34m,\u001b[0m \u001b[0mrow\u001b[0m \u001b[0;32min\u001b[0m \u001b[0mchunk\u001b[0m\u001b[0;34m.\u001b[0m\u001b[0miterrows\u001b[0m\u001b[0;34m(\u001b[0m\u001b[0;34m)\u001b[0m\u001b[0;34m:\u001b[0m\u001b[0;34m\u001b[0m\u001b[0;34m\u001b[0m\u001b[0m\n\u001b[1;32m      7\u001b[0m         \u001b[0mprint\u001b[0m\u001b[0;34m(\u001b[0m\u001b[0mrow\u001b[0m\u001b[0;34m)\u001b[0m\u001b[0;34m\u001b[0m\u001b[0;34m\u001b[0m\u001b[0m\n\u001b[0;32m----> 8\u001b[0;31m         \u001b[0mexecutor\u001b[0m\u001b[0;34m.\u001b[0m\u001b[0msubmit\u001b[0m\u001b[0;34m(\u001b[0m\u001b[0massign_value\u001b[0m\u001b[0;34m,\u001b[0m \u001b[0mchunk\u001b[0m\u001b[0;34m,\u001b[0m \u001b[0mindex\u001b[0m\u001b[0;34m,\u001b[0m \u001b[0;34m\"authorId\"\u001b[0m\u001b[0;34m,\u001b[0m \u001b[0mrow\u001b[0m\u001b[0;34m.\u001b[0m\u001b[0mqids\u001b[0m\u001b[0;34m[\u001b[0m\u001b[0;36m0\u001b[0m\u001b[0;34m]\u001b[0m\u001b[0;34m,\u001b[0m \u001b[0mauthors\u001b[0m\u001b[0;34m)\u001b[0m\u001b[0;34m\u001b[0m\u001b[0;34m\u001b[0m\u001b[0m\n\u001b[0m\u001b[1;32m      9\u001b[0m     \u001b[0mexecutor\u001b[0m\u001b[0;34m.\u001b[0m\u001b[0mshutdown\u001b[0m\u001b[0;34m(\u001b[0m\u001b[0;34m)\u001b[0m\u001b[0;34m\u001b[0m\u001b[0;34m\u001b[0m\u001b[0m\n\u001b[1;32m     10\u001b[0m     \u001b[0;32mreturn\u001b[0m \u001b[0mchunk\u001b[0m\u001b[0;34m[\u001b[0m\u001b[0mchunk\u001b[0m\u001b[0;34m[\u001b[0m\u001b[0;34m\"authorId\"\u001b[0m\u001b[0;34m]\u001b[0m \u001b[0;34m!=\u001b[0m \u001b[0;34m-\u001b[0m\u001b[0;36m1\u001b[0m\u001b[0;34m]\u001b[0m\u001b[0;34m\u001b[0m\u001b[0;34m\u001b[0m\u001b[0m\n",
      "\u001b[0;31mIndexError\u001b[0m: list index out of range"
     ]
    }
   ],
   "source": [
    "import time\n",
    "\n",
    "start = time.time()\n",
    "\n",
    "processed_chunk = add_author_id(chunk, speaker_attributes_updated)\n",
    "\n",
    "end = time.time()\n",
    "\n",
    "print((end - start))\n",
    "\n",
    "processed_chunk"
   ]
  },
  {
   "cell_type": "markdown",
   "id": "ad6aa63b",
   "metadata": {},
   "source": [
    "### Random Sampling"
   ]
  },
  {
   "cell_type": "markdown",
   "id": "1a578e60",
   "metadata": {},
   "source": [
    "Get a random sampling from the data, the distribution should be the same and the dataset will be manageable given the computation restrictions"
   ]
  },
  {
   "cell_type": "code",
   "execution_count": 170,
   "id": "6293b736",
   "metadata": {},
   "outputs": [],
   "source": [
    "def random_sample(dataset, sample_size):\n",
    "    return dataset.sample(n=sample_size)"
   ]
  },
  {
   "cell_type": "markdown",
   "id": "2fea35b9",
   "metadata": {},
   "source": [
    "### Plot time series"
   ]
  },
  {
   "cell_type": "markdown",
   "id": "18e4c354",
   "metadata": {},
   "source": [
    "We will plot the timeseries of the number of occurrences of quotes referring Hillary Clinton, and compare them with google trends in order to verify the accuracy of our plots."
   ]
  },
  {
   "cell_type": "code",
   "execution_count": 11,
   "id": "9ac33f06",
   "metadata": {},
   "outputs": [],
   "source": [
    "#Load file containing the occurence dates of each quote\n",
    "Clinton_dataframe = pd.read_pickle(\"data/Clinton_with_dates.pkl\")"
   ]
  },
  {
   "cell_type": "code",
   "execution_count": 12,
   "id": "36aeff28",
   "metadata": {},
   "outputs": [
    {
     "data": {
      "text/html": [
       "<div>\n",
       "<style scoped>\n",
       "    .dataframe tbody tr th:only-of-type {\n",
       "        vertical-align: middle;\n",
       "    }\n",
       "\n",
       "    .dataframe tbody tr th {\n",
       "        vertical-align: top;\n",
       "    }\n",
       "\n",
       "    .dataframe thead th {\n",
       "        text-align: right;\n",
       "    }\n",
       "</style>\n",
       "<table border=\"1\" class=\"dataframe\">\n",
       "  <thead>\n",
       "    <tr style=\"text-align: right;\">\n",
       "      <th></th>\n",
       "      <th>quoteID</th>\n",
       "      <th>quotation</th>\n",
       "      <th>speaker</th>\n",
       "      <th>qids</th>\n",
       "      <th>numOccurrences</th>\n",
       "      <th>probas</th>\n",
       "      <th>urls</th>\n",
       "      <th>phase</th>\n",
       "      <th>date</th>\n",
       "    </tr>\n",
       "  </thead>\n",
       "  <tbody>\n",
       "    <tr>\n",
       "      <th>26</th>\n",
       "      <td>2015-10-25-000242</td>\n",
       "      <td>' It is not now, nor has it ever been, the gol...</td>\n",
       "      <td>Bernie Sanders</td>\n",
       "      <td>[Q359442]</td>\n",
       "      <td>1</td>\n",
       "      <td>[[Bernie Sanders, 0.5395], [None, 0.3128], [Hi...</td>\n",
       "      <td>[http://examiner.com/article/bernie-sanders-sl...</td>\n",
       "      <td>E</td>\n",
       "      <td>[2015-10-25 14:12:35]</td>\n",
       "    </tr>\n",
       "    <tr>\n",
       "      <th>888</th>\n",
       "      <td>2015-09-16-006359</td>\n",
       "      <td>And I'm just pointing out the absurd on both s...</td>\n",
       "      <td>Kathleen Madigan</td>\n",
       "      <td>[Q6376814]</td>\n",
       "      <td>1</td>\n",
       "      <td>[[Kathleen Madigan, 0.8025], [None, 0.1975]]</td>\n",
       "      <td>[http://northjersey.com/arts-and-entertainment...</td>\n",
       "      <td>E</td>\n",
       "      <td>[2015-09-16 05:44:37]</td>\n",
       "    </tr>\n",
       "    <tr>\n",
       "      <th>6930</th>\n",
       "      <td>2015-10-22-051493</td>\n",
       "      <td>If [ Democratic presidential candidate former ...</td>\n",
       "      <td>Marco Rubio</td>\n",
       "      <td>[Q324546]</td>\n",
       "      <td>1</td>\n",
       "      <td>[[Marco Rubio, 0.93], [None, 0.0685], [Hillary...</td>\n",
       "      <td>[http://breitbart.com/video/2015/10/22/rubio-i...</td>\n",
       "      <td>E</td>\n",
       "      <td>[2015-10-22 20:04:16]</td>\n",
       "    </tr>\n",
       "    <tr>\n",
       "      <th>7374</th>\n",
       "      <td>2015-12-31-032035</td>\n",
       "      <td>I'm electable. I was elected in a purple state...</td>\n",
       "      <td>Jeb Bush</td>\n",
       "      <td>[Q221997]</td>\n",
       "      <td>7</td>\n",
       "      <td>[[Jeb Bush, 0.8392], [None, 0.0925], [Hillary ...</td>\n",
       "      <td>[http://www.postandcourier.com/article/2015123...</td>\n",
       "      <td>E</td>\n",
       "      <td>[2015-12-31 03:29:00]</td>\n",
       "    </tr>\n",
       "    <tr>\n",
       "      <th>9855</th>\n",
       "      <td>2015-11-12-104266</td>\n",
       "      <td>The incentive to invent episodes of discrimina...</td>\n",
       "      <td>Glenn Reynolds</td>\n",
       "      <td>[Q4392664]</td>\n",
       "      <td>2</td>\n",
       "      <td>[[Glenn Reynolds, 0.3454], [Ed Driscoll, 0.322...</td>\n",
       "      <td>[http://pjmedia.com/instapundit/218734/, http:...</td>\n",
       "      <td>E</td>\n",
       "      <td>[2015-11-12 00:00:00]</td>\n",
       "    </tr>\n",
       "    <tr>\n",
       "      <th>...</th>\n",
       "      <td>...</td>\n",
       "      <td>...</td>\n",
       "      <td>...</td>\n",
       "      <td>...</td>\n",
       "      <td>...</td>\n",
       "      <td>...</td>\n",
       "      <td>...</td>\n",
       "      <td>...</td>\n",
       "      <td>...</td>\n",
       "    </tr>\n",
       "    <tr>\n",
       "      <th>5222109</th>\n",
       "      <td>2020-03-06-025712</td>\n",
       "      <td>I think that would have been a mistake, becaus...</td>\n",
       "      <td>Jennifer Palmieri</td>\n",
       "      <td>[Q18209402]</td>\n",
       "      <td>1</td>\n",
       "      <td>[[Jennifer Palmieri, 0.9117], [None, 0.056], [...</td>\n",
       "      <td>[https://www.rollingstone.com/politics/politic...</td>\n",
       "      <td>E</td>\n",
       "      <td>[2020-03-06 14:38:07]</td>\n",
       "    </tr>\n",
       "    <tr>\n",
       "      <th>5231803</th>\n",
       "      <td>2020-01-18-006266</td>\n",
       "      <td>Chief Justice Rehnquist, when he presided over...</td>\n",
       "      <td>Dick Durbin</td>\n",
       "      <td>[Q434804]</td>\n",
       "      <td>1</td>\n",
       "      <td>[[Dick Durbin, 0.898], [None, 0.079], [Charlie...</td>\n",
       "      <td>[https://www.washingtonexaminer.com/news/impea...</td>\n",
       "      <td>E</td>\n",
       "      <td>[2020-01-18 05:01:08]</td>\n",
       "    </tr>\n",
       "    <tr>\n",
       "      <th>5235860</th>\n",
       "      <td>2020-01-06-061256</td>\n",
       "      <td>The main difference between Lindsey and his De...</td>\n",
       "      <td>David Woodard</td>\n",
       "      <td>[Q1177254]</td>\n",
       "      <td>6</td>\n",
       "      <td>[[David Woodard, 0.7544], [None, 0.1797], [Lin...</td>\n",
       "      <td>[http://chron.com/entertainment/article/How-Li...</td>\n",
       "      <td>E</td>\n",
       "      <td>[2020-01-06 00:00:00]</td>\n",
       "    </tr>\n",
       "    <tr>\n",
       "      <th>5235869</th>\n",
       "      <td>2020-04-09-052373</td>\n",
       "      <td>The model of Obama asking Bush and Clinton to ...</td>\n",
       "      <td>Bill Haslam</td>\n",
       "      <td>[Q862186]</td>\n",
       "      <td>1</td>\n",
       "      <td>[[Bill Haslam, 0.905], [None, 0.0837], [Barack...</td>\n",
       "      <td>[http://www.nytimes.com/2020/04/09/us/politics...</td>\n",
       "      <td>E</td>\n",
       "      <td>[2020-04-09 23:04:21]</td>\n",
       "    </tr>\n",
       "    <tr>\n",
       "      <th>5237423</th>\n",
       "      <td>2020-01-22-037250</td>\n",
       "      <td>I think the fact is that Mitch keeps telling y...</td>\n",
       "      <td>Patrick Leahy</td>\n",
       "      <td>[Q59315]</td>\n",
       "      <td>10</td>\n",
       "      <td>[[Patrick Leahy, 0.8213], [None, 0.148], [Roge...</td>\n",
       "      <td>[http://wicz.com/story/41593610/inside-the-rep...</td>\n",
       "      <td>E</td>\n",
       "      <td>[2020-01-22 08:45:29, 2020-01-23 05:13:15, 202...</td>\n",
       "    </tr>\n",
       "  </tbody>\n",
       "</table>\n",
       "<p>62033 rows × 9 columns</p>\n",
       "</div>"
      ],
      "text/plain": [
       "                   quoteID                                          quotation  \\\n",
       "26       2015-10-25-000242  ' It is not now, nor has it ever been, the gol...   \n",
       "888      2015-09-16-006359  And I'm just pointing out the absurd on both s...   \n",
       "6930     2015-10-22-051493  If [ Democratic presidential candidate former ...   \n",
       "7374     2015-12-31-032035  I'm electable. I was elected in a purple state...   \n",
       "9855     2015-11-12-104266  The incentive to invent episodes of discrimina...   \n",
       "...                    ...                                                ...   \n",
       "5222109  2020-03-06-025712  I think that would have been a mistake, becaus...   \n",
       "5231803  2020-01-18-006266  Chief Justice Rehnquist, when he presided over...   \n",
       "5235860  2020-01-06-061256  The main difference between Lindsey and his De...   \n",
       "5235869  2020-04-09-052373  The model of Obama asking Bush and Clinton to ...   \n",
       "5237423  2020-01-22-037250  I think the fact is that Mitch keeps telling y...   \n",
       "\n",
       "                   speaker         qids  numOccurrences  \\\n",
       "26          Bernie Sanders    [Q359442]               1   \n",
       "888       Kathleen Madigan   [Q6376814]               1   \n",
       "6930           Marco Rubio    [Q324546]               1   \n",
       "7374              Jeb Bush    [Q221997]               7   \n",
       "9855        Glenn Reynolds   [Q4392664]               2   \n",
       "...                    ...          ...             ...   \n",
       "5222109  Jennifer Palmieri  [Q18209402]               1   \n",
       "5231803        Dick Durbin    [Q434804]               1   \n",
       "5235860      David Woodard   [Q1177254]               6   \n",
       "5235869        Bill Haslam    [Q862186]               1   \n",
       "5237423      Patrick Leahy     [Q59315]              10   \n",
       "\n",
       "                                                    probas  \\\n",
       "26       [[Bernie Sanders, 0.5395], [None, 0.3128], [Hi...   \n",
       "888           [[Kathleen Madigan, 0.8025], [None, 0.1975]]   \n",
       "6930     [[Marco Rubio, 0.93], [None, 0.0685], [Hillary...   \n",
       "7374     [[Jeb Bush, 0.8392], [None, 0.0925], [Hillary ...   \n",
       "9855     [[Glenn Reynolds, 0.3454], [Ed Driscoll, 0.322...   \n",
       "...                                                    ...   \n",
       "5222109  [[Jennifer Palmieri, 0.9117], [None, 0.056], [...   \n",
       "5231803  [[Dick Durbin, 0.898], [None, 0.079], [Charlie...   \n",
       "5235860  [[David Woodard, 0.7544], [None, 0.1797], [Lin...   \n",
       "5235869  [[Bill Haslam, 0.905], [None, 0.0837], [Barack...   \n",
       "5237423  [[Patrick Leahy, 0.8213], [None, 0.148], [Roge...   \n",
       "\n",
       "                                                      urls phase  \\\n",
       "26       [http://examiner.com/article/bernie-sanders-sl...     E   \n",
       "888      [http://northjersey.com/arts-and-entertainment...     E   \n",
       "6930     [http://breitbart.com/video/2015/10/22/rubio-i...     E   \n",
       "7374     [http://www.postandcourier.com/article/2015123...     E   \n",
       "9855     [http://pjmedia.com/instapundit/218734/, http:...     E   \n",
       "...                                                    ...   ...   \n",
       "5222109  [https://www.rollingstone.com/politics/politic...     E   \n",
       "5231803  [https://www.washingtonexaminer.com/news/impea...     E   \n",
       "5235860  [http://chron.com/entertainment/article/How-Li...     E   \n",
       "5235869  [http://www.nytimes.com/2020/04/09/us/politics...     E   \n",
       "5237423  [http://wicz.com/story/41593610/inside-the-rep...     E   \n",
       "\n",
       "                                                      date  \n",
       "26                                   [2015-10-25 14:12:35]  \n",
       "888                                  [2015-09-16 05:44:37]  \n",
       "6930                                 [2015-10-22 20:04:16]  \n",
       "7374                                 [2015-12-31 03:29:00]  \n",
       "9855                                 [2015-11-12 00:00:00]  \n",
       "...                                                    ...  \n",
       "5222109                              [2020-03-06 14:38:07]  \n",
       "5231803                              [2020-01-18 05:01:08]  \n",
       "5235860                              [2020-01-06 00:00:00]  \n",
       "5235869                              [2020-04-09 23:04:21]  \n",
       "5237423  [2020-01-22 08:45:29, 2020-01-23 05:13:15, 202...  \n",
       "\n",
       "[62033 rows x 9 columns]"
      ]
     },
     "execution_count": 12,
     "metadata": {},
     "output_type": "execute_result"
    }
   ],
   "source": [
    "Clinton_dataframe"
   ]
  },
  {
   "cell_type": "code",
   "execution_count": 112,
   "id": "71878050",
   "metadata": {},
   "outputs": [
    {
     "ename": "KeyboardInterrupt",
     "evalue": "",
     "output_type": "error",
     "traceback": [
      "\u001b[0;31m---------------------------------------------------------------------------\u001b[0m",
      "\u001b[0;31mKeyboardInterrupt\u001b[0m                         Traceback (most recent call last)",
      "\u001b[0;32m/tmp/ipykernel_11827/641637547.py\u001b[0m in \u001b[0;36m<module>\u001b[0;34m\u001b[0m\n\u001b[1;32m      2\u001b[0m \u001b[0;34m\u001b[0m\u001b[0m\n\u001b[1;32m      3\u001b[0m \u001b[0;32mfor\u001b[0m \u001b[0mdate_list\u001b[0m \u001b[0;32min\u001b[0m \u001b[0mClinton_dataframe\u001b[0m\u001b[0;34m[\u001b[0m\u001b[0;34m\"date\"\u001b[0m\u001b[0;34m]\u001b[0m\u001b[0;34m.\u001b[0m\u001b[0mvalues\u001b[0m\u001b[0;34m:\u001b[0m\u001b[0;34m\u001b[0m\u001b[0;34m\u001b[0m\u001b[0m\n\u001b[0;32m----> 4\u001b[0;31m     \u001b[0mlist_Clinton_dates\u001b[0m \u001b[0;34m=\u001b[0m \u001b[0mlist_Clinton_dates\u001b[0m \u001b[0;34m+\u001b[0m \u001b[0mdate_list\u001b[0m\u001b[0;34m\u001b[0m\u001b[0;34m\u001b[0m\u001b[0m\n\u001b[0m\u001b[1;32m      5\u001b[0m \u001b[0;34m\u001b[0m\u001b[0m\n\u001b[1;32m      6\u001b[0m \u001b[0mtimes_series_Clinton\u001b[0m \u001b[0;34m=\u001b[0m \u001b[0mpd\u001b[0m\u001b[0;34m.\u001b[0m\u001b[0mDataFrame\u001b[0m\u001b[0;34m(\u001b[0m\u001b[0mindex\u001b[0m \u001b[0;34m=\u001b[0m \u001b[0mlist_Clinton_dates\u001b[0m\u001b[0;34m)\u001b[0m\u001b[0;34m\u001b[0m\u001b[0;34m\u001b[0m\u001b[0m\n",
      "\u001b[0;31mKeyboardInterrupt\u001b[0m: "
     ]
    }
   ],
   "source": [
    "#merge all dates in one singlelist to make it easier to plot\n",
    "list_Clinton_dates = []\n",
    "\n",
    "for date_list in Clinton_dataframe[\"date\"].values:\n",
    "    list_Clinton_dates = list_Clinton_dates + date_list\n",
    "    \n",
    "times_series_Clinton = pd.DataFrame(index = list_Clinton_dates)\n",
    "times_series_Clinton.index = times_series_Clinton.index.map(lambda x: str(x)[:-9])"
   ]
  },
  {
   "cell_type": "markdown",
   "id": "431a1f90",
   "metadata": {},
   "source": [
    "Plot time series of quotes referring Hillary Clinton"
   ]
  },
  {
   "cell_type": "code",
   "execution_count": 89,
   "id": "a59b5978",
   "metadata": {},
   "outputs": [
    {
     "data": {
      "image/png": "[encoded data removed]",
      "text/plain": [
       "<Figure size 1296x432 with 1 Axes>"
      ]
     },
     "metadata": {
      "needs_background": "light"
     },
     "output_type": "display_data"
    }
   ],
   "source": [
    "#Plot time series\n",
    "times_series_Clinton[\"numOccurrences\"] = 1\n",
    "times_series_Clinton.groupby(by = times_series_Clinton.index).count().plot()\n",
    "plt.rcParams[\"figure.figsize\"] = (18,6) \n",
    "plt.title(\"timeseries of the number of occurrences of quotes referring to Hillary Clinton\")\n",
    "plt.xlabel(\"time\")\n",
    "plt.show()"
   ]
  },
  {
   "cell_type": "code",
   "execution_count": 90,
   "id": "9405d438",
   "metadata": {},
   "outputs": [
    {
     "data": {
      "text/plain": [
       "numOccurrences    2104\n",
       "dtype: int64"
      ]
     },
     "execution_count": 90,
     "metadata": {},
     "output_type": "execute_result"
    }
   ],
   "source": [
    "#maximum number of occurences\n",
    "times_series_Clinton.groupby(by = times_series_Clinton.index).count().max()"
   ]
  },
  {
   "cell_type": "markdown",
   "id": "b0bd39c5",
   "metadata": {},
   "source": [
    "As we can see the number of the maximum occurrences is 2104, which corresponds to the peak seen in the plot, let us see what is the date associated to that."
   ]
  },
  {
   "cell_type": "code",
   "execution_count": 91,
   "id": "46931889",
   "metadata": {},
   "outputs": [
    {
     "data": {
      "text/html": [
       "<div>\n",
       "<style scoped>\n",
       "    .dataframe tbody tr th:only-of-type {\n",
       "        vertical-align: middle;\n",
       "    }\n",
       "\n",
       "    .dataframe tbody tr th {\n",
       "        vertical-align: top;\n",
       "    }\n",
       "\n",
       "    .dataframe thead th {\n",
       "        text-align: right;\n",
       "    }\n",
       "</style>\n",
       "<table border=\"1\" class=\"dataframe\">\n",
       "  <thead>\n",
       "    <tr style=\"text-align: right;\">\n",
       "      <th></th>\n",
       "      <th>numOccurrences</th>\n",
       "    </tr>\n",
       "  </thead>\n",
       "  <tbody>\n",
       "    <tr>\n",
       "      <th>2017-01-12</th>\n",
       "      <td>1</td>\n",
       "    </tr>\n",
       "    <tr>\n",
       "      <th>2016-04-01</th>\n",
       "      <td>1</td>\n",
       "    </tr>\n",
       "    <tr>\n",
       "      <th>2016-04-03</th>\n",
       "      <td>1</td>\n",
       "    </tr>\n",
       "    <tr>\n",
       "      <th>2016-04-05</th>\n",
       "      <td>1</td>\n",
       "    </tr>\n",
       "    <tr>\n",
       "      <th>2016-06-04</th>\n",
       "      <td>1</td>\n",
       "    </tr>\n",
       "    <tr>\n",
       "      <th>...</th>\n",
       "      <td>...</td>\n",
       "    </tr>\n",
       "    <tr>\n",
       "      <th>2016-07-12</th>\n",
       "      <td>997</td>\n",
       "    </tr>\n",
       "    <tr>\n",
       "      <th>2016-07-25</th>\n",
       "      <td>1043</td>\n",
       "    </tr>\n",
       "    <tr>\n",
       "      <th>2016-07-27</th>\n",
       "      <td>1241</td>\n",
       "    </tr>\n",
       "    <tr>\n",
       "      <th>2016-07-28</th>\n",
       "      <td>1417</td>\n",
       "    </tr>\n",
       "    <tr>\n",
       "      <th>2016-07-26</th>\n",
       "      <td>2104</td>\n",
       "    </tr>\n",
       "  </tbody>\n",
       "</table>\n",
       "<p>1864 rows × 1 columns</p>\n",
       "</div>"
      ],
      "text/plain": [
       "            numOccurrences\n",
       "2017-01-12               1\n",
       "2016-04-01               1\n",
       "2016-04-03               1\n",
       "2016-04-05               1\n",
       "2016-06-04               1\n",
       "...                    ...\n",
       "2016-07-12             997\n",
       "2016-07-25            1043\n",
       "2016-07-27            1241\n",
       "2016-07-28            1417\n",
       "2016-07-26            2104\n",
       "\n",
       "[1864 rows x 1 columns]"
      ]
     },
     "execution_count": 91,
     "metadata": {},
     "output_type": "execute_result"
    }
   ],
   "source": [
    "# date associated with maximum number of occurencer\n",
    "times_series_Clinton.groupby(by = times_series_Clinton.index).count().sort_values('numOccurrences')"
   ]
  },
  {
   "cell_type": "markdown",
   "id": "67b3a556",
   "metadata": {},
   "source": [
    "Since the date of the official nominee was 26 july of 2016, the peak simply reflects the interest of media on the new candidate."
   ]
  },
  {
   "cell_type": "markdown",
   "id": "7dbb45dd",
   "metadata": {},
   "source": [
    "### Compare with google trends"
   ]
  },
  {
   "cell_type": "code",
   "execution_count": 86,
   "id": "7d730c7d",
   "metadata": {},
   "outputs": [
    {
     "data": {
      "image/png": "[encoded data removed]",
      "text/plain": [
       "<Figure size 1296x432 with 1 Axes>"
      ]
     },
     "metadata": {
      "needs_background": "light"
     },
     "output_type": "display_data"
    }
   ],
   "source": [
    "#plot google trends time series referred to the number of times Hillary Clinton was search\n",
    "img_Clinton = mpimg.imread('Figures/Clinton_google_trends.jpeg')\n",
    "imgplot = plt.imshow(img_Clinton)\n",
    "\n",
    "plt.title(\"Timeseries of the number of times that Hillary Clinton was search\")\n",
    "plt.axis(\"off\")\n",
    "plt.show()"
   ]
  },
  {
   "cell_type": "markdown",
   "id": "ae43c5c5",
   "metadata": {},
   "source": [
    "As we can see in the plots of google trends and the time series of the number of occurrences of quotes related to Hillary Clinton, there is a spike on both plots in the year of 2016. This year match the United States presidencial elections year where Hillary Clinton was the presumptive nominee of the Democratic Party and running against Donald Trump."
   ]
  },
  {
   "cell_type": "markdown",
   "id": "7e5314ae",
   "metadata": {},
   "source": [
    "Now, comparing the spikes of both plots, we see that the spike of number of occurences of quotes refering Hillary Clinton happen arround the month of July and the spike of google trends happen arround November. A possible explanation for this deviation, is that we can assume that one of the main motivations for people to google a certain topic is because they read something about it, so it is plausible that the spike for the number of occurences of quotes related to a certain topic happen before the spike of google trends."
   ]
  },
  {
   "cell_type": "markdown",
   "id": "08d3e8a9",
   "metadata": {},
   "source": [
    "### Relation between attribute and speakers"
   ]
  },
  {
   "cell_type": "markdown",
   "id": "24a1a268",
   "metadata": {},
   "source": [
    "Our objective here is to realize if there is any relation between a specific attribute and the speakers of a certain politician"
   ]
  },
  {
   "cell_type": "markdown",
   "id": "c0431297",
   "metadata": {},
   "source": [
    "First to do this type of analisys, we load file with the authorID merged. This column contain the index of the speaker attributes file. This way we can search in constant time the speaker's attributes resulting in a more compact and general way to merge this values."
   ]
  },
  {
   "cell_type": "code",
   "execution_count": null,
   "id": "6d49ee9e",
   "metadata": {},
   "outputs": [],
   "source": [
    "#Load Clinton's speakers attributes file\n",
    "Clinton_atributes = pd.read_pickle(\"data/Clinton_with_attributes.pkl\")"
   ]
  },
  {
   "cell_type": "markdown",
   "id": "d5da448c",
   "metadata": {},
   "source": [
    "Furthermore, we will need a function that extract a certain attribute of every speaker that quote a certain politician, so with this in mind we develop a function for that porpose."
   ]
  },
  {
   "cell_type": "code",
   "execution_count": 51,
   "id": "65da6bbf",
   "metadata": {},
   "outputs": [],
   "source": [
    "def get_DataFrame_of_attribute(speakers_attribute_file,politician_with_attributes,attribute):\n",
    "    \"\"\"given a attribute return a dataframe with the attribute of each speaker of a certain politician\"\"\"\n",
    "\n",
    "    #get the attribute of the speaker based on speaker attribute file\n",
    "    Attribute_speaker_values = speakers_attribute_file.iloc[politician_with_attributes[\"authorId\"]][attribute]\n",
    "\n",
    "    df = pd.DataFrame()\n",
    "    df[attribute] = Attribute_speaker_values\n",
    "\n",
    "    #filter the speakers with no attribute assined\n",
    "    df = df[pd.notna(df[attribute])]\n",
    "\n",
    "    \n",
    "    return df"
   ]
  },
  {
   "cell_type": "markdown",
   "id": "69733794",
   "metadata": {},
   "source": [
    "We will need a function that return a dataframe is properlly fitted to do clear visualizations: "
   ]
  },
  {
   "cell_type": "code",
   "execution_count": 52,
   "id": "24c0541d",
   "metadata": {},
   "outputs": [],
   "source": [
    "def get_DataFrame_for_plot(df_raw,attribute, Relev_Num):\n",
    "    \"\"\"given a attribute and Relevant_Number return a dataframe with the relevant number of counts of speakers with a certain attribute\"\"\"\n",
    "    list_Author_attribute = []\n",
    "\n",
    "    for attribute_list in df_raw[attribute]:\n",
    "        for attribute_value in attribute_list:\n",
    "            list_Author_attribute.append(attribute_value)\n",
    "\n",
    "    Author_attribute = pd.DataFrame(list_Author_attribute)\n",
    "    Author_attribute_counts = Author_attribute.value_counts()\n",
    "\n",
    "    #Consider relevant only the attribute with more than Relev_Num counts\n",
    "    Author_attribute_values = Author_attribute_counts[Author_attribute_counts > Relev_Num]\n",
    "    Author_attribute_values\n",
    "    \n",
    "    Author_attribute_plot_values = pd.DataFrame()\n",
    "    Author_attribute_plot_values[\"counts\"] = Author_attribute_values\n",
    "    Author_attribute_plot_values = Author_attribute_plot_values.reset_index(level=0)\n",
    "    Author_attribute_plot_values = Author_attribute_plot_values.rename(columns={0:attribute})\n",
    "    \n",
    "    return Author_attribute_values, Author_attribute_plot_values"
   ]
  },
  {
   "cell_type": "markdown",
   "id": "24ae90de",
   "metadata": {},
   "source": [
    "### Relation between age and speakers "
   ]
  },
  {
   "cell_type": "markdown",
   "id": "5bb44793",
   "metadata": {},
   "source": [
    "Our objective here is to analise the age distribution of the Clinton's speakers"
   ]
  },
  {
   "cell_type": "markdown",
   "id": "bb6a691b",
   "metadata": {},
   "source": [
    "We get the age of each speaker based in their date of birth and then filter the outliers which we consider as ages larger than 100 years old. "
   ]
  },
  {
   "cell_type": "code",
   "execution_count": 7,
   "id": "1d9200a6",
   "metadata": {},
   "outputs": [],
   "source": [
    "age_speaker_values = speaker_attributes_updated.iloc[Clinton_atributes[\"authorId\"]][\"date_of_birth\"].values\n",
    "age_list = []\n",
    "for date in age_speaker_values:\n",
    "    if date is not None:\n",
    "        age_list.append(int(date[0][1:5]))\n",
    "                        \n",
    "df_age = pd.DataFrame()\n",
    "df_age[\"age\"] = age_list\n",
    "df_age[\"age\"] = df_age[\"age\"].transform(lambda x: 2021-x) \n",
    "age_list_filtered = df_age[df_age[\"age\"]<100][\"age\"].values\n"
   ]
  },
  {
   "cell_type": "markdown",
   "id": "4cb17344",
   "metadata": {},
   "source": [
    "Plot the age distribution of Clinton's speakers"
   ]
  },
  {
   "cell_type": "code",
   "execution_count": 9,
   "id": "b275b075",
   "metadata": {},
   "outputs": [
    {
     "data": {
      "image/png": "[encoded data removed]",
      "text/plain": [
       "<Figure size 432x288 with 1 Axes>"
      ]
     },
     "metadata": {
      "needs_background": "light"
     },
     "output_type": "display_data"
    }
   ],
   "source": [
    "#plot the age distribution\n",
    "plt.hist(age_list_filtered, bins= 100)\n",
    "plt.show()"
   ]
  },
  {
   "cell_type": "markdown",
   "id": "a961c233",
   "metadata": {},
   "source": [
    "### Relation between ethnic group and speakers"
   ]
  },
  {
   "cell_type": "markdown",
   "id": "4e4bbff1",
   "metadata": {},
   "source": [
    "Our objective here is realize which ethnic group are talking the most about a certain politician."
   ]
  },
  {
   "cell_type": "code",
   "execution_count": 40,
   "id": "faa52f7f",
   "metadata": {},
   "outputs": [],
   "source": [
    "df_Clinton_ethnic = get_DataFrame_of_attribute(speaker_attributes_updated,Clinton_atributes,\"ethnic_group\")"
   ]
  },
  {
   "cell_type": "markdown",
   "id": "fdfc404a",
   "metadata": {},
   "source": [
    "Our final goal in this topic is to plot an histogram, so in order to have a better visualization we will just consider relevant the ethnic groups with more than 30 counts"
   ]
  },
  {
   "cell_type": "code",
   "execution_count": 46,
   "id": "0722ba9f",
   "metadata": {},
   "outputs": [
    {
     "data": {
      "text/plain": [
       "African Americans                   1227\n",
       "Jewish people                       1144\n",
       "Irish people                         357\n",
       "Multiracial American                 299\n",
       "Luo people of Kenya and Tanzania     284\n",
       "Kenyan Americans                     284\n",
       "white people                         138\n",
       "Australians                          110\n",
       "Italian American                     106\n",
       "American Jews                         93\n",
       "White Americans                       83\n",
       "Scotch-Irish Americans                78\n",
       "Czech American                        75\n",
       "Scottish American                     68\n",
       "Americans                             64\n",
       "Croatian American                     60\n",
       "Irish Americans                       45\n",
       "Russians                              36\n",
       "Armenian American                     34\n",
       "Indian American                       31\n",
       "dtype: int64"
      ]
     },
     "execution_count": 46,
     "metadata": {},
     "output_type": "execute_result"
    }
   ],
   "source": [
    "Clinton_ethnic_values, Clinton_ethnic_plot_values = get_DataFrame_for_plot(df_Clinton_ethnic,\"ethnic_group\",30)\n",
    "Clinton_ethnic_values"
   ]
  },
  {
   "cell_type": "markdown",
   "id": "01ae1c8f",
   "metadata": {},
   "source": [
    "Plot the ethnic group distribution of Clinton's speakers"
   ]
  },
  {
   "cell_type": "code",
   "execution_count": 45,
   "id": "d6cd3392",
   "metadata": {},
   "outputs": [
    {
     "data": {
      "image/png": "[encoded data removed]",
      "text/plain": [
       "<Figure size 432x288 with 1 Axes>"
      ]
     },
     "metadata": {
      "needs_background": "light"
     },
     "output_type": "display_data"
    }
   ],
   "source": [
    "#histogram for the main ethnic groups of the speakers  \n",
    "ethnic_Clinton_hist = sns.barplot(x=Clinton_ethnic_plot_values[\"counts\"], y=Clinton_ethnic_plot_values[\"ethnic_group\"].values, data=Clinton_ethnic_plot_values)\n",
    "plt.show()"
   ]
  },
  {
   "cell_type": "markdown",
   "id": "7e41c89a",
   "metadata": {},
   "source": [
    "### Relation between academic degreee and speakers"
   ]
  },
  {
   "cell_type": "markdown",
   "id": "c08efa5f",
   "metadata": {},
   "source": [
    "Our objective here is to realize if there is any relation between the academic degree and speaker of a certain politician"
   ]
  },
  {
   "cell_type": "markdown",
   "id": "d09899b2",
   "metadata": {},
   "source": [
    "For instance lets take Clinton's speakers as our sample of study"
   ]
  },
  {
   "cell_type": "code",
   "execution_count": 47,
   "id": "3e67e88d",
   "metadata": {},
   "outputs": [],
   "source": [
    "df_Clinton_AD = get_DataFrame_of_attribute(speaker_attributes_updated,Clinton_atributes,\"academic_degree\")"
   ]
  },
  {
   "cell_type": "markdown",
   "id": "f30e80c9",
   "metadata": {},
   "source": [
    "Our final goal in this topic is to plot an histogram, so in order to have a better visualization we will just consider relevant the academic degrees with more than 5 counts"
   ]
  },
  {
   "cell_type": "code",
   "execution_count": 53,
   "id": "8d16f003",
   "metadata": {},
   "outputs": [
    {
     "data": {
      "text/plain": [
       "Bachelor of Arts                     3216\n",
       "Juris Doctor                         1577\n",
       "Bachelor of Science                   672\n",
       "Master of Business Administration     385\n",
       "Master of Science                     298\n",
       "Doctor of Laws                        274\n",
       "Doctor of Medicine                    251\n",
       "bachelor's degree                     197\n",
       "Doctor of Philosophy                  168\n",
       "Master of Letters                      92\n",
       "Candidate of Economic Sciences         35\n",
       "Bachelor of Economics                  28\n",
       "Master of Laws                         26\n",
       "doctorate                              19\n",
       "PhD in Law                             17\n",
       "Doktor Nauk in Juridical Science       14\n",
       "psychology                             12\n",
       "doctor honoris causa                   10\n",
       "Master of International Affairs         8\n",
       "dtype: int64"
      ]
     },
     "execution_count": 53,
     "metadata": {},
     "output_type": "execute_result"
    }
   ],
   "source": [
    "Clinton_AD_values, Clinton_AD_plot_values = get_DataFrame_for_plot(df_Clinton_AD,\"academic_degree\",5)\n",
    "Clinton_AD_values"
   ]
  },
  {
   "cell_type": "markdown",
   "id": "8ca06cca",
   "metadata": {},
   "source": [
    "Plot the academic degree distribution of Clinton's speakers"
   ]
  },
  {
   "cell_type": "code",
   "execution_count": 50,
   "id": "ba8365f2",
   "metadata": {},
   "outputs": [
    {
     "data": {
      "image/png": "[encoded data removed]",
      "text/plain": [
       "<Figure size 432x288 with 1 Axes>"
      ]
     },
     "metadata": {
      "needs_background": "light"
     },
     "output_type": "display_data"
    }
   ],
   "source": [
    "#histogram for the main academic degree of the speakers  \n",
    "AD_Clinton_hist = sns.barplot(x=Clinton_AD_plot_values[\"counts\"], y=Clinton_AD_plot_values[\"academic_degree\"].values, data=Clinton_AD_plot_values)\n",
    "plt.show()"
   ]
  },
  {
   "cell_type": "markdown",
   "id": "0e69ff6f",
   "metadata": {},
   "source": [
    "### After"
   ]
  },
  {
   "cell_type": "code",
   "execution_count": null,
   "id": "88c75f82",
   "metadata": {},
   "outputs": [],
   "source": [
    "df_Trump = pd.read_csv('df_Trump_cleaned.csv', header =0, index_col=0, parse_dates=True, squeeze = True )\n",
    "df_Trump.index = df_Trump.index.map(lambda x: str(x)[:-7]) #we transform the quote_ID in a format date\n",
    "df_Trump.to_csv('df_Trumps_with_dates.csv')"
   ]
  },
  {
   "cell_type": "code",
   "execution_count": null,
   "id": "d311cd39",
   "metadata": {},
   "outputs": [],
   "source": [
    "df_Trump = pd.read_csv('df_Trumps_with_dates.csv',header =0, index_col=0, parse_dates=True, squeeze = True )"
   ]
  },
  {
   "cell_type": "code",
   "execution_count": null,
   "id": "2aeeabed",
   "metadata": {},
   "outputs": [],
   "source": [
    "df_Trump.head(10) #as we can see now we have the dates"
   ]
  },
  {
   "cell_type": "code",
   "execution_count": null,
   "id": "fcf1b32b",
   "metadata": {},
   "outputs": [],
   "source": [
    "# we plot the Trump timeseries of the number of quotes over the past few years\n",
    "plt.rcParams[\"figure.figsize\"] = (18,6)\n",
    "ax = df_Trump.plot()\n",
    "plt.title('timeseries of the number of occurences of quotes referring to Donald Trump')\n",
    "plt.xlabel('time')\n",
    "plt.show()"
   ]
  },
  {
   "cell_type": "markdown",
   "id": "ea33b9ed",
   "metadata": {},
   "source": [
    "The time serie is quite interesting, as we can see there are some peaks in it, one big peak at the end of 2017. In milestone 3 we will try to link these peaks with the political events in his career"
   ]
  },
  {
   "cell_type": "markdown",
   "id": "0026a6ba",
   "metadata": {},
   "source": [
    "### We could try to filter the dataset finding just the quotes in the two months before and after the elections of november 2016 in order to understand if this event correspond to a major number of quotes referring to Trump"
   ]
  },
  {
   "cell_type": "code",
   "execution_count": null,
   "id": "aad6c1bb",
   "metadata": {},
   "outputs": [],
   "source": [
    "df_Trump_2_months_before = df_Trump[('2016-11-09'>=df_Trump.index) & (df_Trump.index >= '2016-09-01')] "
   ]
  },
  {
   "cell_type": "code",
   "execution_count": null,
   "id": "ee2deae4",
   "metadata": {},
   "outputs": [],
   "source": [
    "df_Trump_2_months_before"
   ]
  },
  {
   "cell_type": "code",
   "execution_count": null,
   "id": "5c0e1f51",
   "metadata": {},
   "outputs": [],
   "source": [
    "# we plot the Trump timeseries of the number of quotes over the past two months before the elections\n",
    "plt.rcParams[\"figure.figsize\"] = (12,6)\n",
    "ax = df_Trump_2_months_before.plot()\n",
    "plt.title('timeseries of the number of occurences of quotes referring to Donald Trump two months before the elections')\n",
    "plt.xlabel('time')\n",
    "plt.show()"
   ]
  },
  {
   "cell_type": "code",
   "execution_count": null,
   "id": "9eda89d9",
   "metadata": {},
   "outputs": [],
   "source": [
    "df_Trump_2_months_after = df_Trump[('2016-11-09'<=df_Trump.index) & (df_Trump.index <= '2017-01-01')] "
   ]
  },
  {
   "cell_type": "code",
   "execution_count": null,
   "id": "51768ed7",
   "metadata": {},
   "outputs": [],
   "source": [
    "df_Trump_2_months_after"
   ]
  },
  {
   "cell_type": "code",
   "execution_count": null,
   "id": "72dec6dd",
   "metadata": {},
   "outputs": [],
   "source": [
    "# we plot the Trump timeseries of the number of quotes over the past two months before the elections\n",
    "plt.rcParams[\"figure.figsize\"] = (12,6)\n",
    "ax = df_Trump_2_months_after.plot()\n",
    "plt.title('timeseries of the number of occurences of quotes referring to Donald Trump two months before the elections')\n",
    "plt.xlabel('time')\n",
    "plt.show()"
   ]
  },
  {
   "cell_type": "code",
   "execution_count": null,
   "id": "b4777253",
   "metadata": {},
   "outputs": [],
   "source": [
    "def major_speakers(df, politician):\n",
    "    print('the people who are speaking the most about '+politician+' are\\n', df['speaker'].value_counts()[:10].index.tolist())\n",
    "    df['speaker'].value_counts()[:10].plot(kind='bar', logy=True)\n",
    "    plt.title('people who are speaking the most about '+politician)\n",
    "    plt.ylabel('number of quotes')\n",
    "    plt.show()"
   ]
  },
  {
   "cell_type": "code",
   "execution_count": null,
   "id": "f3880dca",
   "metadata": {},
   "outputs": [],
   "source": [
    "major_speakers(df_Trump, 'Trump')"
   ]
  },
  {
   "cell_type": "markdown",
   "id": "54245cb1",
   "metadata": {},
   "source": [
    "As we can see Hillary Clinton and Joe Biden are present in the list. This is quite obvious since they have been the two contenders at the last political elections and it is clear that they had to quote Trump a lot in order to discredit his opinion."
   ]
  },
  {
   "cell_type": "code",
   "execution_count": null,
   "id": "9cb00ea7",
   "metadata": {},
   "outputs": [],
   "source": [
    "del df_Trump # we don't want to store it in memory"
   ]
  },
  {
   "cell_type": "code",
   "execution_count": null,
   "id": "ce5764af",
   "metadata": {},
   "outputs": [],
   "source": []
  },
  {
   "cell_type": "markdown",
   "id": "4dc3cce7",
   "metadata": {},
   "source": [
    "### we do the same for Clinton"
   ]
  },
  {
   "cell_type": "code",
   "execution_count": null,
   "id": "03acf1e1",
   "metadata": {},
   "outputs": [],
   "source": [
    "df_Clinton = pd.read_csv('df_Clinton_cleaned.csv',header =0, index_col=0, parse_dates=True, squeeze =True )"
   ]
  },
  {
   "cell_type": "code",
   "execution_count": null,
   "id": "006f6d6e",
   "metadata": {},
   "outputs": [],
   "source": [
    "df_Clinton.index = df_Clinton.index.map(lambda x: str(x)[:-7]) # we transform the quote_id in a format date\n",
    "df_Clinton.to_csv('df_Clinton_with_dates.csv') #checkpoint"
   ]
  },
  {
   "cell_type": "code",
   "execution_count": null,
   "id": "4d84fbe1",
   "metadata": {},
   "outputs": [],
   "source": [
    "import matplotlib.ticker as plticker\n",
    "\n",
    "plt.rcParams[\"figure.figsize\"] = (18,6)\n",
    "ax = df_Clinton.plot()\n",
    "plt.title('timeseries of the number of occurences of quotes referring to Hillary Clinton')\n",
    "plt.xlabel('time')\n",
    "plt.show()"
   ]
  },
  {
   "cell_type": "markdown",
   "id": "b4a5901b",
   "metadata": {},
   "source": [
    "As we can see one of the peaks is the one corresponding to the elections of november 2016"
   ]
  },
  {
   "cell_type": "markdown",
   "id": "5eaffe7d",
   "metadata": {},
   "source": [
    "### It could be interseting to know who are the people who quote Clinton the most, we will try to understand it"
   ]
  },
  {
   "cell_type": "code",
   "execution_count": null,
   "id": "02661ded",
   "metadata": {},
   "outputs": [],
   "source": [
    "major_speakers(df_Clinton, 'Clinton')"
   ]
  },
  {
   "cell_type": "markdown",
   "id": "c6ad93f1",
   "metadata": {},
   "source": [
    "As we can see Trump is quoting a lot Clinton, this could be related to the fact that a big part of his political campaign of 2016 was based on discrediting his contender (Clinton)"
   ]
  }
 ],
 "metadata": {
  "kernelspec": {
   "display_name": "Python 3 (ipykernel)",
   "language": "python",
   "name": "python3"
  },
  "language_info": {
   "codemirror_mode": {
    "name": "ipython",
    "version": 3
   },
   "file_extension": ".py",
   "mimetype": "text/x-python",
   "name": "python",
   "nbconvert_exporter": "python",
   "pygments_lexer": "ipython3",
   "version": "3.8.8"
  }
 },
 "nbformat": 4,
 "nbformat_minor": 5
}
