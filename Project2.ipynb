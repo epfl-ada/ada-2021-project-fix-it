{
 "cells": [
  {
   "cell_type": "markdown",
   "id": "ae543c08",
   "metadata": {},
   "source": [
    "# An analysis of the american political scene from a mediatic point of view"
   ]
  },
  {
   "cell_type": "markdown",
   "id": "e0ef38aa",
   "metadata": {},
   "source": [
    "## Context\n",
    "\n",
    "In the 21st century media coverage is a crucial factor for political figures. By studying the number of times a certain politician is quoted in media outlets (in our case New York Times), we can have a rough measure of how much interest does the media address to this politician. In our analysis we will study the evolution of the number of citations of some of the most important american politicians over the last few years and we will compare their evolution to the most important events in their carreer in order to see if there is any causation or correlation. We will then add some more analysis distinguishing the speakers (who quoted a certain politician) by religion, nationality and political party in order to have a better and fragmented view of the causal effects. In the end we will compare our work with Google Trends data in order to see if the conventional media outlets capture the online interest well.\n"
   ]
  },
  {
   "cell_type": "markdown",
   "id": "53a9d10c",
   "metadata": {},
   "source": [
    "## The data\n",
    "\n",
    "We are provided with a compressed `.bz2` json file containing one row per quote. \n",
    "The `.json` has the following fields:\n",
    "\n",
    " - `quoteID`: Primary key of the quotation (format: \"YYYY-MM-DD-{increasing int:06d}\")\n",
    " - `quotation`: Text of the longest encountered original form of the quotation\n",
    " - `date`: Earliest occurrence date of any version of the quotation\n",
    " - `phase`: Corresponding phase of the data in which the quotation first occurred (A-E)\n",
    " - `probas`: Array representing the probabilities of each speaker having uttered the quotation.\n",
    "      The probabilities across different occurrences of the same quotation are summed for\n",
    "      each distinct candidate speaker and then normalized\n",
    "      - `proba`: Probability for a given speaker\n",
    "      - `speaker`: Most frequent surface form for a given speaker in the articles where the quotation occurred\n",
    " - `speaker`: Selected most likely speaker. This matches the the first speaker entry in `probas`\n",
    " - `qids`: Wikidata IDs of all aliases that match the selected speaker\n",
    " - `numOccurrences`: Number of time this quotation occurs in the articles\n",
    " - `urls`: List of links to the original articles containing the quotation "
   ]
  },
  {
   "cell_type": "code",
   "execution_count": 1,
   "id": "0311dcfe",
   "metadata": {},
   "outputs": [],
   "source": [
    "# Imports we may need\n",
    "import seaborn as sns\n",
    "from IPython.display import display, HTML\n",
    "import matplotlib.pyplot as plt\n",
    "import matplotlib.image as mpimg\n",
    "import seaborn as sns\n",
    "import scipy.stats as stats\n",
    "import pandas as pd\n",
    "import numpy as np\n",
    "import ujson as json\n",
    "import bz2"
   ]
  },
  {
   "cell_type": "markdown",
   "id": "b899b389",
   "metadata": {},
   "source": [
    "### Load Quotes and Speaker Attributes"
   ]
  },
  {
   "cell_type": "markdown",
   "id": "a6ac202d",
   "metadata": {},
   "source": [
    "Load quotes related to Donald Trump."
   ]
  },
  {
   "cell_type": "code",
   "execution_count": 4,
   "id": "9e0ad683",
   "metadata": {},
   "outputs": [
    {
     "data": {
      "text/html": [
       "<div>\n",
       "<style scoped>\n",
       "    .dataframe tbody tr th:only-of-type {\n",
       "        vertical-align: middle;\n",
       "    }\n",
       "\n",
       "    .dataframe tbody tr th {\n",
       "        vertical-align: top;\n",
       "    }\n",
       "\n",
       "    .dataframe thead th {\n",
       "        text-align: right;\n",
       "    }\n",
       "</style>\n",
       "<table border=\"1\" class=\"dataframe\">\n",
       "  <thead>\n",
       "    <tr style=\"text-align: right;\">\n",
       "      <th></th>\n",
       "      <th>quoteID</th>\n",
       "      <th>quotation</th>\n",
       "      <th>speaker</th>\n",
       "      <th>qids</th>\n",
       "      <th>date</th>\n",
       "      <th>numOccurrences</th>\n",
       "      <th>probas</th>\n",
       "      <th>urls</th>\n",
       "      <th>phase</th>\n",
       "    </tr>\n",
       "  </thead>\n",
       "  <tbody>\n",
       "    <tr>\n",
       "      <th>888</th>\n",
       "      <td>2015-09-16-006359</td>\n",
       "      <td>And I'm just pointing out the absurd on both s...</td>\n",
       "      <td>Kathleen Madigan</td>\n",
       "      <td>[Q6376814]</td>\n",
       "      <td>2015-09-16 05:44:37</td>\n",
       "      <td>1</td>\n",
       "      <td>[[Kathleen Madigan, 0.8025], [None, 0.1975]]</td>\n",
       "      <td>[http://northjersey.com/arts-and-entertainment...</td>\n",
       "      <td>E</td>\n",
       "    </tr>\n",
       "    <tr>\n",
       "      <th>1521</th>\n",
       "      <td>2015-12-22-031341</td>\n",
       "      <td>I promise, I won't talk about Trump again,</td>\n",
       "      <td>Jeb Bush</td>\n",
       "      <td>[Q221997]</td>\n",
       "      <td>2015-12-22 20:43:59</td>\n",
       "      <td>10</td>\n",
       "      <td>[[Jeb Bush, 0.7816], [None, 0.1677], [Donald T...</td>\n",
       "      <td>[http://www.politico.com/story/2015/12/jeb-bus...</td>\n",
       "      <td>E</td>\n",
       "    </tr>\n",
       "    <tr>\n",
       "      <th>3257</th>\n",
       "      <td>2015-07-21-047379</td>\n",
       "      <td>I'm sure the Republicans are enjoying Mr. Trum...</td>\n",
       "      <td>President Barack Obama</td>\n",
       "      <td>[Q76]</td>\n",
       "      <td>2015-07-21 15:18:20</td>\n",
       "      <td>205</td>\n",
       "      <td>[[President Barack Obama, 0.6523], [None, 0.19...</td>\n",
       "      <td>[http://azdailysun.com/entertainment/televisio...</td>\n",
       "      <td>E</td>\n",
       "    </tr>\n",
       "    <tr>\n",
       "      <th>3819</th>\n",
       "      <td>2015-07-22-051864</td>\n",
       "      <td>it in particular thrives on theater, which Tru...</td>\n",
       "      <td>Frank Bruni</td>\n",
       "      <td>[Q1443006]</td>\n",
       "      <td>2015-07-22 13:33:11</td>\n",
       "      <td>1</td>\n",
       "      <td>[[Frank Bruni, 0.8479], [None, 0.1246], [Donal...</td>\n",
       "      <td>[http://www.adweek.com/tvnewser/bob-kerrey-on-...</td>\n",
       "      <td>E</td>\n",
       "    </tr>\n",
       "    <tr>\n",
       "      <th>4261</th>\n",
       "      <td>2015-07-14-074352</td>\n",
       "      <td>it was appalling to hear Donald Trump describe...</td>\n",
       "      <td>Hillary Clinton</td>\n",
       "      <td>[Q6294]</td>\n",
       "      <td>2015-07-14 08:40:17</td>\n",
       "      <td>1</td>\n",
       "      <td>[[Hillary Clinton, 0.8129], [None, 0.1175], [B...</td>\n",
       "      <td>[http://www.bloomberg.com/politics/articles/20...</td>\n",
       "      <td>E</td>\n",
       "    </tr>\n",
       "    <tr>\n",
       "      <th>...</th>\n",
       "      <td>...</td>\n",
       "      <td>...</td>\n",
       "      <td>...</td>\n",
       "      <td>...</td>\n",
       "      <td>...</td>\n",
       "      <td>...</td>\n",
       "      <td>...</td>\n",
       "      <td>...</td>\n",
       "      <td>...</td>\n",
       "    </tr>\n",
       "    <tr>\n",
       "      <th>5243971</th>\n",
       "      <td>2020-04-05-029136</td>\n",
       "      <td>To say that I'm infuriated with the recent act...</td>\n",
       "      <td>Dwight Ball</td>\n",
       "      <td>[Q5318112]</td>\n",
       "      <td>2020-04-05 23:11:52</td>\n",
       "      <td>1</td>\n",
       "      <td>[[Dwight Ball, 0.6293], [None, 0.3336], [Justi...</td>\n",
       "      <td>[https://www.cbc.ca/news/politics/trudeau-will...</td>\n",
       "      <td>E</td>\n",
       "    </tr>\n",
       "    <tr>\n",
       "      <th>5243994</th>\n",
       "      <td>2020-02-05-103219</td>\n",
       "      <td>Trump offends and disrespects the Venezuelan p...</td>\n",
       "      <td>Jorge Arreaza</td>\n",
       "      <td>[Q6623799]</td>\n",
       "      <td>2020-02-05 00:00:00</td>\n",
       "      <td>11</td>\n",
       "      <td>[[Jorge Arreaza, 0.9164], [None, 0.0726], [Pre...</td>\n",
       "      <td>[https://www.rawstory.com/2020/02/imwithfred-t...</td>\n",
       "      <td>E</td>\n",
       "    </tr>\n",
       "    <tr>\n",
       "      <th>5243996</th>\n",
       "      <td>2020-03-13-071475</td>\n",
       "      <td>Trump tried to mitigate the issue, saying it i...</td>\n",
       "      <td>Hassan Nasrallah</td>\n",
       "      <td>[Q181182]</td>\n",
       "      <td>2020-03-13 22:15:06</td>\n",
       "      <td>1</td>\n",
       "      <td>[[Hassan Nasrallah, 0.922], [None, 0.0741], [P...</td>\n",
       "      <td>[http://israelnationalnews.com/News/News.aspx/...</td>\n",
       "      <td>E</td>\n",
       "    </tr>\n",
       "    <tr>\n",
       "      <th>5243997</th>\n",
       "      <td>2020-03-15-037086</td>\n",
       "      <td>Trump's do-over approach -- he unlocked $50 bi...</td>\n",
       "      <td>Newt Gingrich</td>\n",
       "      <td>[Q182788]</td>\n",
       "      <td>2020-03-15 00:00:00</td>\n",
       "      <td>40</td>\n",
       "      <td>[[Newt Gingrich, 0.5146], [None, 0.3958], [Don...</td>\n",
       "      <td>[http://uspolitics.einnews.com/article/5120893...</td>\n",
       "      <td>E</td>\n",
       "    </tr>\n",
       "    <tr>\n",
       "      <th>5244422</th>\n",
       "      <td>2020-02-20-097170</td>\n",
       "      <td>You have to accept some responsibility and ask...</td>\n",
       "      <td>Pete Buttigieg</td>\n",
       "      <td>[Q7173106]</td>\n",
       "      <td>2020-02-20 03:50:07</td>\n",
       "      <td>2</td>\n",
       "      <td>[[Pete Buttigieg, 0.3517], [Bernie Sanders, 0....</td>\n",
       "      <td>[https://www.breitbart.com/2020-election/2020/...</td>\n",
       "      <td>E</td>\n",
       "    </tr>\n",
       "  </tbody>\n",
       "</table>\n",
       "<p>397856 rows × 9 columns</p>\n",
       "</div>"
      ],
      "text/plain": [
       "                   quoteID                                          quotation  \\\n",
       "888      2015-09-16-006359  And I'm just pointing out the absurd on both s...   \n",
       "1521     2015-12-22-031341         I promise, I won't talk about Trump again,   \n",
       "3257     2015-07-21-047379  I'm sure the Republicans are enjoying Mr. Trum...   \n",
       "3819     2015-07-22-051864  it in particular thrives on theater, which Tru...   \n",
       "4261     2015-07-14-074352  it was appalling to hear Donald Trump describe...   \n",
       "...                    ...                                                ...   \n",
       "5243971  2020-04-05-029136  To say that I'm infuriated with the recent act...   \n",
       "5243994  2020-02-05-103219  Trump offends and disrespects the Venezuelan p...   \n",
       "5243996  2020-03-13-071475  Trump tried to mitigate the issue, saying it i...   \n",
       "5243997  2020-03-15-037086  Trump's do-over approach -- he unlocked $50 bi...   \n",
       "5244422  2020-02-20-097170  You have to accept some responsibility and ask...   \n",
       "\n",
       "                        speaker        qids                date  \\\n",
       "888            Kathleen Madigan  [Q6376814] 2015-09-16 05:44:37   \n",
       "1521                   Jeb Bush   [Q221997] 2015-12-22 20:43:59   \n",
       "3257     President Barack Obama       [Q76] 2015-07-21 15:18:20   \n",
       "3819                Frank Bruni  [Q1443006] 2015-07-22 13:33:11   \n",
       "4261            Hillary Clinton     [Q6294] 2015-07-14 08:40:17   \n",
       "...                         ...         ...                 ...   \n",
       "5243971             Dwight Ball  [Q5318112] 2020-04-05 23:11:52   \n",
       "5243994           Jorge Arreaza  [Q6623799] 2020-02-05 00:00:00   \n",
       "5243996        Hassan Nasrallah   [Q181182] 2020-03-13 22:15:06   \n",
       "5243997           Newt Gingrich   [Q182788] 2020-03-15 00:00:00   \n",
       "5244422          Pete Buttigieg  [Q7173106] 2020-02-20 03:50:07   \n",
       "\n",
       "         numOccurrences                                             probas  \\\n",
       "888                   1       [[Kathleen Madigan, 0.8025], [None, 0.1975]]   \n",
       "1521                 10  [[Jeb Bush, 0.7816], [None, 0.1677], [Donald T...   \n",
       "3257                205  [[President Barack Obama, 0.6523], [None, 0.19...   \n",
       "3819                  1  [[Frank Bruni, 0.8479], [None, 0.1246], [Donal...   \n",
       "4261                  1  [[Hillary Clinton, 0.8129], [None, 0.1175], [B...   \n",
       "...                 ...                                                ...   \n",
       "5243971               1  [[Dwight Ball, 0.6293], [None, 0.3336], [Justi...   \n",
       "5243994              11  [[Jorge Arreaza, 0.9164], [None, 0.0726], [Pre...   \n",
       "5243996               1  [[Hassan Nasrallah, 0.922], [None, 0.0741], [P...   \n",
       "5243997              40  [[Newt Gingrich, 0.5146], [None, 0.3958], [Don...   \n",
       "5244422               2  [[Pete Buttigieg, 0.3517], [Bernie Sanders, 0....   \n",
       "\n",
       "                                                      urls phase  \n",
       "888      [http://northjersey.com/arts-and-entertainment...     E  \n",
       "1521     [http://www.politico.com/story/2015/12/jeb-bus...     E  \n",
       "3257     [http://azdailysun.com/entertainment/televisio...     E  \n",
       "3819     [http://www.adweek.com/tvnewser/bob-kerrey-on-...     E  \n",
       "4261     [http://www.bloomberg.com/politics/articles/20...     E  \n",
       "...                                                    ...   ...  \n",
       "5243971  [https://www.cbc.ca/news/politics/trudeau-will...     E  \n",
       "5243994  [https://www.rawstory.com/2020/02/imwithfred-t...     E  \n",
       "5243996  [http://israelnationalnews.com/News/News.aspx/...     E  \n",
       "5243997  [http://uspolitics.einnews.com/article/5120893...     E  \n",
       "5244422  [https://www.breitbart.com/2020-election/2020/...     E  \n",
       "\n",
       "[397856 rows x 9 columns]"
      ]
     },
     "execution_count": 4,
     "metadata": {},
     "output_type": "execute_result"
    }
   ],
   "source": [
    "df_Trump = pd.read_pickle(\"df_Trump_cleaned.pkl\")\n",
    "\n",
    "df_Trump"
   ]
  },
  {
   "cell_type": "markdown",
   "id": "57a1d5ba",
   "metadata": {},
   "source": [
    "Load the parquet dataframe with attributes of each author"
   ]
  },
  {
   "cell_type": "code",
   "execution_count": 5,
   "id": "b83e7efa",
   "metadata": {},
   "outputs": [],
   "source": [
    "speaker_attributes_updated = pd.read_parquet(\"data/speaker_attributes_updated.parquet\")\n"
   ]
  },
  {
   "cell_type": "code",
   "execution_count": 6,
   "id": "2e5558a7",
   "metadata": {},
   "outputs": [
    {
     "data": {
      "text/html": [
       "<div>\n",
       "<style scoped>\n",
       "    .dataframe tbody tr th:only-of-type {\n",
       "        vertical-align: middle;\n",
       "    }\n",
       "\n",
       "    .dataframe tbody tr th {\n",
       "        vertical-align: top;\n",
       "    }\n",
       "\n",
       "    .dataframe thead th {\n",
       "        text-align: right;\n",
       "    }\n",
       "</style>\n",
       "<table border=\"1\" class=\"dataframe\">\n",
       "  <thead>\n",
       "    <tr style=\"text-align: right;\">\n",
       "      <th></th>\n",
       "      <th>aliases</th>\n",
       "      <th>date_of_birth</th>\n",
       "      <th>nationality</th>\n",
       "      <th>gender</th>\n",
       "      <th>lastrevid</th>\n",
       "      <th>ethnic_group</th>\n",
       "      <th>US_congress_bio_ID</th>\n",
       "      <th>occupation</th>\n",
       "      <th>party</th>\n",
       "      <th>academic_degree</th>\n",
       "      <th>id</th>\n",
       "      <th>label</th>\n",
       "      <th>candidacy</th>\n",
       "      <th>type</th>\n",
       "      <th>religion</th>\n",
       "    </tr>\n",
       "  </thead>\n",
       "  <tbody>\n",
       "    <tr>\n",
       "      <th>0</th>\n",
       "      <td>[Washington, President Washington, G. Washingt...</td>\n",
       "      <td>[+1732-02-22T00:00:00Z]</td>\n",
       "      <td>[Great Britain, United States of America]</td>\n",
       "      <td>[male]</td>\n",
       "      <td>1395141751</td>\n",
       "      <td>None</td>\n",
       "      <td>W000178</td>\n",
       "      <td>[politician, military officer, farmer, cartogr...</td>\n",
       "      <td>[independent politician]</td>\n",
       "      <td>None</td>\n",
       "      <td>Q23</td>\n",
       "      <td>George Washington</td>\n",
       "      <td>[1792 United States presidential election, 178...</td>\n",
       "      <td>item</td>\n",
       "      <td>[Episcopal Church]</td>\n",
       "    </tr>\n",
       "    <tr>\n",
       "      <th>1</th>\n",
       "      <td>[Douglas Noel Adams, Douglas Noël Adams, Dougl...</td>\n",
       "      <td>[+1952-03-11T00:00:00Z]</td>\n",
       "      <td>[United Kingdom]</td>\n",
       "      <td>[male]</td>\n",
       "      <td>1395737157</td>\n",
       "      <td>[White British]</td>\n",
       "      <td>None</td>\n",
       "      <td>[playwright, screenwriter, novelist, children'...</td>\n",
       "      <td>None</td>\n",
       "      <td>None</td>\n",
       "      <td>Q42</td>\n",
       "      <td>Douglas Adams</td>\n",
       "      <td>None</td>\n",
       "      <td>item</td>\n",
       "      <td>None</td>\n",
       "    </tr>\n",
       "    <tr>\n",
       "      <th>2</th>\n",
       "      <td>[Paul Marie Ghislain Otlet, Paul Marie Otlet]</td>\n",
       "      <td>[+1868-08-23T00:00:00Z]</td>\n",
       "      <td>[Belgium]</td>\n",
       "      <td>[male]</td>\n",
       "      <td>1380367296</td>\n",
       "      <td>None</td>\n",
       "      <td>None</td>\n",
       "      <td>[writer, lawyer, librarian, information scient...</td>\n",
       "      <td>None</td>\n",
       "      <td>None</td>\n",
       "      <td>Q1868</td>\n",
       "      <td>Paul Otlet</td>\n",
       "      <td>None</td>\n",
       "      <td>item</td>\n",
       "      <td>None</td>\n",
       "    </tr>\n",
       "    <tr>\n",
       "      <th>3</th>\n",
       "      <td>[George Walker Bush, Bush Jr., Dubya, GWB, Bus...</td>\n",
       "      <td>[+1946-07-06T00:00:00Z]</td>\n",
       "      <td>[United States of America]</td>\n",
       "      <td>[male]</td>\n",
       "      <td>1395142029</td>\n",
       "      <td>None</td>\n",
       "      <td>None</td>\n",
       "      <td>[politician, motivational speaker, autobiograp...</td>\n",
       "      <td>[Republican Party]</td>\n",
       "      <td>None</td>\n",
       "      <td>Q207</td>\n",
       "      <td>George W. Bush</td>\n",
       "      <td>[2000 United States presidential election, 200...</td>\n",
       "      <td>item</td>\n",
       "      <td>[United Methodist Church, Episcopal Church, Me...</td>\n",
       "    </tr>\n",
       "    <tr>\n",
       "      <th>4</th>\n",
       "      <td>[Velázquez, Diego Rodríguez de Silva y Velázqu...</td>\n",
       "      <td>[+1599-06-06T00:00:00Z]</td>\n",
       "      <td>[Spain]</td>\n",
       "      <td>[male]</td>\n",
       "      <td>1391704596</td>\n",
       "      <td>None</td>\n",
       "      <td>None</td>\n",
       "      <td>[painter]</td>\n",
       "      <td>None</td>\n",
       "      <td>None</td>\n",
       "      <td>Q297</td>\n",
       "      <td>Diego Velázquez</td>\n",
       "      <td>None</td>\n",
       "      <td>item</td>\n",
       "      <td>None</td>\n",
       "    </tr>\n",
       "    <tr>\n",
       "      <th>...</th>\n",
       "      <td>...</td>\n",
       "      <td>...</td>\n",
       "      <td>...</td>\n",
       "      <td>...</td>\n",
       "      <td>...</td>\n",
       "      <td>...</td>\n",
       "      <td>...</td>\n",
       "      <td>...</td>\n",
       "      <td>...</td>\n",
       "      <td>...</td>\n",
       "      <td>...</td>\n",
       "      <td>...</td>\n",
       "      <td>...</td>\n",
       "      <td>...</td>\n",
       "      <td>...</td>\n",
       "    </tr>\n",
       "    <tr>\n",
       "      <th>9055976</th>\n",
       "      <td>[Barker Howard]</td>\n",
       "      <td>None</td>\n",
       "      <td>[United States of America]</td>\n",
       "      <td>[male]</td>\n",
       "      <td>1397399351</td>\n",
       "      <td>None</td>\n",
       "      <td>None</td>\n",
       "      <td>[politician]</td>\n",
       "      <td>None</td>\n",
       "      <td>None</td>\n",
       "      <td>Q106406560</td>\n",
       "      <td>Barker B. Howard</td>\n",
       "      <td>None</td>\n",
       "      <td>item</td>\n",
       "      <td>None</td>\n",
       "    </tr>\n",
       "    <tr>\n",
       "      <th>9055977</th>\n",
       "      <td>[Charles Macomber]</td>\n",
       "      <td>None</td>\n",
       "      <td>[United States of America]</td>\n",
       "      <td>[male]</td>\n",
       "      <td>1397399471</td>\n",
       "      <td>None</td>\n",
       "      <td>None</td>\n",
       "      <td>[politician]</td>\n",
       "      <td>None</td>\n",
       "      <td>None</td>\n",
       "      <td>Q106406571</td>\n",
       "      <td>Charles H. Macomber</td>\n",
       "      <td>None</td>\n",
       "      <td>item</td>\n",
       "      <td>None</td>\n",
       "    </tr>\n",
       "    <tr>\n",
       "      <th>9055978</th>\n",
       "      <td>None</td>\n",
       "      <td>[+1848-04-01T00:00:00Z]</td>\n",
       "      <td>None</td>\n",
       "      <td>[female]</td>\n",
       "      <td>1397399751</td>\n",
       "      <td>None</td>\n",
       "      <td>None</td>\n",
       "      <td>None</td>\n",
       "      <td>None</td>\n",
       "      <td>None</td>\n",
       "      <td>Q106406588</td>\n",
       "      <td>Dina David</td>\n",
       "      <td>None</td>\n",
       "      <td>item</td>\n",
       "      <td>None</td>\n",
       "    </tr>\n",
       "    <tr>\n",
       "      <th>9055979</th>\n",
       "      <td>None</td>\n",
       "      <td>[+1899-03-18T00:00:00Z]</td>\n",
       "      <td>None</td>\n",
       "      <td>[female]</td>\n",
       "      <td>1397399799</td>\n",
       "      <td>None</td>\n",
       "      <td>None</td>\n",
       "      <td>None</td>\n",
       "      <td>None</td>\n",
       "      <td>None</td>\n",
       "      <td>Q106406593</td>\n",
       "      <td>Irma Dexinger</td>\n",
       "      <td>None</td>\n",
       "      <td>item</td>\n",
       "      <td>None</td>\n",
       "    </tr>\n",
       "    <tr>\n",
       "      <th>9055980</th>\n",
       "      <td>[Fred Trull]</td>\n",
       "      <td>None</td>\n",
       "      <td>[United States of America]</td>\n",
       "      <td>[male]</td>\n",
       "      <td>1397400809</td>\n",
       "      <td>None</td>\n",
       "      <td>None</td>\n",
       "      <td>[politician]</td>\n",
       "      <td>None</td>\n",
       "      <td>None</td>\n",
       "      <td>Q106406643</td>\n",
       "      <td>Fred F. Trull</td>\n",
       "      <td>None</td>\n",
       "      <td>item</td>\n",
       "      <td>None</td>\n",
       "    </tr>\n",
       "  </tbody>\n",
       "</table>\n",
       "<p>9055981 rows × 15 columns</p>\n",
       "</div>"
      ],
      "text/plain": [
       "                                                   aliases  \\\n",
       "0        [Washington, President Washington, G. Washingt...   \n",
       "1        [Douglas Noel Adams, Douglas Noël Adams, Dougl...   \n",
       "2            [Paul Marie Ghislain Otlet, Paul Marie Otlet]   \n",
       "3        [George Walker Bush, Bush Jr., Dubya, GWB, Bus...   \n",
       "4        [Velázquez, Diego Rodríguez de Silva y Velázqu...   \n",
       "...                                                    ...   \n",
       "9055976                                    [Barker Howard]   \n",
       "9055977                                 [Charles Macomber]   \n",
       "9055978                                               None   \n",
       "9055979                                               None   \n",
       "9055980                                       [Fred Trull]   \n",
       "\n",
       "                   date_of_birth                                nationality  \\\n",
       "0        [+1732-02-22T00:00:00Z]  [Great Britain, United States of America]   \n",
       "1        [+1952-03-11T00:00:00Z]                           [United Kingdom]   \n",
       "2        [+1868-08-23T00:00:00Z]                                  [Belgium]   \n",
       "3        [+1946-07-06T00:00:00Z]                 [United States of America]   \n",
       "4        [+1599-06-06T00:00:00Z]                                    [Spain]   \n",
       "...                          ...                                        ...   \n",
       "9055976                     None                 [United States of America]   \n",
       "9055977                     None                 [United States of America]   \n",
       "9055978  [+1848-04-01T00:00:00Z]                                       None   \n",
       "9055979  [+1899-03-18T00:00:00Z]                                       None   \n",
       "9055980                     None                 [United States of America]   \n",
       "\n",
       "           gender   lastrevid     ethnic_group US_congress_bio_ID  \\\n",
       "0          [male]  1395141751             None            W000178   \n",
       "1          [male]  1395737157  [White British]               None   \n",
       "2          [male]  1380367296             None               None   \n",
       "3          [male]  1395142029             None               None   \n",
       "4          [male]  1391704596             None               None   \n",
       "...           ...         ...              ...                ...   \n",
       "9055976    [male]  1397399351             None               None   \n",
       "9055977    [male]  1397399471             None               None   \n",
       "9055978  [female]  1397399751             None               None   \n",
       "9055979  [female]  1397399799             None               None   \n",
       "9055980    [male]  1397400809             None               None   \n",
       "\n",
       "                                                occupation  \\\n",
       "0        [politician, military officer, farmer, cartogr...   \n",
       "1        [playwright, screenwriter, novelist, children'...   \n",
       "2        [writer, lawyer, librarian, information scient...   \n",
       "3        [politician, motivational speaker, autobiograp...   \n",
       "4                                                [painter]   \n",
       "...                                                    ...   \n",
       "9055976                                       [politician]   \n",
       "9055977                                       [politician]   \n",
       "9055978                                               None   \n",
       "9055979                                               None   \n",
       "9055980                                       [politician]   \n",
       "\n",
       "                            party academic_degree          id  \\\n",
       "0        [independent politician]            None         Q23   \n",
       "1                            None            None         Q42   \n",
       "2                            None            None       Q1868   \n",
       "3              [Republican Party]            None        Q207   \n",
       "4                            None            None        Q297   \n",
       "...                           ...             ...         ...   \n",
       "9055976                      None            None  Q106406560   \n",
       "9055977                      None            None  Q106406571   \n",
       "9055978                      None            None  Q106406588   \n",
       "9055979                      None            None  Q106406593   \n",
       "9055980                      None            None  Q106406643   \n",
       "\n",
       "                       label  \\\n",
       "0          George Washington   \n",
       "1              Douglas Adams   \n",
       "2                 Paul Otlet   \n",
       "3             George W. Bush   \n",
       "4            Diego Velázquez   \n",
       "...                      ...   \n",
       "9055976     Barker B. Howard   \n",
       "9055977  Charles H. Macomber   \n",
       "9055978           Dina David   \n",
       "9055979        Irma Dexinger   \n",
       "9055980        Fred F. Trull   \n",
       "\n",
       "                                                 candidacy  type  \\\n",
       "0        [1792 United States presidential election, 178...  item   \n",
       "1                                                     None  item   \n",
       "2                                                     None  item   \n",
       "3        [2000 United States presidential election, 200...  item   \n",
       "4                                                     None  item   \n",
       "...                                                    ...   ...   \n",
       "9055976                                               None  item   \n",
       "9055977                                               None  item   \n",
       "9055978                                               None  item   \n",
       "9055979                                               None  item   \n",
       "9055980                                               None  item   \n",
       "\n",
       "                                                  religion  \n",
       "0                                       [Episcopal Church]  \n",
       "1                                                     None  \n",
       "2                                                     None  \n",
       "3        [United Methodist Church, Episcopal Church, Me...  \n",
       "4                                                     None  \n",
       "...                                                    ...  \n",
       "9055976                                               None  \n",
       "9055977                                               None  \n",
       "9055978                                               None  \n",
       "9055979                                               None  \n",
       "9055980                                               None  \n",
       "\n",
       "[9055981 rows x 15 columns]"
      ]
     },
     "execution_count": 6,
     "metadata": {},
     "output_type": "execute_result"
    }
   ],
   "source": [
    "speaker_attributes_updated"
   ]
  },
  {
   "cell_type": "markdown",
   "id": "2fea35b9",
   "metadata": {},
   "source": [
    "### Plot time series"
   ]
  },
  {
   "cell_type": "markdown",
   "id": "18e4c354",
   "metadata": {},
   "source": [
    "We will plot the timeseries of the number of occurrences of quotes referring Hillary Clinton, and compare them with google trends in order to check if the two plots look similar or not"
   ]
  },
  {
   "cell_type": "code",
   "execution_count": 4,
   "id": "9ac33f06",
   "metadata": {},
   "outputs": [],
   "source": [
    "#Load file containing the occurence dates of each quote\n",
    "Clinton_dataframe = pd.read_pickle(\"data/Clinton_with_dates.pkl\")"
   ]
  },
  {
   "cell_type": "code",
   "execution_count": 12,
   "id": "36aeff28",
   "metadata": {},
   "outputs": [
    {
     "data": {
      "text/html": [
       "<div>\n",
       "<style scoped>\n",
       "    .dataframe tbody tr th:only-of-type {\n",
       "        vertical-align: middle;\n",
       "    }\n",
       "\n",
       "    .dataframe tbody tr th {\n",
       "        vertical-align: top;\n",
       "    }\n",
       "\n",
       "    .dataframe thead th {\n",
       "        text-align: right;\n",
       "    }\n",
       "</style>\n",
       "<table border=\"1\" class=\"dataframe\">\n",
       "  <thead>\n",
       "    <tr style=\"text-align: right;\">\n",
       "      <th></th>\n",
       "      <th>quoteID</th>\n",
       "      <th>quotation</th>\n",
       "      <th>speaker</th>\n",
       "      <th>qids</th>\n",
       "      <th>numOccurrences</th>\n",
       "      <th>probas</th>\n",
       "      <th>urls</th>\n",
       "      <th>phase</th>\n",
       "      <th>date</th>\n",
       "    </tr>\n",
       "  </thead>\n",
       "  <tbody>\n",
       "    <tr>\n",
       "      <th>26</th>\n",
       "      <td>2015-10-25-000242</td>\n",
       "      <td>' It is not now, nor has it ever been, the gol...</td>\n",
       "      <td>Bernie Sanders</td>\n",
       "      <td>[Q359442]</td>\n",
       "      <td>1</td>\n",
       "      <td>[[Bernie Sanders, 0.5395], [None, 0.3128], [Hi...</td>\n",
       "      <td>[http://examiner.com/article/bernie-sanders-sl...</td>\n",
       "      <td>E</td>\n",
       "      <td>[2015-10-25 14:12:35]</td>\n",
       "    </tr>\n",
       "    <tr>\n",
       "      <th>888</th>\n",
       "      <td>2015-09-16-006359</td>\n",
       "      <td>And I'm just pointing out the absurd on both s...</td>\n",
       "      <td>Kathleen Madigan</td>\n",
       "      <td>[Q6376814]</td>\n",
       "      <td>1</td>\n",
       "      <td>[[Kathleen Madigan, 0.8025], [None, 0.1975]]</td>\n",
       "      <td>[http://northjersey.com/arts-and-entertainment...</td>\n",
       "      <td>E</td>\n",
       "      <td>[2015-09-16 05:44:37]</td>\n",
       "    </tr>\n",
       "    <tr>\n",
       "      <th>6930</th>\n",
       "      <td>2015-10-22-051493</td>\n",
       "      <td>If [ Democratic presidential candidate former ...</td>\n",
       "      <td>Marco Rubio</td>\n",
       "      <td>[Q324546]</td>\n",
       "      <td>1</td>\n",
       "      <td>[[Marco Rubio, 0.93], [None, 0.0685], [Hillary...</td>\n",
       "      <td>[http://breitbart.com/video/2015/10/22/rubio-i...</td>\n",
       "      <td>E</td>\n",
       "      <td>[2015-10-22 20:04:16]</td>\n",
       "    </tr>\n",
       "    <tr>\n",
       "      <th>7374</th>\n",
       "      <td>2015-12-31-032035</td>\n",
       "      <td>I'm electable. I was elected in a purple state...</td>\n",
       "      <td>Jeb Bush</td>\n",
       "      <td>[Q221997]</td>\n",
       "      <td>7</td>\n",
       "      <td>[[Jeb Bush, 0.8392], [None, 0.0925], [Hillary ...</td>\n",
       "      <td>[http://www.postandcourier.com/article/2015123...</td>\n",
       "      <td>E</td>\n",
       "      <td>[2015-12-31 03:29:00]</td>\n",
       "    </tr>\n",
       "    <tr>\n",
       "      <th>9855</th>\n",
       "      <td>2015-11-12-104266</td>\n",
       "      <td>The incentive to invent episodes of discrimina...</td>\n",
       "      <td>Glenn Reynolds</td>\n",
       "      <td>[Q4392664]</td>\n",
       "      <td>2</td>\n",
       "      <td>[[Glenn Reynolds, 0.3454], [Ed Driscoll, 0.322...</td>\n",
       "      <td>[http://pjmedia.com/instapundit/218734/, http:...</td>\n",
       "      <td>E</td>\n",
       "      <td>[2015-11-12 00:00:00]</td>\n",
       "    </tr>\n",
       "    <tr>\n",
       "      <th>...</th>\n",
       "      <td>...</td>\n",
       "      <td>...</td>\n",
       "      <td>...</td>\n",
       "      <td>...</td>\n",
       "      <td>...</td>\n",
       "      <td>...</td>\n",
       "      <td>...</td>\n",
       "      <td>...</td>\n",
       "      <td>...</td>\n",
       "    </tr>\n",
       "    <tr>\n",
       "      <th>5222109</th>\n",
       "      <td>2020-03-06-025712</td>\n",
       "      <td>I think that would have been a mistake, becaus...</td>\n",
       "      <td>Jennifer Palmieri</td>\n",
       "      <td>[Q18209402]</td>\n",
       "      <td>1</td>\n",
       "      <td>[[Jennifer Palmieri, 0.9117], [None, 0.056], [...</td>\n",
       "      <td>[https://www.rollingstone.com/politics/politic...</td>\n",
       "      <td>E</td>\n",
       "      <td>[2020-03-06 14:38:07]</td>\n",
       "    </tr>\n",
       "    <tr>\n",
       "      <th>5231803</th>\n",
       "      <td>2020-01-18-006266</td>\n",
       "      <td>Chief Justice Rehnquist, when he presided over...</td>\n",
       "      <td>Dick Durbin</td>\n",
       "      <td>[Q434804]</td>\n",
       "      <td>1</td>\n",
       "      <td>[[Dick Durbin, 0.898], [None, 0.079], [Charlie...</td>\n",
       "      <td>[https://www.washingtonexaminer.com/news/impea...</td>\n",
       "      <td>E</td>\n",
       "      <td>[2020-01-18 05:01:08]</td>\n",
       "    </tr>\n",
       "    <tr>\n",
       "      <th>5235860</th>\n",
       "      <td>2020-01-06-061256</td>\n",
       "      <td>The main difference between Lindsey and his De...</td>\n",
       "      <td>David Woodard</td>\n",
       "      <td>[Q1177254]</td>\n",
       "      <td>6</td>\n",
       "      <td>[[David Woodard, 0.7544], [None, 0.1797], [Lin...</td>\n",
       "      <td>[http://chron.com/entertainment/article/How-Li...</td>\n",
       "      <td>E</td>\n",
       "      <td>[2020-01-06 00:00:00]</td>\n",
       "    </tr>\n",
       "    <tr>\n",
       "      <th>5235869</th>\n",
       "      <td>2020-04-09-052373</td>\n",
       "      <td>The model of Obama asking Bush and Clinton to ...</td>\n",
       "      <td>Bill Haslam</td>\n",
       "      <td>[Q862186]</td>\n",
       "      <td>1</td>\n",
       "      <td>[[Bill Haslam, 0.905], [None, 0.0837], [Barack...</td>\n",
       "      <td>[http://www.nytimes.com/2020/04/09/us/politics...</td>\n",
       "      <td>E</td>\n",
       "      <td>[2020-04-09 23:04:21]</td>\n",
       "    </tr>\n",
       "    <tr>\n",
       "      <th>5237423</th>\n",
       "      <td>2020-01-22-037250</td>\n",
       "      <td>I think the fact is that Mitch keeps telling y...</td>\n",
       "      <td>Patrick Leahy</td>\n",
       "      <td>[Q59315]</td>\n",
       "      <td>10</td>\n",
       "      <td>[[Patrick Leahy, 0.8213], [None, 0.148], [Roge...</td>\n",
       "      <td>[http://wicz.com/story/41593610/inside-the-rep...</td>\n",
       "      <td>E</td>\n",
       "      <td>[2020-01-22 08:45:29, 2020-01-23 05:13:15, 202...</td>\n",
       "    </tr>\n",
       "  </tbody>\n",
       "</table>\n",
       "<p>62033 rows × 9 columns</p>\n",
       "</div>"
      ],
      "text/plain": [
       "                   quoteID                                          quotation  \\\n",
       "26       2015-10-25-000242  ' It is not now, nor has it ever been, the gol...   \n",
       "888      2015-09-16-006359  And I'm just pointing out the absurd on both s...   \n",
       "6930     2015-10-22-051493  If [ Democratic presidential candidate former ...   \n",
       "7374     2015-12-31-032035  I'm electable. I was elected in a purple state...   \n",
       "9855     2015-11-12-104266  The incentive to invent episodes of discrimina...   \n",
       "...                    ...                                                ...   \n",
       "5222109  2020-03-06-025712  I think that would have been a mistake, becaus...   \n",
       "5231803  2020-01-18-006266  Chief Justice Rehnquist, when he presided over...   \n",
       "5235860  2020-01-06-061256  The main difference between Lindsey and his De...   \n",
       "5235869  2020-04-09-052373  The model of Obama asking Bush and Clinton to ...   \n",
       "5237423  2020-01-22-037250  I think the fact is that Mitch keeps telling y...   \n",
       "\n",
       "                   speaker         qids  numOccurrences  \\\n",
       "26          Bernie Sanders    [Q359442]               1   \n",
       "888       Kathleen Madigan   [Q6376814]               1   \n",
       "6930           Marco Rubio    [Q324546]               1   \n",
       "7374              Jeb Bush    [Q221997]               7   \n",
       "9855        Glenn Reynolds   [Q4392664]               2   \n",
       "...                    ...          ...             ...   \n",
       "5222109  Jennifer Palmieri  [Q18209402]               1   \n",
       "5231803        Dick Durbin    [Q434804]               1   \n",
       "5235860      David Woodard   [Q1177254]               6   \n",
       "5235869        Bill Haslam    [Q862186]               1   \n",
       "5237423      Patrick Leahy     [Q59315]              10   \n",
       "\n",
       "                                                    probas  \\\n",
       "26       [[Bernie Sanders, 0.5395], [None, 0.3128], [Hi...   \n",
       "888           [[Kathleen Madigan, 0.8025], [None, 0.1975]]   \n",
       "6930     [[Marco Rubio, 0.93], [None, 0.0685], [Hillary...   \n",
       "7374     [[Jeb Bush, 0.8392], [None, 0.0925], [Hillary ...   \n",
       "9855     [[Glenn Reynolds, 0.3454], [Ed Driscoll, 0.322...   \n",
       "...                                                    ...   \n",
       "5222109  [[Jennifer Palmieri, 0.9117], [None, 0.056], [...   \n",
       "5231803  [[Dick Durbin, 0.898], [None, 0.079], [Charlie...   \n",
       "5235860  [[David Woodard, 0.7544], [None, 0.1797], [Lin...   \n",
       "5235869  [[Bill Haslam, 0.905], [None, 0.0837], [Barack...   \n",
       "5237423  [[Patrick Leahy, 0.8213], [None, 0.148], [Roge...   \n",
       "\n",
       "                                                      urls phase  \\\n",
       "26       [http://examiner.com/article/bernie-sanders-sl...     E   \n",
       "888      [http://northjersey.com/arts-and-entertainment...     E   \n",
       "6930     [http://breitbart.com/video/2015/10/22/rubio-i...     E   \n",
       "7374     [http://www.postandcourier.com/article/2015123...     E   \n",
       "9855     [http://pjmedia.com/instapundit/218734/, http:...     E   \n",
       "...                                                    ...   ...   \n",
       "5222109  [https://www.rollingstone.com/politics/politic...     E   \n",
       "5231803  [https://www.washingtonexaminer.com/news/impea...     E   \n",
       "5235860  [http://chron.com/entertainment/article/How-Li...     E   \n",
       "5235869  [http://www.nytimes.com/2020/04/09/us/politics...     E   \n",
       "5237423  [http://wicz.com/story/41593610/inside-the-rep...     E   \n",
       "\n",
       "                                                      date  \n",
       "26                                   [2015-10-25 14:12:35]  \n",
       "888                                  [2015-09-16 05:44:37]  \n",
       "6930                                 [2015-10-22 20:04:16]  \n",
       "7374                                 [2015-12-31 03:29:00]  \n",
       "9855                                 [2015-11-12 00:00:00]  \n",
       "...                                                    ...  \n",
       "5222109                              [2020-03-06 14:38:07]  \n",
       "5231803                              [2020-01-18 05:01:08]  \n",
       "5235860                              [2020-01-06 00:00:00]  \n",
       "5235869                              [2020-04-09 23:04:21]  \n",
       "5237423  [2020-01-22 08:45:29, 2020-01-23 05:13:15, 202...  \n",
       "\n",
       "[62033 rows x 9 columns]"
      ]
     },
     "execution_count": 12,
     "metadata": {},
     "output_type": "execute_result"
    }
   ],
   "source": [
    "Clinton_dataframe"
   ]
  },
  {
   "cell_type": "code",
   "execution_count": 5,
   "id": "71878050",
   "metadata": {},
   "outputs": [],
   "source": [
    "#merge all dates in one single list to make it easier to plot\n",
    "\n",
    "list_Clinton_dates = []\n",
    "\n",
    "for date_list in Clinton_dataframe[\"date\"].values: #we create a list containing all the dates of clinton quotes\n",
    "    list_Clinton_dates = list_Clinton_dates + date_list\n",
    "\n",
    "times_series_Clinton = pd.DataFrame(index = list_Clinton_dates) # we create a Df whose index are the dates \n",
    "times_series_Clinton.index = times_series_Clinton.index.map(lambda x: str(x)[:-9]) #we are not interested in the hour but just in the date, we remove the\n",
    "#hour information from the index"
   ]
  },
  {
   "cell_type": "markdown",
   "id": "431a1f90",
   "metadata": {},
   "source": [
    "Plot time series of quotes referring Hillary Clinton"
   ]
  },
  {
   "cell_type": "code",
   "execution_count": 89,
   "id": "a59b5978",
   "metadata": {},
   "outputs": [
    {
     "data": {
      "image/png": "[encoded data removed]",
      "text/plain": [
       "<Figure size 1296x432 with 1 Axes>"
      ]
     },
     "metadata": {
      "needs_background": "light"
     },
     "output_type": "display_data"
    }
   ],
   "source": [
    "#Plot time series\n",
    "times_series_Clinton[\"numOccurrences\"] = 1\n",
    "times_series_Clinton.groupby(by = times_series_Clinton.index).count().plot()\n",
    "plt.rcParams[\"figure.figsize\"] = (18,6) \n",
    "plt.title(\"timeseries of the number of occurrences of quotes referring to Hillary Clinton\")\n",
    "plt.xlabel(\"time\")\n",
    "plt.show()"
   ]
  },
  {
   "cell_type": "code",
   "execution_count": 90,
   "id": "9405d438",
   "metadata": {},
   "outputs": [
    {
     "data": {
      "text/plain": [
       "numOccurrences    2104\n",
       "dtype: int64"
      ]
     },
     "execution_count": 90,
     "metadata": {},
     "output_type": "execute_result"
    }
   ],
   "source": [
    "#maximum number of occurences\n",
    "times_series_Clinton.groupby(by = times_series_Clinton.index).count().max()"
   ]
  },
  {
   "cell_type": "markdown",
   "id": "b0bd39c5",
   "metadata": {},
   "source": [
    "As we can see the number of the maximum occurrences is 2104, which corresponds to the peak seen in the plot, let us see what is the date associated to that."
   ]
  },
  {
   "cell_type": "code",
   "execution_count": 91,
   "id": "46931889",
   "metadata": {},
   "outputs": [
    {
     "data": {
      "text/html": [
       "<div>\n",
       "<style scoped>\n",
       "    .dataframe tbody tr th:only-of-type {\n",
       "        vertical-align: middle;\n",
       "    }\n",
       "\n",
       "    .dataframe tbody tr th {\n",
       "        vertical-align: top;\n",
       "    }\n",
       "\n",
       "    .dataframe thead th {\n",
       "        text-align: right;\n",
       "    }\n",
       "</style>\n",
       "<table border=\"1\" class=\"dataframe\">\n",
       "  <thead>\n",
       "    <tr style=\"text-align: right;\">\n",
       "      <th></th>\n",
       "      <th>numOccurrences</th>\n",
       "    </tr>\n",
       "  </thead>\n",
       "  <tbody>\n",
       "    <tr>\n",
       "      <th>2017-01-12</th>\n",
       "      <td>1</td>\n",
       "    </tr>\n",
       "    <tr>\n",
       "      <th>2016-04-01</th>\n",
       "      <td>1</td>\n",
       "    </tr>\n",
       "    <tr>\n",
       "      <th>2016-04-03</th>\n",
       "      <td>1</td>\n",
       "    </tr>\n",
       "    <tr>\n",
       "      <th>2016-04-05</th>\n",
       "      <td>1</td>\n",
       "    </tr>\n",
       "    <tr>\n",
       "      <th>2016-06-04</th>\n",
       "      <td>1</td>\n",
       "    </tr>\n",
       "    <tr>\n",
       "      <th>...</th>\n",
       "      <td>...</td>\n",
       "    </tr>\n",
       "    <tr>\n",
       "      <th>2016-07-12</th>\n",
       "      <td>997</td>\n",
       "    </tr>\n",
       "    <tr>\n",
       "      <th>2016-07-25</th>\n",
       "      <td>1043</td>\n",
       "    </tr>\n",
       "    <tr>\n",
       "      <th>2016-07-27</th>\n",
       "      <td>1241</td>\n",
       "    </tr>\n",
       "    <tr>\n",
       "      <th>2016-07-28</th>\n",
       "      <td>1417</td>\n",
       "    </tr>\n",
       "    <tr>\n",
       "      <th>2016-07-26</th>\n",
       "      <td>2104</td>\n",
       "    </tr>\n",
       "  </tbody>\n",
       "</table>\n",
       "<p>1864 rows × 1 columns</p>\n",
       "</div>"
      ],
      "text/plain": [
       "            numOccurrences\n",
       "2017-01-12               1\n",
       "2016-04-01               1\n",
       "2016-04-03               1\n",
       "2016-04-05               1\n",
       "2016-06-04               1\n",
       "...                    ...\n",
       "2016-07-12             997\n",
       "2016-07-25            1043\n",
       "2016-07-27            1241\n",
       "2016-07-28            1417\n",
       "2016-07-26            2104\n",
       "\n",
       "[1864 rows x 1 columns]"
      ]
     },
     "execution_count": 91,
     "metadata": {},
     "output_type": "execute_result"
    }
   ],
   "source": [
    "# date associated with maximum number of occurencer\n",
    "times_series_Clinton.groupby(by = times_series_Clinton.index).count().sort_values('numOccurrences')"
   ]
  },
  {
   "cell_type": "markdown",
   "id": "67b3a556",
   "metadata": {},
   "source": [
    "The date associated to the peak is 26/7/2016. Let us try to understand why. Since the date of the official nominee was 26 july of 2016, the peak simply reflects the interest of media on the new candidate."
   ]
  },
  {
   "cell_type": "markdown",
   "id": "58acf805",
   "metadata": {},
   "source": [
    "### Timeseries before and after the election"
   ]
  },
  {
   "cell_type": "markdown",
   "id": "302d2805",
   "metadata": {},
   "source": [
    "In this section we want to plot the time series before and after the election. We will consider the time period of 3 month after and before the elections. In this case, since the election day for the United States presedensials of 2016 occur at 8 of November, we will consider the period from 8 of August of 2016 to 8 of February of 2017."
   ]
  },
  {
   "cell_type": "code",
   "execution_count": 53,
   "id": "83e10144",
   "metadata": {},
   "outputs": [],
   "source": [
    "#select the time period of 3 month before and after the election day\n",
    "times_series_Clinton_BA_election = pd.DataFrame()\n",
    "times_series_Clinton_BA_election[\"date\"] = times_series_Clinton.index\n",
    "times_series_Clinton_BA_election = times_series_Clinton_BA_election[(times_series_Clinton_BA_election[\"date\"] > '2016-08-08') & (times_series_Clinton_BA_election[\"date\"] < '2017-02-08')]\n",
    "\n",
    "times_series_Clinton_BA_election = pd.DataFrame(index = list(times_series_Clinton_BA_election[\"date\"]))"
   ]
  },
  {
   "cell_type": "markdown",
   "id": "2b98466d",
   "metadata": {},
   "source": [
    "Plot time series of quotes referring Hillary Clinton during the election period"
   ]
  },
  {
   "cell_type": "code",
   "execution_count": 54,
   "id": "b1829f06",
   "metadata": {},
   "outputs": [
    {
     "data": {
      "image/png": "[encoded data removed]",
      "text/plain": [
       "<Figure size 1296x432 with 1 Axes>"
      ]
     },
     "metadata": {
      "needs_background": "light"
     },
     "output_type": "display_data"
    }
   ],
   "source": [
    "#Plot time series\n",
    "times_series_Clinton_BA_election[\"numOccurrences\"] = 1\n",
    "\n",
    "times_series_Clinton_BA_election.groupby(by = times_series_Clinton_BA_election.index).count().plot()\n",
    "plt.rcParams[\"figure.figsize\"] = (18,6) \n",
    "plt.title(\"timeseries of the number of occurrences of quotes referring to Hillary Clinton during the election period\")\n",
    "plt.xlabel(\"time\")\n",
    "plt.show()"
   ]
  },
  {
   "cell_type": "markdown",
   "id": "24b6b8e4-0f30-4034-8615-dac77c644998",
   "metadata": {},
   "source": [
    "As we can see there is a huge decrease in the citations referred to Clinton in the period after the elections. While there is a huge number before. Indeed, the period before the election is simply debate period so lots of speaker are probably referring to her because of that. On the other hand, after the elections we assist to a huge decrease in popularity (from a mediatic point of view) due to the result in the elections."
   ]
  },
  {
   "cell_type": "markdown",
   "id": "7dbb45dd",
   "metadata": {},
   "source": [
    "### Compare with google trends"
   ]
  },
  {
   "cell_type": "code",
   "execution_count": 76,
   "id": "820f9591",
   "metadata": {},
   "outputs": [
    {
     "data": {
      "image/png": "[encoded data removed]",
      "text/plain": [
       "<Figure size 1296x432 with 1 Axes>"
      ]
     },
     "metadata": {
      "needs_background": "light"
     },
     "output_type": "display_data"
    }
   ],
   "source": [
    "#plot google trends time series referred to the number of times Hillary Clinton was search\n",
    "Clinton_google_trends = pd.read_csv('data/Clinton_google_trends.csv')\n",
    "\n",
    "Clinton_google_trends.set_index(\"Week\", inplace = True)\n",
    "Clinton_google_trends.index.name = None\n",
    "\n",
    "Clinton_google_trends.plot()\n",
    "plt.rcParams[\"figure.figsize\"] = (18,6) \n",
    "plt.title(\"Timeseries of the number of times that Hillary Clinton was search\")\n",
    "plt.xlabel(\"time\")\n",
    "plt.show()"
   ]
  },
  {
   "cell_type": "markdown",
   "id": "ae43c5c5",
   "metadata": {},
   "source": [
    "As we can see in the plots of google trends and the time series of the number of occurrences of quotes related to Hillary Clinton, there is a spike on both plots in the year of 2016. This year match the United States presidencial elections year where Hillary Clinton was the presumptive nominee of the Democratic Party and running against Donald Trump."
   ]
  },
  {
   "cell_type": "markdown",
   "id": "7e5314ae",
   "metadata": {},
   "source": [
    "Now, comparing the spikes of both plots, we see that the spike of number of occurences of quotes refering Hillary Clinton happens around the month of July and the spike of google trends happens arround November. A possible explanation for this deviation, is that we can assume that one of the main motivations for people to google a certain topic is because they read something about it, so it is plausible that the spike for the number of occurences of quotes related to a certain topic happens before the spike of google trends. In addition, probably people have googled Clinton during the period of elections which captured the global interest while the newspaper started speaking about Clinton before (because of debate periods)."
   ]
  },
  {
   "cell_type": "markdown",
   "id": "08d3e8a9",
   "metadata": {},
   "source": [
    "### Relation between attribute and speakers"
   ]
  },
  {
   "cell_type": "markdown",
   "id": "24a1a268",
   "metadata": {},
   "source": [
    "Our objective here is to realize if there is any relation between a specific attribute and the speakers of a certain politician"
   ]
  },
  {
   "cell_type": "markdown",
   "id": "c0431297",
   "metadata": {},
   "source": [
    "First to do this type of analisys, we load file with the authorID merged. This column contain the index of the speaker attributes file. This way we can search in constant time the speaker's attributes resulting in a more compact and general way to merge this values."
   ]
  },
  {
   "cell_type": "code",
   "execution_count": null,
   "id": "6d49ee9e",
   "metadata": {},
   "outputs": [],
   "source": [
    "#Load Clinton's speakers attributes file\n",
    "Clinton_atributes = pd.read_pickle(\"data/Clinton_with_attributes.pkl\")"
   ]
  },
  {
   "cell_type": "markdown",
   "id": "d5da448c",
   "metadata": {},
   "source": [
    "Furthermore, we will need a function that extract a certain attribute of every speaker that quote a certain politician, so with this in mind we develop a function for that porpose."
   ]
  },
  {
   "cell_type": "code",
   "execution_count": 51,
   "id": "65da6bbf",
   "metadata": {},
   "outputs": [],
   "source": [
    "def get_DataFrame_of_attribute(speakers_attribute_file,politician_with_attributes,attribute):\n",
    "    \"\"\"given a attribute return a dataframe with the attribute of each speaker of a certain politician\"\"\"\n",
    "\n",
    "    #get the attribute of the speaker based on speaker attribute file\n",
    "    Attribute_speaker_values = speakers_attribute_file.iloc[politician_with_attributes[\"authorId\"]][attribute]\n",
    "\n",
    "    df = pd.DataFrame()\n",
    "    df[attribute] = Attribute_speaker_values\n",
    "\n",
    "    #filter the speakers with no attribute assined\n",
    "    df = df[pd.notna(df[attribute])]\n",
    "\n",
    "    \n",
    "    return df"
   ]
  },
  {
   "cell_type": "markdown",
   "id": "69733794",
   "metadata": {},
   "source": [
    "We will need a function that return a dataframe properly fitted to do clear visualizations: "
   ]
  },
  {
   "cell_type": "code",
   "execution_count": 52,
   "id": "24c0541d",
   "metadata": {},
   "outputs": [],
   "source": [
    "def get_DataFrame_for_plot(df_raw,attribute, Relev_Num):\n",
    "    \"\"\"given a attribute and Relevant_Number return a dataframe with the relevant number of counts of speakers with a certain attribute\"\"\"\n",
    "    list_Author_attribute = []\n",
    "\n",
    "    for attribute_list in df_raw[attribute]:\n",
    "        for attribute_value in attribute_list:\n",
    "            list_Author_attribute.append(attribute_value)\n",
    "\n",
    "    Author_attribute = pd.DataFrame(list_Author_attribute)\n",
    "    Author_attribute_counts = Author_attribute.value_counts()\n",
    "\n",
    "    #Consider relevant only the attribute with more than Relev_Num counts\n",
    "    Author_attribute_values = Author_attribute_counts[Author_attribute_counts > Relev_Num]\n",
    "    Author_attribute_values\n",
    "    \n",
    "    Author_attribute_plot_values = pd.DataFrame()\n",
    "    Author_attribute_plot_values[\"counts\"] = Author_attribute_values\n",
    "    Author_attribute_plot_values = Author_attribute_plot_values.reset_index(level=0)\n",
    "    Author_attribute_plot_values = Author_attribute_plot_values.rename(columns={0:attribute})\n",
    "    \n",
    "    return Author_attribute_values, Author_attribute_plot_values"
   ]
  },
  {
   "cell_type": "markdown",
   "id": "24ae90de",
   "metadata": {},
   "source": [
    "### Relation between age and speakers "
   ]
  },
  {
   "cell_type": "markdown",
   "id": "5bb44793",
   "metadata": {},
   "source": [
    "Our objective here is to analise the age distribution of the Clinton's speakers"
   ]
  },
  {
   "cell_type": "markdown",
   "id": "bb6a691b",
   "metadata": {},
   "source": [
    "We get the age of each speaker based in their date of birth and then filter the outliers which we consider as ages larger than 100 years old. They are probably people speaking about a different Clinton (even if we have filtered the dataset we cannot be sure that all the quotes are referring to Hillary Clinton and not to another Clinton we have not removed even if we tried to remove the other most important Clinton)."
   ]
  },
  {
   "cell_type": "markdown",
   "id": "cfcaf962-ec3e-4895-a41d-5c11862b97a7",
   "metadata": {},
   "source": [
    "age_speaker_values = speaker_attributes_updated.iloc[Clinton_atributes[\"authorId\"]][\"date_of_birth\"].values\n",
    "age_list = []\n",
    "for date in age_speaker_values:\n",
    "    if date is not None:\n",
    "        age_list.append(int(date[0][1:5]))\n",
    "                        \n",
    "df_age = pd.DataFrame()\n",
    "df_age[\"age\"] = age_list\n",
    "df_age[\"age\"] = df_age[\"age\"].transform(lambda x: 2021-x) \n",
    "age_list_filtered = df_age[df_age[\"age\"]<100][\"age\"].values\n"
   ]
  },
  {
   "cell_type": "markdown",
   "id": "4cb17344",
   "metadata": {},
   "source": [
    "Plot the age distribution of Clinton's speakers"
   ]
  },
  {
   "cell_type": "code",
   "execution_count": 9,
   "id": "b275b075",
   "metadata": {},
   "outputs": [
    {
     "data": {
      "image/png": "[encoded data removed]",
      "text/plain": [
       "<Figure size 432x288 with 1 Axes>"
      ]
     },
     "metadata": {
      "needs_background": "light"
     },
     "output_type": "display_data"
    }
   ],
   "source": [
    "#plot the age distribution\n",
    "plt.hist(age_list_filtered, bins= 100)\n",
    "plt.show()"
   ]
  },
  {
   "cell_type": "markdown",
   "id": "1faba219-8035-4b9b-9f02-5cecb5b80869",
   "metadata": {},
   "source": [
    "As we can see the majority of the speakers are around 60 years old but there is a peak around 75-80 too."
   ]
  },
  {
   "cell_type": "markdown",
   "id": "a961c233",
   "metadata": {},
   "source": [
    "### Relation between ethnic group and speakers"
   ]
  },
  {
   "cell_type": "markdown",
   "id": "4e4bbff1",
   "metadata": {},
   "source": [
    "Our objective here is realize which ethnic group are talking the most about a certain politician."
   ]
  },
  {
   "cell_type": "code",
   "execution_count": 40,
   "id": "faa52f7f",
   "metadata": {},
   "outputs": [],
   "source": [
    "df_Clinton_ethnic = get_DataFrame_of_attribute(speaker_attributes_updated,Clinton_atributes,\"ethnic_group\")"
   ]
  },
  {
   "cell_type": "markdown",
   "id": "fdfc404a",
   "metadata": {},
   "source": [
    "Our final goal in this topic is to plot an histogram, so in order to have a better visualization we will just consider relevant the ethnic groups with more than 30 counts"
   ]
  },
  {
   "cell_type": "code",
   "execution_count": 46,
   "id": "0722ba9f",
   "metadata": {},
   "outputs": [
    {
     "data": {
      "text/plain": [
       "African Americans                   1227\n",
       "Jewish people                       1144\n",
       "Irish people                         357\n",
       "Multiracial American                 299\n",
       "Luo people of Kenya and Tanzania     284\n",
       "Kenyan Americans                     284\n",
       "white people                         138\n",
       "Australians                          110\n",
       "Italian American                     106\n",
       "American Jews                         93\n",
       "White Americans                       83\n",
       "Scotch-Irish Americans                78\n",
       "Czech American                        75\n",
       "Scottish American                     68\n",
       "Americans                             64\n",
       "Croatian American                     60\n",
       "Irish Americans                       45\n",
       "Russians                              36\n",
       "Armenian American                     34\n",
       "Indian American                       31\n",
       "dtype: int64"
      ]
     },
     "execution_count": 46,
     "metadata": {},
     "output_type": "execute_result"
    }
   ],
   "source": [
    "Clinton_ethnic_values, Clinton_ethnic_plot_values = get_DataFrame_for_plot(df_Clinton_ethnic,\"ethnic_group\",30)\n",
    "Clinton_ethnic_values"
   ]
  },
  {
   "cell_type": "markdown",
   "id": "01ae1c8f",
   "metadata": {},
   "source": [
    "Plot the ethnic group distribution of Clinton's speakers"
   ]
  },
  {
   "cell_type": "code",
   "execution_count": 45,
   "id": "d6cd3392",
   "metadata": {},
   "outputs": [
    {
     "data": {
      "image/png": "[encoded data removed]",
      "text/plain": [
       "<Figure size 432x288 with 1 Axes>"
      ]
     },
     "metadata": {
      "needs_background": "light"
     },
     "output_type": "display_data"
    }
   ],
   "source": [
    "#histogram for the main ethnic groups of the speakers  \n",
    "ethnic_Clinton_hist = sns.barplot(x=Clinton_ethnic_plot_values[\"counts\"], y=Clinton_ethnic_plot_values[\"ethnic_group\"].values, data=Clinton_ethnic_plot_values)\n",
    "plt.show()"
   ]
  },
  {
   "cell_type": "markdown",
   "id": "26a11b0b-804e-4665-ab11-534ae38ea9b4",
   "metadata": {},
   "source": [
    "The majority of the speakers are African Americans and Jewish"
   ]
  },
  {
   "cell_type": "markdown",
   "id": "7e41c89a",
   "metadata": {},
   "source": [
    "### Relation between academic degreee and speakers"
   ]
  },
  {
   "cell_type": "markdown",
   "id": "c08efa5f",
   "metadata": {},
   "source": [
    "Our objective here is to realize if there is any relation between the academic degree and speaker of a certain politician"
   ]
  },
  {
   "cell_type": "markdown",
   "id": "d09899b2",
   "metadata": {},
   "source": [
    "For instance lets take Clinton's speakers as our sample of study"
   ]
  },
  {
   "cell_type": "code",
   "execution_count": 47,
   "id": "3e67e88d",
   "metadata": {},
   "outputs": [],
   "source": [
    "df_Clinton_AD = get_DataFrame_of_attribute(speaker_attributes_updated,Clinton_atributes,\"academic_degree\")"
   ]
  },
  {
   "cell_type": "markdown",
   "id": "f30e80c9",
   "metadata": {},
   "source": [
    "Our final goal in this topic is to plot an histogram, so in order to have a better visualization we will just consider relevant the academic degrees with more than 5 counts"
   ]
  },
  {
   "cell_type": "code",
   "execution_count": 53,
   "id": "8d16f003",
   "metadata": {},
   "outputs": [
    {
     "data": {
      "text/plain": [
       "Bachelor of Arts                     3216\n",
       "Juris Doctor                         1577\n",
       "Bachelor of Science                   672\n",
       "Master of Business Administration     385\n",
       "Master of Science                     298\n",
       "Doctor of Laws                        274\n",
       "Doctor of Medicine                    251\n",
       "bachelor's degree                     197\n",
       "Doctor of Philosophy                  168\n",
       "Master of Letters                      92\n",
       "Candidate of Economic Sciences         35\n",
       "Bachelor of Economics                  28\n",
       "Master of Laws                         26\n",
       "doctorate                              19\n",
       "PhD in Law                             17\n",
       "Doktor Nauk in Juridical Science       14\n",
       "psychology                             12\n",
       "doctor honoris causa                   10\n",
       "Master of International Affairs         8\n",
       "dtype: int64"
      ]
     },
     "execution_count": 53,
     "metadata": {},
     "output_type": "execute_result"
    }
   ],
   "source": [
    "Clinton_AD_values, Clinton_AD_plot_values = get_DataFrame_for_plot(df_Clinton_AD,\"academic_degree\",5)\n",
    "Clinton_AD_values"
   ]
  },
  {
   "cell_type": "markdown",
   "id": "8ca06cca",
   "metadata": {},
   "source": [
    "Plot the academic degree distribution of Clinton's speakers"
   ]
  },
  {
   "cell_type": "code",
   "execution_count": 50,
   "id": "ba8365f2",
   "metadata": {},
   "outputs": [
    {
     "data": {
      "image/png": "[encoded data removed]",
      "text/plain": [
       "<Figure size 432x288 with 1 Axes>"
      ]
     },
     "metadata": {
      "needs_background": "light"
     },
     "output_type": "display_data"
    }
   ],
   "source": [
    "#histogram for the main academic degree of the speakers  \n",
    "AD_Clinton_hist = sns.barplot(x=Clinton_AD_plot_values[\"counts\"], y=Clinton_AD_plot_values[\"academic_degree\"].values, data=Clinton_AD_plot_values)\n",
    "plt.show()"
   ]
  },
  {
   "cell_type": "markdown",
   "id": "ae982a33-4d92-40b7-9881-9deb5f2f9d48",
   "metadata": {},
   "source": [
    "The majority of the speaker have a bachelor of Arts"
   ]
  },
  {
   "cell_type": "markdown",
   "id": "c5da1770-9840-47d4-9925-bc9484d8db61",
   "metadata": {},
   "source": [
    "### Conclusion"
   ]
  },
  {
   "cell_type": "markdown",
   "id": "06a10d09-ed10-499d-af7a-32eb0a7dbabf",
   "metadata": {},
   "source": [
    "In notebook Project2 we have proved the feasibility of the project and we have used the files created in the notebooks in the folder data_transformtion_notebooks to show some of the analysis we intend to do in Milestone 3 (plot times series, compare with google Trends, try to identify events by means of the time series,...). We have done it for Clinton even if we could have repeated the same analysis for Trump since we have Trump's data too. In milestone 3 we plan to redo the analysis in a more ordered way, probably we will use a chronological order to tell the story of the American political scene, starting from 2015 to 2020. Probably we will include more politicians such as Biden and Trump and we will try to indentify which events have influenced their mediatic visibility the most. Finally, as explained in the readme and as we have shown for Clinton, we plan to make some analysis on the different features of the speakers trying to compare the features of the speakers between the speakers of different politicians in order to understand if there are any noticeable difference which we can explain."
   ]
  },
  {
   "cell_type": "code",
   "execution_count": null,
   "id": "5db988a0-ac69-42ba-a361-59ee166c071d",
   "metadata": {},
   "outputs": [],
   "source": []
  }
 ],
 "metadata": {
  "kernelspec": {
   "display_name": "Python 3 (ipykernel)",
   "language": "python",
   "name": "python3"
  },
  "language_info": {
   "codemirror_mode": {
    "name": "ipython",
    "version": 3
   },
   "file_extension": ".py",
   "mimetype": "text/x-python",
   "name": "python",
   "nbconvert_exporter": "python",
   "pygments_lexer": "ipython3",
   "version": "3.9.7"
  }
 },
 "nbformat": 4,
 "nbformat_minor": 5
}
