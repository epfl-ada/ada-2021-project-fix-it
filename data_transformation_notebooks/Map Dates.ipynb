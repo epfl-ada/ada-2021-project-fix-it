{
 "cells": [
  {
   "cell_type": "markdown",
   "id": "9d3d9150",
   "metadata": {},
   "source": [
    "# Map Dates"
   ]
  },
  {
   "cell_type": "code",
   "execution_count": 3,
   "id": "2339967a",
   "metadata": {},
   "outputs": [],
   "source": [
    "import pandas as pd"
   ]
  },
  {
   "cell_type": "code",
   "execution_count": 40,
   "id": "9b81904b",
   "metadata": {},
   "outputs": [],
   "source": [
    "def filter_dataframe(year):\n",
    "# This function will be used to filter the dataset selecting the quotes of a given year containing a given word\n",
    "# in a free text search fashion.\n",
    "\n",
    "    list_df = []\n",
    "    with pd.read_json(\"../data/quotebank-\"+year+\".json.bz2\", lines=True,  chunksize = 10000, compression = 'bz2') as df_reader:\n",
    "        import concurrent.futures\n",
    "        executor = concurrent.futures.ThreadPoolExecutor(30)\n",
    "        \n",
    "        for chunk in df_reader: #we read chunk by chunk in order not to store everything in memory\n",
    "            executor.submit(filter_chunk, list_df, chunk)\n",
    "        executor.shutdown()\n",
    "            \n",
    "    df = pd.concat(list_df) #we concatenate the dataframes together to obtain a unique one\n",
    "    return df"
   ]
  },
  {
   "cell_type": "code",
   "execution_count": 41,
   "id": "213ab12f",
   "metadata": {},
   "outputs": [],
   "source": [
    "def filter_chunk(list_df, chunk):\n",
    "    chunk.drop(columns=[\"articleID\", \"phase\", \"title\", \"url\", \"articleLength\", \"names\"], inplace=True)\n",
    "    chunk.quotations = chunk.quotations.transform(lambda x: [el[\"quoteID\"] for el in x])\n",
    "    list_df.append(chunk)  #we append it to the list of dataframes\n",
    "            "
   ]
  },
  {
   "cell_type": "code",
   "execution_count": null,
   "id": "c6aae279",
   "metadata": {},
   "outputs": [],
   "source": [
    "quoteID_date = filter_dataframe(\"2020\")"
   ]
  },
  {
   "cell_type": "code",
   "execution_count": null,
   "id": "d657d9cd",
   "metadata": {},
   "outputs": [],
   "source": [
    "quoteID_date.to_csv('2020_quoteID_date.csv', index=False)"
   ]
  },
  {
   "cell_type": "code",
   "execution_count": null,
   "id": "5d960a81",
   "metadata": {},
   "outputs": [],
   "source": []
  }
 ],
 "metadata": {
  "kernelspec": {
   "display_name": "Python 3 (ipykernel)",
   "language": "python",
   "name": "python3"
  },
  "language_info": {
   "codemirror_mode": {
    "name": "ipython",
    "version": 3
   },
   "file_extension": ".py",
   "mimetype": "text/x-python",
   "name": "python",
   "nbconvert_exporter": "python",
   "pygments_lexer": "ipython3",
   "version": "3.8.11"
  }
 },
 "nbformat": 4,
 "nbformat_minor": 5
}
