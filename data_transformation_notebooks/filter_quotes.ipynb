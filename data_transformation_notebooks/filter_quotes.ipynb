{
 "cells": [
  {
   "cell_type": "markdown",
   "id": "aa603948",
   "metadata": {},
   "source": [
    "# Filter Quotes"
   ]
  },
  {
   "cell_type": "markdown",
   "id": "d2a9d313",
   "metadata": {},
   "source": [
    "In this notebook we will provide the filtering of the original dataset of quotes, more specifically we are going to filter for the keyword trump and also for quotes with only one QID."
   ]
  },
  {
   "cell_type": "code",
   "execution_count": 5,
   "id": "fba63c54",
   "metadata": {},
   "outputs": [],
   "source": [
    "import pandas as pd"
   ]
  },
  {
   "cell_type": "markdown",
   "id": "68629758",
   "metadata": {},
   "source": [
    "Load speaker attributes"
   ]
  },
  {
   "cell_type": "code",
   "execution_count": 10,
   "id": "375ac595",
   "metadata": {},
   "outputs": [
    {
     "data": {
      "text/html": [
       "<div>\n",
       "<style scoped>\n",
       "    .dataframe tbody tr th:only-of-type {\n",
       "        vertical-align: middle;\n",
       "    }\n",
       "\n",
       "    .dataframe tbody tr th {\n",
       "        vertical-align: top;\n",
       "    }\n",
       "\n",
       "    .dataframe thead th {\n",
       "        text-align: right;\n",
       "    }\n",
       "</style>\n",
       "<table border=\"1\" class=\"dataframe\">\n",
       "  <thead>\n",
       "    <tr style=\"text-align: right;\">\n",
       "      <th></th>\n",
       "      <th>aliases</th>\n",
       "      <th>date_of_birth</th>\n",
       "      <th>nationality</th>\n",
       "      <th>gender</th>\n",
       "      <th>lastrevid</th>\n",
       "      <th>ethnic_group</th>\n",
       "      <th>US_congress_bio_ID</th>\n",
       "      <th>occupation</th>\n",
       "      <th>party</th>\n",
       "      <th>academic_degree</th>\n",
       "      <th>id</th>\n",
       "      <th>label</th>\n",
       "      <th>candidacy</th>\n",
       "      <th>type</th>\n",
       "      <th>religion</th>\n",
       "    </tr>\n",
       "  </thead>\n",
       "  <tbody>\n",
       "    <tr>\n",
       "      <th>0</th>\n",
       "      <td>[Washington, President Washington, G. Washingt...</td>\n",
       "      <td>[+1732-02-22T00:00:00Z]</td>\n",
       "      <td>[Great Britain, United States of America]</td>\n",
       "      <td>[male]</td>\n",
       "      <td>1395141751</td>\n",
       "      <td>None</td>\n",
       "      <td>W000178</td>\n",
       "      <td>[politician, military officer, farmer, cartogr...</td>\n",
       "      <td>[independent politician]</td>\n",
       "      <td>None</td>\n",
       "      <td>Q23</td>\n",
       "      <td>George Washington</td>\n",
       "      <td>[1792 United States presidential election, 178...</td>\n",
       "      <td>item</td>\n",
       "      <td>[Episcopal Church]</td>\n",
       "    </tr>\n",
       "    <tr>\n",
       "      <th>1</th>\n",
       "      <td>[Douglas Noel Adams, Douglas Noël Adams, Dougl...</td>\n",
       "      <td>[+1952-03-11T00:00:00Z]</td>\n",
       "      <td>[United Kingdom]</td>\n",
       "      <td>[male]</td>\n",
       "      <td>1395737157</td>\n",
       "      <td>[White British]</td>\n",
       "      <td>None</td>\n",
       "      <td>[playwright, screenwriter, novelist, children'...</td>\n",
       "      <td>None</td>\n",
       "      <td>None</td>\n",
       "      <td>Q42</td>\n",
       "      <td>Douglas Adams</td>\n",
       "      <td>None</td>\n",
       "      <td>item</td>\n",
       "      <td>None</td>\n",
       "    </tr>\n",
       "    <tr>\n",
       "      <th>2</th>\n",
       "      <td>[Paul Marie Ghislain Otlet, Paul Marie Otlet]</td>\n",
       "      <td>[+1868-08-23T00:00:00Z]</td>\n",
       "      <td>[Belgium]</td>\n",
       "      <td>[male]</td>\n",
       "      <td>1380367296</td>\n",
       "      <td>None</td>\n",
       "      <td>None</td>\n",
       "      <td>[writer, lawyer, librarian, information scient...</td>\n",
       "      <td>None</td>\n",
       "      <td>None</td>\n",
       "      <td>Q1868</td>\n",
       "      <td>Paul Otlet</td>\n",
       "      <td>None</td>\n",
       "      <td>item</td>\n",
       "      <td>None</td>\n",
       "    </tr>\n",
       "    <tr>\n",
       "      <th>3</th>\n",
       "      <td>[George Walker Bush, Bush Jr., Dubya, GWB, Bus...</td>\n",
       "      <td>[+1946-07-06T00:00:00Z]</td>\n",
       "      <td>[United States of America]</td>\n",
       "      <td>[male]</td>\n",
       "      <td>1395142029</td>\n",
       "      <td>None</td>\n",
       "      <td>None</td>\n",
       "      <td>[politician, motivational speaker, autobiograp...</td>\n",
       "      <td>[Republican Party]</td>\n",
       "      <td>None</td>\n",
       "      <td>Q207</td>\n",
       "      <td>George W. Bush</td>\n",
       "      <td>[2000 United States presidential election, 200...</td>\n",
       "      <td>item</td>\n",
       "      <td>[United Methodist Church, Episcopal Church, Me...</td>\n",
       "    </tr>\n",
       "    <tr>\n",
       "      <th>4</th>\n",
       "      <td>[Velázquez, Diego Rodríguez de Silva y Velázqu...</td>\n",
       "      <td>[+1599-06-06T00:00:00Z]</td>\n",
       "      <td>[Spain]</td>\n",
       "      <td>[male]</td>\n",
       "      <td>1391704596</td>\n",
       "      <td>None</td>\n",
       "      <td>None</td>\n",
       "      <td>[painter]</td>\n",
       "      <td>None</td>\n",
       "      <td>None</td>\n",
       "      <td>Q297</td>\n",
       "      <td>Diego Velázquez</td>\n",
       "      <td>None</td>\n",
       "      <td>item</td>\n",
       "      <td>None</td>\n",
       "    </tr>\n",
       "    <tr>\n",
       "      <th>...</th>\n",
       "      <td>...</td>\n",
       "      <td>...</td>\n",
       "      <td>...</td>\n",
       "      <td>...</td>\n",
       "      <td>...</td>\n",
       "      <td>...</td>\n",
       "      <td>...</td>\n",
       "      <td>...</td>\n",
       "      <td>...</td>\n",
       "      <td>...</td>\n",
       "      <td>...</td>\n",
       "      <td>...</td>\n",
       "      <td>...</td>\n",
       "      <td>...</td>\n",
       "      <td>...</td>\n",
       "    </tr>\n",
       "    <tr>\n",
       "      <th>9055976</th>\n",
       "      <td>[Barker Howard]</td>\n",
       "      <td>None</td>\n",
       "      <td>[United States of America]</td>\n",
       "      <td>[male]</td>\n",
       "      <td>1397399351</td>\n",
       "      <td>None</td>\n",
       "      <td>None</td>\n",
       "      <td>[politician]</td>\n",
       "      <td>None</td>\n",
       "      <td>None</td>\n",
       "      <td>Q106406560</td>\n",
       "      <td>Barker B. Howard</td>\n",
       "      <td>None</td>\n",
       "      <td>item</td>\n",
       "      <td>None</td>\n",
       "    </tr>\n",
       "    <tr>\n",
       "      <th>9055977</th>\n",
       "      <td>[Charles Macomber]</td>\n",
       "      <td>None</td>\n",
       "      <td>[United States of America]</td>\n",
       "      <td>[male]</td>\n",
       "      <td>1397399471</td>\n",
       "      <td>None</td>\n",
       "      <td>None</td>\n",
       "      <td>[politician]</td>\n",
       "      <td>None</td>\n",
       "      <td>None</td>\n",
       "      <td>Q106406571</td>\n",
       "      <td>Charles H. Macomber</td>\n",
       "      <td>None</td>\n",
       "      <td>item</td>\n",
       "      <td>None</td>\n",
       "    </tr>\n",
       "    <tr>\n",
       "      <th>9055978</th>\n",
       "      <td>None</td>\n",
       "      <td>[+1848-04-01T00:00:00Z]</td>\n",
       "      <td>None</td>\n",
       "      <td>[female]</td>\n",
       "      <td>1397399751</td>\n",
       "      <td>None</td>\n",
       "      <td>None</td>\n",
       "      <td>None</td>\n",
       "      <td>None</td>\n",
       "      <td>None</td>\n",
       "      <td>Q106406588</td>\n",
       "      <td>Dina David</td>\n",
       "      <td>None</td>\n",
       "      <td>item</td>\n",
       "      <td>None</td>\n",
       "    </tr>\n",
       "    <tr>\n",
       "      <th>9055979</th>\n",
       "      <td>None</td>\n",
       "      <td>[+1899-03-18T00:00:00Z]</td>\n",
       "      <td>None</td>\n",
       "      <td>[female]</td>\n",
       "      <td>1397399799</td>\n",
       "      <td>None</td>\n",
       "      <td>None</td>\n",
       "      <td>None</td>\n",
       "      <td>None</td>\n",
       "      <td>None</td>\n",
       "      <td>Q106406593</td>\n",
       "      <td>Irma Dexinger</td>\n",
       "      <td>None</td>\n",
       "      <td>item</td>\n",
       "      <td>None</td>\n",
       "    </tr>\n",
       "    <tr>\n",
       "      <th>9055980</th>\n",
       "      <td>[Fred Trull]</td>\n",
       "      <td>None</td>\n",
       "      <td>[United States of America]</td>\n",
       "      <td>[male]</td>\n",
       "      <td>1397400809</td>\n",
       "      <td>None</td>\n",
       "      <td>None</td>\n",
       "      <td>[politician]</td>\n",
       "      <td>None</td>\n",
       "      <td>None</td>\n",
       "      <td>Q106406643</td>\n",
       "      <td>Fred F. Trull</td>\n",
       "      <td>None</td>\n",
       "      <td>item</td>\n",
       "      <td>None</td>\n",
       "    </tr>\n",
       "  </tbody>\n",
       "</table>\n",
       "<p>9055981 rows × 15 columns</p>\n",
       "</div>"
      ],
      "text/plain": [
       "                                                   aliases  \\\n",
       "0        [Washington, President Washington, G. Washingt...   \n",
       "1        [Douglas Noel Adams, Douglas Noël Adams, Dougl...   \n",
       "2            [Paul Marie Ghislain Otlet, Paul Marie Otlet]   \n",
       "3        [George Walker Bush, Bush Jr., Dubya, GWB, Bus...   \n",
       "4        [Velázquez, Diego Rodríguez de Silva y Velázqu...   \n",
       "...                                                    ...   \n",
       "9055976                                    [Barker Howard]   \n",
       "9055977                                 [Charles Macomber]   \n",
       "9055978                                               None   \n",
       "9055979                                               None   \n",
       "9055980                                       [Fred Trull]   \n",
       "\n",
       "                   date_of_birth                                nationality  \\\n",
       "0        [+1732-02-22T00:00:00Z]  [Great Britain, United States of America]   \n",
       "1        [+1952-03-11T00:00:00Z]                           [United Kingdom]   \n",
       "2        [+1868-08-23T00:00:00Z]                                  [Belgium]   \n",
       "3        [+1946-07-06T00:00:00Z]                 [United States of America]   \n",
       "4        [+1599-06-06T00:00:00Z]                                    [Spain]   \n",
       "...                          ...                                        ...   \n",
       "9055976                     None                 [United States of America]   \n",
       "9055977                     None                 [United States of America]   \n",
       "9055978  [+1848-04-01T00:00:00Z]                                       None   \n",
       "9055979  [+1899-03-18T00:00:00Z]                                       None   \n",
       "9055980                     None                 [United States of America]   \n",
       "\n",
       "           gender   lastrevid     ethnic_group US_congress_bio_ID  \\\n",
       "0          [male]  1395141751             None            W000178   \n",
       "1          [male]  1395737157  [White British]               None   \n",
       "2          [male]  1380367296             None               None   \n",
       "3          [male]  1395142029             None               None   \n",
       "4          [male]  1391704596             None               None   \n",
       "...           ...         ...              ...                ...   \n",
       "9055976    [male]  1397399351             None               None   \n",
       "9055977    [male]  1397399471             None               None   \n",
       "9055978  [female]  1397399751             None               None   \n",
       "9055979  [female]  1397399799             None               None   \n",
       "9055980    [male]  1397400809             None               None   \n",
       "\n",
       "                                                occupation  \\\n",
       "0        [politician, military officer, farmer, cartogr...   \n",
       "1        [playwright, screenwriter, novelist, children'...   \n",
       "2        [writer, lawyer, librarian, information scient...   \n",
       "3        [politician, motivational speaker, autobiograp...   \n",
       "4                                                [painter]   \n",
       "...                                                    ...   \n",
       "9055976                                       [politician]   \n",
       "9055977                                       [politician]   \n",
       "9055978                                               None   \n",
       "9055979                                               None   \n",
       "9055980                                       [politician]   \n",
       "\n",
       "                            party academic_degree          id  \\\n",
       "0        [independent politician]            None         Q23   \n",
       "1                            None            None         Q42   \n",
       "2                            None            None       Q1868   \n",
       "3              [Republican Party]            None        Q207   \n",
       "4                            None            None        Q297   \n",
       "...                           ...             ...         ...   \n",
       "9055976                      None            None  Q106406560   \n",
       "9055977                      None            None  Q106406571   \n",
       "9055978                      None            None  Q106406588   \n",
       "9055979                      None            None  Q106406593   \n",
       "9055980                      None            None  Q106406643   \n",
       "\n",
       "                       label  \\\n",
       "0          George Washington   \n",
       "1              Douglas Adams   \n",
       "2                 Paul Otlet   \n",
       "3             George W. Bush   \n",
       "4            Diego Velázquez   \n",
       "...                      ...   \n",
       "9055976     Barker B. Howard   \n",
       "9055977  Charles H. Macomber   \n",
       "9055978           Dina David   \n",
       "9055979        Irma Dexinger   \n",
       "9055980        Fred F. Trull   \n",
       "\n",
       "                                                 candidacy  type  \\\n",
       "0        [1792 United States presidential election, 178...  item   \n",
       "1                                                     None  item   \n",
       "2                                                     None  item   \n",
       "3        [2000 United States presidential election, 200...  item   \n",
       "4                                                     None  item   \n",
       "...                                                    ...   ...   \n",
       "9055976                                               None  item   \n",
       "9055977                                               None  item   \n",
       "9055978                                               None  item   \n",
       "9055979                                               None  item   \n",
       "9055980                                               None  item   \n",
       "\n",
       "                                                  religion  \n",
       "0                                       [Episcopal Church]  \n",
       "1                                                     None  \n",
       "2                                                     None  \n",
       "3        [United Methodist Church, Episcopal Church, Me...  \n",
       "4                                                     None  \n",
       "...                                                    ...  \n",
       "9055976                                               None  \n",
       "9055977                                               None  \n",
       "9055978                                               None  \n",
       "9055979                                               None  \n",
       "9055980                                               None  \n",
       "\n",
       "[9055981 rows x 15 columns]"
      ]
     },
     "execution_count": 10,
     "metadata": {},
     "output_type": "execute_result"
    }
   ],
   "source": [
    "speaker_attributes = pd.read_parquet(\"../data/speaker_attributes_updated.parquet\")\n",
    "\n",
    "speaker_attributes"
   ]
  },
  {
   "cell_type": "markdown",
   "id": "7615b5ad",
   "metadata": {},
   "source": [
    "Let's first look at quotes with a certain keyword"
   ]
  },
  {
   "cell_type": "code",
   "execution_count": 6,
   "id": "11b554e1",
   "metadata": {},
   "outputs": [],
   "source": [
    "def filter_dataframe(word, year):\n",
    "    \"\"\"This function will be used to filter the dataset selecting the quotes of a given year containing a given word\n",
    "    in a free text search fashion. \"\"\"\n",
    "    list_df = []\n",
    "    with pd.read_json(\"data/quotes-\"+year+\".json.bz2\", lines=True,  chunksize = 10000, compression = 'bz2') as df_reader:\n",
    "        for chunk in df_reader: #we read chunk by chunk in order not to store everything in memory\n",
    "            chunk_word = chunk[chunk['quotation'].str.contains(word)] #we create a dataframe containing the word\n",
    "            list_df.append(chunk_word)  #we append it to the list of dataframes\n",
    "    df_word = pd.concat(list_df) #we concatenate the dataframes together to obtain a unique one\n",
    "    return df_word"
   ]
  },
  {
   "cell_type": "code",
   "execution_count": 7,
   "id": "fe104029",
   "metadata": {},
   "outputs": [],
   "source": [
    "def removing_not_inherent_quotes(list_of_words, df, aliases):\n",
    "    \"\"\"This function removes the quotes containing one of the word in a list of words and \n",
    "    whose speaker is one in the aliases list \"\"\"\n",
    "    df_copy = df\n",
    "    for word in list_of_words:\n",
    "        df_copy = df_copy[~df_copy['quotation'].str.contains(word)] #we remove the quotes containing the word\n",
    "    df_new = df_copy[~df_copy['speaker'].isin(aliases)] # We remove the quotes whose speaker is in the aliases list\n",
    "    return df_new"
   ]
  },
  {
   "cell_type": "code",
   "execution_count": null,
   "id": "fc334af6",
   "metadata": {},
   "outputs": [],
   "source": [
    "#we create a list with the years corresponding to the QuoteBank dataset\n",
    "\n",
    "years_list= [\"2015\", \"2016\", \"2017\", \"2018\" ,\"2019\", \"2020\"]\n",
    "\n",
    "for year in years_list:\n",
    "    one_df_Trump = filter_dataframe(\"Trump\", year)\n",
    "    one_df_Trump.to_csv('df_Trump'+year+'.csv', index=False) #We save the files as checkpoints (it takes a long time to execute)\n",
    "    print('i finished one file')"
   ]
  },
  {
   "cell_type": "markdown",
   "id": "87ffceb1",
   "metadata": {},
   "source": [
    "Now that we have all of the quotes in separate files, we will join them together"
   ]
  },
  {
   "cell_type": "code",
   "execution_count": 8,
   "id": "f73888b3",
   "metadata": {},
   "outputs": [
    {
     "ename": "NameError",
     "evalue": "name 'years_list' is not defined",
     "output_type": "error",
     "traceback": [
      "\u001b[0;31m---------------------------------------------------------------------------\u001b[0m",
      "\u001b[0;31mNameError\u001b[0m                                 Traceback (most recent call last)",
      "\u001b[0;32m/tmp/ipykernel_81963/594504419.py\u001b[0m in \u001b[0;36m<module>\u001b[0;34m\u001b[0m\n\u001b[1;32m      2\u001b[0m \u001b[0;34m\u001b[0m\u001b[0m\n\u001b[1;32m      3\u001b[0m \u001b[0mlist_df_Trump\u001b[0m \u001b[0;34m=\u001b[0m \u001b[0;34m[\u001b[0m\u001b[0;34m]\u001b[0m\u001b[0;34m\u001b[0m\u001b[0;34m\u001b[0m\u001b[0m\n\u001b[0;32m----> 4\u001b[0;31m \u001b[0;32mfor\u001b[0m \u001b[0myear\u001b[0m \u001b[0;32min\u001b[0m \u001b[0myears_list\u001b[0m\u001b[0;34m:\u001b[0m\u001b[0;34m\u001b[0m\u001b[0;34m\u001b[0m\u001b[0m\n\u001b[0m\u001b[1;32m      5\u001b[0m     \u001b[0mone_df_Trump\u001b[0m \u001b[0;34m=\u001b[0m \u001b[0mpd\u001b[0m\u001b[0;34m.\u001b[0m\u001b[0mread_csv\u001b[0m\u001b[0;34m(\u001b[0m\u001b[0;34m'df_Trump'\u001b[0m\u001b[0;34m+\u001b[0m\u001b[0myear\u001b[0m\u001b[0;34m+\u001b[0m\u001b[0;34m'.csv'\u001b[0m\u001b[0;34m)\u001b[0m \u001b[0;31m#we read the file\u001b[0m\u001b[0;34m\u001b[0m\u001b[0;34m\u001b[0m\u001b[0m\n\u001b[1;32m      6\u001b[0m     \u001b[0mlist_df_Trump\u001b[0m\u001b[0;34m.\u001b[0m\u001b[0mappend\u001b[0m\u001b[0;34m(\u001b[0m\u001b[0mone_df_Trump\u001b[0m\u001b[0;34m)\u001b[0m \u001b[0;31m#we append the dataframe to the list of dataframes\u001b[0m\u001b[0;34m\u001b[0m\u001b[0;34m\u001b[0m\u001b[0m\n",
      "\u001b[0;31mNameError\u001b[0m: name 'years_list' is not defined"
     ]
    }
   ],
   "source": [
    "#We create a single dataframe concatenating the previously obtained dataframes\n",
    "\n",
    "list_df_Trump = []\n",
    "for year in years_list:\n",
    "    one_df_Trump = pd.read_csv('df_Trump'+year+'.csv') #we read the file\n",
    "    list_df_Trump.append(one_df_Trump) #we append the dataframe to the list of dataframes\n",
    "df_Trump = pd.concat(list_df_Trump) #we concatenate them in a single one"
   ]
  },
  {
   "cell_type": "code",
   "execution_count": null,
   "id": "4f1be90a",
   "metadata": {},
   "outputs": [],
   "source": [
    "df_Trump"
   ]
  },
  {
   "cell_type": "markdown",
   "id": "44b1ccdf",
   "metadata": {},
   "source": [
    "Removing the quotes said by Donald Trump himself and the quotes related to the family of Donald Trump or other Trumps"
   ]
  },
  {
   "cell_type": "code",
   "execution_count": null,
   "id": "86535e7b",
   "metadata": {},
   "outputs": [],
   "source": [
    "n_rows_before_cleaning = df_Trump.shape[0] "
   ]
  },
  {
   "cell_type": "code",
   "execution_count": null,
   "id": "2bd90e7c",
   "metadata": {},
   "outputs": [],
   "source": [
    "# We look for the aliases of Trump\n",
    "count = 0\n",
    "for el in speaker_attributes['aliases']:\n",
    "    count=count+1\n",
    "    if type(el) == np.ndarray:\n",
    "        if ('Trump' in el):\n",
    "            Trump_aliases = el\n",
    "            print(Trump_aliases)"
   ]
  },
  {
   "cell_type": "code",
   "execution_count": null,
   "id": "fa58f37c",
   "metadata": {},
   "outputs": [],
   "source": [
    "Trump_aliases = Trump_aliases.tolist()\n",
    "Trump_aliases.append('Donald Trump') # we add Donald Trump to the aliases since it is not present in the list\n",
    "\n",
    "# we will clean the dataframe removing all the quotes referring to the family of Trump and not to Trump himself\n",
    "Trump_family = ['Frederick Trump', 'Elizabeth Christ Trump', 'John George Trump',\n",
    "                                        'Fred Trump', 'Maryanne Trump Barry', 'Mary Trump', 'Ivana Trump', \n",
    "                                        'Melania Trump', 'Donald Trump, Jr.', 'Ivanka Trump',\n",
    "                                        'Eric Trump', 'Tiffany Trump', 'Barron Trump', 'Chrystelle Trump Bond',\n",
    "                                        'David H. Trump', 'Judd Trump', 'Kelly Trump', 'Peter Trump']\n",
    "df_Trump = removing_not_inherent_quotes(Trump_family, df_Trump, Trump_aliases)"
   ]
  },
  {
   "cell_type": "code",
   "execution_count": null,
   "id": "bafe59c0",
   "metadata": {},
   "outputs": [],
   "source": [
    "df_Trump #we have a look at the dataframe after the cleaning"
   ]
  },
  {
   "cell_type": "code",
   "execution_count": null,
   "id": "e8a43119",
   "metadata": {},
   "outputs": [],
   "source": [
    "n_rows_after_cleaning = df_Trump.shape[0]"
   ]
  },
  {
   "cell_type": "code",
   "execution_count": null,
   "id": "d5c89f8d",
   "metadata": {},
   "outputs": [],
   "source": [
    "def cleaning_results(n_rows_before, n_rows_after, person):\n",
    "    # we create a new dataframe for the sake of visualization\n",
    "    dic = {'before' : [n_rows_before], 'after' : [n_rows_after]}\n",
    "    df_visual = pd.DataFrame.from_dict(dic)\n",
    "    #print(df_visual)\n",
    "    plt.rcParams[\"figure.figsize\"] = (8,6)\n",
    "    df_visual.mean().plot(kind='bar')\n",
    "    plt.ylabel('number of quotes')\n",
    "    plt.title('number of rows before and after cleaning for '+person)\n",
    "    plt.show()"
   ]
  },
  {
   "cell_type": "code",
   "execution_count": null,
   "id": "6f94f9e4",
   "metadata": {},
   "outputs": [],
   "source": [
    "cleaning_results(n_rows_before_cleaning, n_rows_after_cleaning, 'Trump')"
   ]
  },
  {
   "cell_type": "markdown",
   "id": "2ec22a9e",
   "metadata": {},
   "source": [
    "As we can see from the plot there are a few sentences that we cleaned, the majority of them was already about Donald Trump (not about his family) and not said by Trump himself."
   ]
  },
  {
   "cell_type": "markdown",
   "id": "e2078156",
   "metadata": {},
   "source": [
    "Filter chunk by number of qids, it's not possible to identify authors with quotes that have multiple qids. "
   ]
  },
  {
   "cell_type": "code",
   "execution_count": 11,
   "id": "7ca5aead",
   "metadata": {},
   "outputs": [],
   "source": [
    "def filter_chunk_by_number_of_qids(initial_chunk, qid_number):\n",
    "    return initial_chunk[initial_chunk[\"qids\"].str.len() == 1]"
   ]
  },
  {
   "cell_type": "code",
   "execution_count": null,
   "id": "af68ed56",
   "metadata": {},
   "outputs": [],
   "source": [
    "df_Trump = filter_chunk_by_number_of_qids(df_Trump, 1)\n",
    "\n",
    "df_Trump"
   ]
  },
  {
   "cell_type": "markdown",
   "id": "49d6e573",
   "metadata": {},
   "source": [
    "Save trump dataset"
   ]
  },
  {
   "cell_type": "code",
   "execution_count": null,
   "id": "3502a458",
   "metadata": {},
   "outputs": [],
   "source": [
    "# we save it (checkpoint)\n",
    "df_Trump.to_csv('df_Trump_cleaned.csv', index=False)"
   ]
  },
  {
   "cell_type": "markdown",
   "id": "6860455b",
   "metadata": {},
   "source": [
    "### We filter the datset looking for the quotes about Hillary Cllinton"
   ]
  },
  {
   "cell_type": "code",
   "execution_count": null,
   "id": "78b4cb3c",
   "metadata": {},
   "outputs": [],
   "source": [
    "for year in years_list:\n",
    "    one_df_Clinton = filter_dataframe(\"Clinton\", year)\n",
    "    one_df_Clinton.to_pickle('df_Clinton'+year+'.pkl')\n",
    "    print('i finished one file')"
   ]
  },
  {
   "cell_type": "markdown",
   "id": "efe5b18b",
   "metadata": {},
   "source": [
    "Now we concatenate the dataframe together"
   ]
  },
  {
   "cell_type": "code",
   "execution_count": null,
   "id": "3acff1db",
   "metadata": {},
   "outputs": [],
   "source": [
    "list_df_Clinton = []\n",
    "for year in years_list:\n",
    "    one_df_Clinton = pd.read_pickle('df_Clinton'+year+'.pkl')\n",
    "    list_df_Clinton.append(one_df_Clinton)\n",
    "df_Clinton = pd.concat(list_df_Clinton)"
   ]
  },
  {
   "cell_type": "code",
   "execution_count": null,
   "id": "2b8e48ce",
   "metadata": {},
   "outputs": [],
   "source": [
    "df_Clinton.to_csv('df_Clinton.csv', index=False)"
   ]
  },
  {
   "cell_type": "code",
   "execution_count": null,
   "id": "de84ed7a",
   "metadata": {},
   "outputs": [],
   "source": [
    "df_Clinton = pd.read_csv('df_Clinton.csv')"
   ]
  },
  {
   "cell_type": "code",
   "execution_count": null,
   "id": "3ae1c23a",
   "metadata": {},
   "outputs": [],
   "source": [
    "n_rows_before_cleaning = df_Clinton.shape[0]"
   ]
  },
  {
   "cell_type": "code",
   "execution_count": null,
   "id": "a82f3e4b",
   "metadata": {},
   "outputs": [],
   "source": [
    "count = 0\n",
    "for el in parquet_frame['aliases']:\n",
    "    count=count+1\n",
    "    if type(el) == np.ndarray:\n",
    "        if ('Clinton' in el):\n",
    "            Clinton_aliases = el\n",
    "            print(Clinton_aliases)"
   ]
  },
  {
   "cell_type": "code",
   "execution_count": null,
   "id": "fd144726",
   "metadata": {},
   "outputs": [],
   "source": [
    "df_Clinton = removing_not_inherent_quotes(['William Jefferson Clinton', 'William J. Clinton', 'Bill Clinton',\n",
    "                                        'William Clinton', 'President Clinton', 'President Bill Clinton', \n",
    "                                        'George William Clinton'], \n",
    "                                        df_Clinton, ['Clinton', 'Hillary Clinton'])"
   ]
  },
  {
   "cell_type": "code",
   "execution_count": null,
   "id": "9d8ec502",
   "metadata": {},
   "outputs": [],
   "source": [
    "n_rows_after_cleaning = df_Clinton.shape[0]"
   ]
  },
  {
   "cell_type": "code",
   "execution_count": null,
   "id": "531cc1b8",
   "metadata": {},
   "outputs": [],
   "source": [
    "cleaning_results(n_rows_before_cleaning, n_rows_after_cleaning, 'Clinton')"
   ]
  },
  {
   "cell_type": "code",
   "execution_count": null,
   "id": "016d0783",
   "metadata": {},
   "outputs": [],
   "source": [
    "df_Clinton.to_csv('df_Clinton_cleaned.csv', index=False)"
   ]
  },
  {
   "cell_type": "code",
   "execution_count": null,
   "id": "edac54e5",
   "metadata": {},
   "outputs": [],
   "source": [
    "df_Clinton #we have a look at the dataframe"
   ]
  }
 ],
 "metadata": {
  "kernelspec": {
   "display_name": "Python 3 (ipykernel)",
   "language": "python",
   "name": "python3"
  },
  "language_info": {
   "codemirror_mode": {
    "name": "ipython",
    "version": 3
   },
   "file_extension": ".py",
   "mimetype": "text/x-python",
   "name": "python",
   "nbconvert_exporter": "python",
   "pygments_lexer": "ipython3",
   "version": "3.8.11"
  }
 },
 "nbformat": 4,
 "nbformat_minor": 5
}
